{
 "cells": [
  {
   "cell_type": "code",
   "execution_count": 1,
   "metadata": {},
   "outputs": [],
   "source": [
    "%matplotlib inline\n",
    "\n",
    "import pandas as pd\n",
    "from matplotlib import pyplot as plt\n",
    "import numpy as np\n",
    "import seaborn as sns\n",
    "\n",
    "import warnings\n",
    "warnings.filterwarnings(\"ignore\")"
   ]
  },
  {
   "cell_type": "code",
   "execution_count": 2,
   "metadata": {},
   "outputs": [],
   "source": [
    "from sklearn.tree import DecisionTreeClassifier\n",
    "from sklearn.ensemble import RandomForestClassifier\n",
    "from sklearn.svm import SVC \n",
    "from sklearn.linear_model import LogisticRegression\n",
    "from sklearn.metrics import confusion_matrix, classification_report, roc_curve, auc, accuracy_score\n",
    "from sklearn.preprocessing import MinMaxScaler, LabelEncoder\n",
    "from sklearn.model_selection import train_test_split, GridSearchCV, cross_val_score \n",
    "from sklearn.ensemble import GradientBoostingClassifier\n",
    "from xgboost import XGBClassifier\n",
    "from catboost import CatBoostClassifier\n",
    "from sklearn.ensemble import AdaBoostClassifier\n",
    "from lightgbm import LGBMClassifier"
   ]
  },
  {
   "cell_type": "code",
   "execution_count": 3,
   "metadata": {},
   "outputs": [],
   "source": [
    "train = pd.read_csv(\"./data/jc1c2/train.csv\")\n",
    "test = pd.read_csv(\"./data/jc1c2/test.csv\")"
   ]
  },
  {
   "cell_type": "code",
   "execution_count": 4,
   "metadata": {},
   "outputs": [
    {
     "data": {
      "text/plain": [
       "(189697, 42)"
      ]
     },
     "execution_count": 4,
     "metadata": {},
     "output_type": "execute_result"
    }
   ],
   "source": [
    "train.shape"
   ]
  },
  {
   "cell_type": "code",
   "execution_count": 5,
   "metadata": {},
   "outputs": [
    {
     "data": {
      "text/plain": [
       "(59762, 41)"
      ]
     },
     "execution_count": 5,
     "metadata": {},
     "output_type": "execute_result"
    }
   ],
   "source": [
    "test.shape"
   ]
  },
  {
   "cell_type": "code",
   "execution_count": 6,
   "metadata": {},
   "outputs": [],
   "source": [
    "y = train['income']"
   ]
  },
  {
   "cell_type": "code",
   "execution_count": 7,
   "metadata": {},
   "outputs": [],
   "source": [
    "del train['income']"
   ]
  },
  {
   "cell_type": "code",
   "execution_count": 8,
   "metadata": {},
   "outputs": [],
   "source": [
    "data= pd.concat([train,test],axis=0)\n",
    "del data['ID']"
   ]
  },
  {
   "cell_type": "code",
   "execution_count": 9,
   "metadata": {},
   "outputs": [],
   "source": [
    "data.reset_index(drop=True,inplace=True)"
   ]
  },
  {
   "cell_type": "code",
   "execution_count": 10,
   "metadata": {},
   "outputs": [
    {
     "name": "stdout",
     "output_type": "stream",
     "text": [
      "<class 'pandas.core.frame.DataFrame'>\n",
      "RangeIndex: 249459 entries, 0 to 249458\n",
      "Data columns (total 40 columns):\n",
      "age                                           242985 non-null float64\n",
      "class of worker                               248584 non-null object\n",
      "detailed industry recode                      249350 non-null float64\n",
      "detailed occupation recode                    249459 non-null int64\n",
      "education                                     248803 non-null object\n",
      "wage per hour                                 249459 non-null int64\n",
      "enroll in edu inst last wk                    248897 non-null object\n",
      "marital stat                                  249459 non-null object\n",
      "major industry code                           248307 non-null object\n",
      "major occupation code                         249244 non-null object\n",
      "race                                          249283 non-null object\n",
      "hispanic origin                               249459 non-null object\n",
      "sex                                           244388 non-null object\n",
      "member of a labor union                       249459 non-null object\n",
      "reason for unemployment                       249038 non-null object\n",
      "full or part time employment stat             247911 non-null object\n",
      "capital gains                                 249035 non-null float64\n",
      "capital losses                                249459 non-null int64\n",
      "dividends from stocks                         248216 non-null float64\n",
      "tax filer stat                                233557 non-null object\n",
      "region of previous residence                  249459 non-null object\n",
      "state of previous residence                   249459 non-null object\n",
      "detailed household and family stat            248240 non-null object\n",
      "detailed household summary in household       249459 non-null object\n",
      "migration code-change in msa                  249459 non-null object\n",
      "migration code-change in reg                  249459 non-null object\n",
      "migration code-move within reg                249459 non-null object\n",
      "live in this house 1 year ago                 249459 non-null object\n",
      "migration prev res in sunbelt                 249459 non-null object\n",
      "num persons worked for employer               249459 non-null int64\n",
      "family members under 18                       249459 non-null object\n",
      "country of birth father                       249459 non-null object\n",
      "country of birth mother                       249459 non-null object\n",
      "country of birth self                         249459 non-null object\n",
      "citizenship                                   249459 non-null object\n",
      "own business or self employed                 249459 non-null int64\n",
      "fill inc questionnaire for veteran's admin    249459 non-null object\n",
      "veterans benefits                             249459 non-null int64\n",
      "weeks worked in year                          249308 non-null float64\n",
      "year                                          248037 non-null object\n",
      "dtypes: float64(5), int64(6), object(29)\n",
      "memory usage: 76.1+ MB\n"
     ]
    }
   ],
   "source": [
    "data.info()"
   ]
  },
  {
   "cell_type": "code",
   "execution_count": 11,
   "metadata": {},
   "outputs": [
    {
     "data": {
      "text/html": [
       "<div>\n",
       "<style scoped>\n",
       "    .dataframe tbody tr th:only-of-type {\n",
       "        vertical-align: middle;\n",
       "    }\n",
       "\n",
       "    .dataframe tbody tr th {\n",
       "        vertical-align: top;\n",
       "    }\n",
       "\n",
       "    .dataframe thead th {\n",
       "        text-align: right;\n",
       "    }\n",
       "</style>\n",
       "<table border=\"1\" class=\"dataframe\">\n",
       "  <thead>\n",
       "    <tr style=\"text-align: right;\">\n",
       "      <th></th>\n",
       "      <th>age</th>\n",
       "      <th>class of worker</th>\n",
       "      <th>detailed industry recode</th>\n",
       "      <th>detailed occupation recode</th>\n",
       "      <th>education</th>\n",
       "      <th>wage per hour</th>\n",
       "      <th>enroll in edu inst last wk</th>\n",
       "      <th>marital stat</th>\n",
       "      <th>major industry code</th>\n",
       "      <th>major occupation code</th>\n",
       "      <th>...</th>\n",
       "      <th>family members under 18</th>\n",
       "      <th>country of birth father</th>\n",
       "      <th>country of birth mother</th>\n",
       "      <th>country of birth self</th>\n",
       "      <th>citizenship</th>\n",
       "      <th>own business or self employed</th>\n",
       "      <th>fill inc questionnaire for veteran's admin</th>\n",
       "      <th>veterans benefits</th>\n",
       "      <th>weeks worked in year</th>\n",
       "      <th>year</th>\n",
       "    </tr>\n",
       "  </thead>\n",
       "  <tbody>\n",
       "    <tr>\n",
       "      <td>0</td>\n",
       "      <td>47.0</td>\n",
       "      <td>Federal government</td>\n",
       "      <td>31.0</td>\n",
       "      <td>4</td>\n",
       "      <td>Bachelors degree(BA AB BS)</td>\n",
       "      <td>0</td>\n",
       "      <td>Not in universe</td>\n",
       "      <td>Married-civilian spouse present</td>\n",
       "      <td>Utilities and sanitary services</td>\n",
       "      <td>Professional specialty</td>\n",
       "      <td>...</td>\n",
       "      <td>Not in universe</td>\n",
       "      <td>United-States</td>\n",
       "      <td>United-States</td>\n",
       "      <td>United-States</td>\n",
       "      <td>Native- Born in the United States</td>\n",
       "      <td>2</td>\n",
       "      <td>Not in universe</td>\n",
       "      <td>2</td>\n",
       "      <td>52.0</td>\n",
       "      <td>95</td>\n",
       "    </tr>\n",
       "    <tr>\n",
       "      <td>1</td>\n",
       "      <td>26.0</td>\n",
       "      <td>Private</td>\n",
       "      <td>36.0</td>\n",
       "      <td>27</td>\n",
       "      <td>High school graduate</td>\n",
       "      <td>425</td>\n",
       "      <td>Not in universe</td>\n",
       "      <td>Never married</td>\n",
       "      <td>Private household services</td>\n",
       "      <td>Private household services</td>\n",
       "      <td>...</td>\n",
       "      <td>Not in universe</td>\n",
       "      <td>United-States</td>\n",
       "      <td>United-States</td>\n",
       "      <td>United-States</td>\n",
       "      <td>Native- Born in the United States</td>\n",
       "      <td>0</td>\n",
       "      <td>Not in universe</td>\n",
       "      <td>2</td>\n",
       "      <td>16.0</td>\n",
       "      <td>95</td>\n",
       "    </tr>\n",
       "    <tr>\n",
       "      <td>2</td>\n",
       "      <td>48.0</td>\n",
       "      <td>Self-employed-not incorporated</td>\n",
       "      <td>33.0</td>\n",
       "      <td>16</td>\n",
       "      <td>High school graduate</td>\n",
       "      <td>0</td>\n",
       "      <td>Not in universe</td>\n",
       "      <td>Married-civilian spouse present</td>\n",
       "      <td>Retail trade</td>\n",
       "      <td>Sales</td>\n",
       "      <td>...</td>\n",
       "      <td>Not in universe</td>\n",
       "      <td>United-States</td>\n",
       "      <td>United-States</td>\n",
       "      <td>United-States</td>\n",
       "      <td>Native- Born in the United States</td>\n",
       "      <td>0</td>\n",
       "      <td>Not in universe</td>\n",
       "      <td>2</td>\n",
       "      <td>50.0</td>\n",
       "      <td>95</td>\n",
       "    </tr>\n",
       "    <tr>\n",
       "      <td>3</td>\n",
       "      <td>8.0</td>\n",
       "      <td>Not in universe</td>\n",
       "      <td>0.0</td>\n",
       "      <td>0</td>\n",
       "      <td>Children</td>\n",
       "      <td>0</td>\n",
       "      <td>Not in universe</td>\n",
       "      <td>Never married</td>\n",
       "      <td>Not in universe or children</td>\n",
       "      <td>Not in universe</td>\n",
       "      <td>...</td>\n",
       "      <td>Both parents present</td>\n",
       "      <td>United-States</td>\n",
       "      <td>United-States</td>\n",
       "      <td>United-States</td>\n",
       "      <td>Native- Born in the United States</td>\n",
       "      <td>0</td>\n",
       "      <td>Not in universe</td>\n",
       "      <td>0</td>\n",
       "      <td>0.0</td>\n",
       "      <td>95</td>\n",
       "    </tr>\n",
       "    <tr>\n",
       "      <td>4</td>\n",
       "      <td>51.0</td>\n",
       "      <td>Private</td>\n",
       "      <td>8.0</td>\n",
       "      <td>26</td>\n",
       "      <td>Some college but no degree</td>\n",
       "      <td>0</td>\n",
       "      <td>Not in universe</td>\n",
       "      <td>Married-civilian spouse present</td>\n",
       "      <td>Manufacturing-durable goods</td>\n",
       "      <td>Adm support including clerical</td>\n",
       "      <td>...</td>\n",
       "      <td>Not in universe</td>\n",
       "      <td>United-States</td>\n",
       "      <td>United-States</td>\n",
       "      <td>United-States</td>\n",
       "      <td>Native- Born in the United States</td>\n",
       "      <td>0</td>\n",
       "      <td>Not in universe</td>\n",
       "      <td>2</td>\n",
       "      <td>52.0</td>\n",
       "      <td>95</td>\n",
       "    </tr>\n",
       "  </tbody>\n",
       "</table>\n",
       "<p>5 rows × 40 columns</p>\n",
       "</div>"
      ],
      "text/plain": [
       "    age                  class of worker  detailed industry recode  \\\n",
       "0  47.0               Federal government                      31.0   \n",
       "1  26.0                          Private                      36.0   \n",
       "2  48.0   Self-employed-not incorporated                      33.0   \n",
       "3   8.0                  Not in universe                       0.0   \n",
       "4  51.0                          Private                       8.0   \n",
       "\n",
       "   detailed occupation recode                    education  wage per hour  \\\n",
       "0                           4   Bachelors degree(BA AB BS)              0   \n",
       "1                          27         High school graduate            425   \n",
       "2                          16         High school graduate              0   \n",
       "3                           0                     Children              0   \n",
       "4                          26   Some college but no degree              0   \n",
       "\n",
       "  enroll in edu inst last wk                      marital stat  \\\n",
       "0            Not in universe   Married-civilian spouse present   \n",
       "1            Not in universe                     Never married   \n",
       "2            Not in universe   Married-civilian spouse present   \n",
       "3            Not in universe                     Never married   \n",
       "4            Not in universe   Married-civilian spouse present   \n",
       "\n",
       "                major industry code            major occupation code  ...  \\\n",
       "0   Utilities and sanitary services           Professional specialty  ...   \n",
       "1        Private household services       Private household services  ...   \n",
       "2                      Retail trade                            Sales  ...   \n",
       "3       Not in universe or children                  Not in universe  ...   \n",
       "4       Manufacturing-durable goods   Adm support including clerical  ...   \n",
       "\n",
       "  family members under 18 country of birth father country of birth mother  \\\n",
       "0         Not in universe           United-States           United-States   \n",
       "1         Not in universe           United-States           United-States   \n",
       "2         Not in universe           United-States           United-States   \n",
       "3    Both parents present           United-States           United-States   \n",
       "4         Not in universe           United-States           United-States   \n",
       "\n",
       "  country of birth self                         citizenship  \\\n",
       "0         United-States   Native- Born in the United States   \n",
       "1         United-States   Native- Born in the United States   \n",
       "2         United-States   Native- Born in the United States   \n",
       "3         United-States   Native- Born in the United States   \n",
       "4         United-States   Native- Born in the United States   \n",
       "\n",
       "  own business or self employed  fill inc questionnaire for veteran's admin  \\\n",
       "0                             2                             Not in universe   \n",
       "1                             0                             Not in universe   \n",
       "2                             0                             Not in universe   \n",
       "3                             0                             Not in universe   \n",
       "4                             0                             Not in universe   \n",
       "\n",
       "   veterans benefits  weeks worked in year year  \n",
       "0                  2                  52.0   95  \n",
       "1                  2                  16.0   95  \n",
       "2                  2                  50.0   95  \n",
       "3                  0                   0.0   95  \n",
       "4                  2                  52.0   95  \n",
       "\n",
       "[5 rows x 40 columns]"
      ]
     },
     "execution_count": 11,
     "metadata": {},
     "output_type": "execute_result"
    }
   ],
   "source": [
    "data.head()"
   ]
  },
  {
   "cell_type": "code",
   "execution_count": 12,
   "metadata": {},
   "outputs": [
    {
     "data": {
      "text/plain": [
       "age                                            6474\n",
       "class of worker                                 875\n",
       "detailed industry recode                        109\n",
       "detailed occupation recode                        0\n",
       "education                                       656\n",
       "wage per hour                                     0\n",
       "enroll in edu inst last wk                      562\n",
       "marital stat                                      0\n",
       "major industry code                            1152\n",
       "major occupation code                           215\n",
       "race                                            176\n",
       "hispanic origin                                   0\n",
       "sex                                            5071\n",
       "member of a labor union                           0\n",
       "reason for unemployment                         421\n",
       "full or part time employment stat              1548\n",
       "capital gains                                   424\n",
       "capital losses                                    0\n",
       "dividends from stocks                          1243\n",
       "tax filer stat                                15902\n",
       "region of previous residence                      0\n",
       "state of previous residence                       0\n",
       "detailed household and family stat             1219\n",
       "detailed household summary in household           0\n",
       "migration code-change in msa                      0\n",
       "migration code-change in reg                      0\n",
       "migration code-move within reg                    0\n",
       "live in this house 1 year ago                     0\n",
       "migration prev res in sunbelt                     0\n",
       "num persons worked for employer                   0\n",
       "family members under 18                           0\n",
       "country of birth father                           0\n",
       "country of birth mother                           0\n",
       "country of birth self                             0\n",
       "citizenship                                       0\n",
       "own business or self employed                     0\n",
       "fill inc questionnaire for veteran's admin        0\n",
       "veterans benefits                                 0\n",
       "weeks worked in year                            151\n",
       "year                                           1422\n",
       "dtype: int64"
      ]
     },
     "execution_count": 12,
     "metadata": {},
     "output_type": "execute_result"
    }
   ],
   "source": [
    "## 결측치 확인\n",
    "data.isnull().sum()"
   ]
  },
  {
   "cell_type": "code",
   "execution_count": 13,
   "metadata": {},
   "outputs": [
    {
     "name": "stdout",
     "output_type": "stream",
     "text": [
      "<class 'pandas.core.frame.DataFrame'>\n",
      "RangeIndex: 249459 entries, 0 to 249458\n",
      "Data columns (total 40 columns):\n",
      "age                                           242985 non-null float64\n",
      "class of worker                               248584 non-null object\n",
      "detailed industry recode                      249350 non-null float64\n",
      "detailed occupation recode                    249459 non-null int64\n",
      "education                                     248803 non-null object\n",
      "wage per hour                                 249459 non-null int64\n",
      "enroll in edu inst last wk                    248897 non-null object\n",
      "marital stat                                  249459 non-null object\n",
      "major industry code                           248307 non-null object\n",
      "major occupation code                         249244 non-null object\n",
      "race                                          249283 non-null object\n",
      "hispanic origin                               249459 non-null object\n",
      "sex                                           244388 non-null object\n",
      "member of a labor union                       249459 non-null object\n",
      "reason for unemployment                       249038 non-null object\n",
      "full or part time employment stat             247911 non-null object\n",
      "capital gains                                 249035 non-null float64\n",
      "capital losses                                249459 non-null int64\n",
      "dividends from stocks                         248216 non-null float64\n",
      "tax filer stat                                233557 non-null object\n",
      "region of previous residence                  249459 non-null object\n",
      "state of previous residence                   249459 non-null object\n",
      "detailed household and family stat            248240 non-null object\n",
      "detailed household summary in household       249459 non-null object\n",
      "migration code-change in msa                  249459 non-null object\n",
      "migration code-change in reg                  249459 non-null object\n",
      "migration code-move within reg                249459 non-null object\n",
      "live in this house 1 year ago                 249459 non-null object\n",
      "migration prev res in sunbelt                 249459 non-null object\n",
      "num persons worked for employer               249459 non-null int64\n",
      "family members under 18                       249459 non-null object\n",
      "country of birth father                       249459 non-null object\n",
      "country of birth mother                       249459 non-null object\n",
      "country of birth self                         249459 non-null object\n",
      "citizenship                                   249459 non-null object\n",
      "own business or self employed                 249459 non-null int64\n",
      "fill inc questionnaire for veteran's admin    249459 non-null object\n",
      "veterans benefits                             249459 non-null int64\n",
      "weeks worked in year                          249308 non-null float64\n",
      "year                                          248037 non-null object\n",
      "dtypes: float64(5), int64(6), object(29)\n",
      "memory usage: 76.1+ MB\n"
     ]
    }
   ],
   "source": [
    "data.info()"
   ]
  },
  {
   "cell_type": "code",
   "execution_count": 14,
   "metadata": {},
   "outputs": [
    {
     "name": "stdout",
     "output_type": "stream",
     "text": [
      "detailed occupation recode\n",
      "wage per hour\n",
      "marital stat\n",
      "hispanic origin\n",
      "member of a labor union\n",
      "capital losses\n",
      "region of previous residence\n",
      "state of previous residence\n",
      "detailed household summary in household\n",
      "migration code-change in msa\n",
      "migration code-change in reg\n",
      "migration code-move within reg\n",
      "live in this house 1 year ago\n",
      "migration prev res in sunbelt\n",
      "num persons worked for employer\n",
      "family members under 18\n",
      "country of birth father\n",
      "country of birth mother\n",
      "country of birth self\n",
      "citizenship\n",
      "own business or self employed\n",
      "fill inc questionnaire for veteran's admin\n",
      "veterans benefits\n"
     ]
    }
   ],
   "source": [
    "for col in data.columns :\n",
    "    if data[col].isnull().sum() == 0 :\n",
    "        print(col)"
   ]
  },
  {
   "cell_type": "code",
   "execution_count": 15,
   "metadata": {},
   "outputs": [
    {
     "name": "stdout",
     "output_type": "stream",
     "text": [
      "age\n",
      "class of worker\n",
      "detailed industry recode\n",
      "education\n",
      "enroll in edu inst last wk\n",
      "major industry code\n",
      "major occupation code\n",
      "race\n",
      "sex\n",
      "reason for unemployment\n",
      "full or part time employment stat\n",
      "capital gains\n",
      "dividends from stocks\n",
      "tax filer stat\n",
      "detailed household and family stat\n",
      "weeks worked in year\n",
      "year\n"
     ]
    }
   ],
   "source": [
    "for col in data.columns :\n",
    "    if data[col].isnull().sum() != 0 :\n",
    "        print(col)"
   ]
  },
  {
   "cell_type": "code",
   "execution_count": 16,
   "metadata": {},
   "outputs": [],
   "source": [
    "from tqdm import tqdm_notebook"
   ]
  },
  {
   "cell_type": "markdown",
   "metadata": {},
   "source": [
    "def get_out(col):\n",
    "    for row in tqdm_notebook(range(len(data))):\n",
    "        if(pd.isnull(data.loc[row,col])):\n",
    "            pass\n",
    "        else:\n",
    "            data.loc[row,col] = data.loc[row,col].strip()"
   ]
  },
  {
   "cell_type": "markdown",
   "metadata": {},
   "source": [
    "for col in tqdm_notebook(data.columns):\n",
    "    if (data[col].dtype == \"object\"):\n",
    "        get_out(col)\n",
    "    else:\n",
    "        pass"
   ]
  },
  {
   "cell_type": "markdown",
   "metadata": {},
   "source": [
    "for row in tqdm_notebook(range(len(data))):\n",
    "    if(pd.isnull(data.loc[row,\"class of worker\"])):\n",
    "        pass\n",
    "    else:\n",
    "        data[\"class of worker\"][row] = data[\"class of worker\"][row].replace(\" \",\"\")"
   ]
  },
  {
   "cell_type": "markdown",
   "metadata": {},
   "source": [
    "data.to_csv(\"체크포인트.csv\")"
   ]
  },
  {
   "cell_type": "markdown",
   "metadata": {},
   "source": [
    "## 1. Age"
   ]
  },
  {
   "cell_type": "markdown",
   "metadata": {},
   "source": [
    "#### 1. 연령대별 분류"
   ]
  },
  {
   "cell_type": "code",
   "execution_count": 17,
   "metadata": {},
   "outputs": [
    {
     "data": {
      "text/plain": [
       "0.0     9890\n",
       "34.0    4229\n",
       "35.0    4196\n",
       "33.0    4117\n",
       "36.0    4070\n",
       "        ... \n",
       "85.0     521\n",
       "86.0     406\n",
       "87.0     367\n",
       "88.0     313\n",
       "89.0     246\n",
       "Name: age, Length: 91, dtype: int64"
      ]
     },
     "execution_count": 17,
     "metadata": {},
     "output_type": "execute_result"
    }
   ],
   "source": [
    "data['age'].fillna(0, inplace = True)\n",
    "data['age'].value_counts()"
   ]
  },
  {
   "cell_type": "code",
   "execution_count": 18,
   "metadata": {},
   "outputs": [],
   "source": [
    "### 0~18 미성년, 18~25 청년, 26~39 중년, 40~59 중장년, 60~79 장년, 80~ 노년\n",
    "age_bin = [0, 18, 25, 40, 60, 80, 100]\n",
    "age_label = ['child','young','middle','prime','old','elder']\n",
    "age_cats = pd.cut(data['age'], age_bin, labels = age_label)"
   ]
  },
  {
   "cell_type": "code",
   "execution_count": 19,
   "metadata": {
    "scrolled": true
   },
   "outputs": [
    {
     "data": {
      "text/plain": [
       "9890"
      ]
     },
     "execution_count": 19,
     "metadata": {},
     "output_type": "execute_result"
    }
   ],
   "source": [
    "age_cats.isnull().sum()"
   ]
  },
  {
   "cell_type": "markdown",
   "metadata": {},
   "source": [
    "#### 2. detailed household summary in household 칼럼 참조/ 결측치 채우기"
   ]
  },
  {
   "cell_type": "code",
   "execution_count": 20,
   "metadata": {},
   "outputs": [
    {
     "data": {
      "application/vnd.jupyter.widget-view+json": {
       "model_id": "5316b651863a4a8bb6c1741897011ace",
       "version_major": 2,
       "version_minor": 0
      },
      "text/plain": [
       "HBox(children=(IntProgress(value=0, max=249459), HTML(value='')))"
      ]
     },
     "metadata": {},
     "output_type": "display_data"
    },
    {
     "name": "stdout",
     "output_type": "stream",
     "text": [
      "\n"
     ]
    }
   ],
   "source": [
    "### Child under 18 never married 면 child로 분류 \n",
    "### Child under 18 ever married 또는 Child 18 or older 면 young로 분류\n",
    "### \n",
    "for i in tqdm_notebook(range(len(data))) :\n",
    "    if pd.isnull(age_cats[i]) :\n",
    "        if data['detailed household summary in household'][i] == ' Child under 18 never married' :\n",
    "            age_cats[i] = 'child'\n",
    "        if data['detailed household summary in household'][i] == ' Child under 18 ever married' :\n",
    "            age_cats[i] = 'child'\n",
    "        if data['detailed household summary in household'][i] == ' Child 18 or older' :\n",
    "            age_cats[i] = 'young'"
   ]
  },
  {
   "cell_type": "markdown",
   "metadata": {},
   "source": [
    "#### 3. family members under 18 칼럼 참조/ child 채우기"
   ]
  },
  {
   "cell_type": "code",
   "execution_count": 21,
   "metadata": {},
   "outputs": [
    {
     "data": {
      "text/plain": [
       "656"
      ]
     },
     "execution_count": 21,
     "metadata": {},
     "output_type": "execute_result"
    }
   ],
   "source": [
    "data['education'].isnull().sum()"
   ]
  },
  {
   "cell_type": "code",
   "execution_count": 22,
   "metadata": {},
   "outputs": [
    {
     "data": {
      "application/vnd.jupyter.widget-view+json": {
       "model_id": "b70b28bfd72e45db9370f4acd2efb844",
       "version_major": 2,
       "version_minor": 0
      },
      "text/plain": [
       "HBox(children=(IntProgress(value=0, max=249459), HTML(value='')))"
      ]
     },
     "metadata": {},
     "output_type": "display_data"
    },
    {
     "name": "stdout",
     "output_type": "stream",
     "text": [
      "\n"
     ]
    }
   ],
   "source": [
    "for i in tqdm_notebook(range(len(data))) :\n",
    "    if pd.isnull(age_cats[i]) :\n",
    "        if data['family members under 18'][i] != ' Not in universe' and not pd.isnull(data['family members under 18'][i]) :\n",
    "            age_cats[i] = 'child'\n",
    "        if data['education'][i] == ' Children' :\n",
    "            age_cats[i] = 'child'\n",
    "        if data['detailed household and family stat'][i] == ' Child <18 never marr not in subfamily' :\n",
    "            age_cats[i] = 'child'\n",
    "            \n",
    "### 나이만 뽑고 나면 del 해서 칼럼 지워도 될듯??"
   ]
  },
  {
   "cell_type": "code",
   "execution_count": 23,
   "metadata": {},
   "outputs": [
    {
     "data": {
      "text/plain": [
       "0"
      ]
     },
     "execution_count": 23,
     "metadata": {},
     "output_type": "execute_result"
    }
   ],
   "source": [
    "data['marital stat'].isnull().sum()"
   ]
  },
  {
   "cell_type": "code",
   "execution_count": 24,
   "metadata": {},
   "outputs": [
    {
     "data": {
      "application/vnd.jupyter.widget-view+json": {
       "model_id": "93e1b5985e114da5a8f8d30f6d2fd865",
       "version_major": 2,
       "version_minor": 0
      },
      "text/plain": [
       "HBox(children=(IntProgress(value=0, max=249459), HTML(value='')))"
      ]
     },
     "metadata": {},
     "output_type": "display_data"
    },
    {
     "name": "stdout",
     "output_type": "stream",
     "text": [
      "\n"
     ]
    }
   ],
   "source": [
    "## 1. marital stat이 widowed면  old로 분류  \n",
    "## 2. Divorced면 middle\n",
    "for i in tqdm_notebook(range(len(data))) :\n",
    "    if pd.isnull(age_cats[i]) :\n",
    "        if data['marital stat'][i] == ' Widowed' :\n",
    "            age_cats[i] = 'old'\n",
    "        if data['marital stat'][i] == '  Divorced' :\n",
    "            age_cats[i] = 'prime'\n",
    "        if data['marital stat'][i] == ' Married-civilian spouse present' :\n",
    "            age_cats[i] = 'prime'\n",
    "        if data['marital stat'][i] == ' Separated' :\n",
    "            age_cats[i] = 'middle'\n",
    "        if data['marital stat'][i] == ' Married-A F spouse present' :\n",
    "            age_cats[i] = 'middle'"
   ]
  },
  {
   "cell_type": "code",
   "execution_count": 25,
   "metadata": {},
   "outputs": [
    {
     "data": {
      "text/plain": [
       "child     72118\n",
       "middle    58406\n",
       "prime     58198\n",
       "old       31646\n",
       "young     22419\n",
       "elder      5666\n",
       "Name: age, dtype: int64"
      ]
     },
     "execution_count": 25,
     "metadata": {},
     "output_type": "execute_result"
    }
   ],
   "source": [
    "age_cats.value_counts()"
   ]
  },
  {
   "cell_type": "code",
   "execution_count": 26,
   "metadata": {},
   "outputs": [
    {
     "data": {
      "text/plain": [
       "1006"
      ]
     },
     "execution_count": 26,
     "metadata": {},
     "output_type": "execute_result"
    }
   ],
   "source": [
    "age_cats.isnull().sum()"
   ]
  },
  {
   "cell_type": "code",
   "execution_count": 27,
   "metadata": {},
   "outputs": [
    {
     "data": {
      "text/plain": [
       "33.7629951214428"
      ]
     },
     "execution_count": 27,
     "metadata": {},
     "output_type": "execute_result"
    }
   ],
   "source": [
    "data['age'].mean()"
   ]
  },
  {
   "cell_type": "code",
   "execution_count": 28,
   "metadata": {},
   "outputs": [
    {
     "data": {
      "application/vnd.jupyter.widget-view+json": {
       "model_id": "09c5820e6e45419ca19855906f25eeb6",
       "version_major": 2,
       "version_minor": 0
      },
      "text/plain": [
       "HBox(children=(IntProgress(value=0, max=249459), HTML(value='')))"
      ]
     },
     "metadata": {},
     "output_type": "display_data"
    },
    {
     "name": "stdout",
     "output_type": "stream",
     "text": [
      "\n"
     ]
    }
   ],
   "source": [
    "for i in tqdm_notebook(range(len(data))) :\n",
    "    if pd.isnull(age_cats[i]) :\n",
    "        age_cats[i] = 'middle'"
   ]
  },
  {
   "cell_type": "code",
   "execution_count": 29,
   "metadata": {
    "scrolled": true
   },
   "outputs": [
    {
     "data": {
      "text/plain": [
       "0     prime\n",
       "1    middle\n",
       "2     prime\n",
       "3     child\n",
       "4     prime\n",
       "Name: age_cats, dtype: category\n",
       "Categories (6, object): [child < young < middle < prime < old < elder]"
      ]
     },
     "execution_count": 29,
     "metadata": {},
     "output_type": "execute_result"
    }
   ],
   "source": [
    "data[\"age_cats\"] = age_cats\n",
    "data['age_cats'].head()"
   ]
  },
  {
   "cell_type": "code",
   "execution_count": 30,
   "metadata": {},
   "outputs": [
    {
     "data": {
      "application/vnd.jupyter.widget-view+json": {
       "model_id": "8e4da994de47476c8f29df2fd881a67f",
       "version_major": 2,
       "version_minor": 0
      },
      "text/plain": [
       "HBox(children=(IntProgress(value=0, max=249459), HTML(value='')))"
      ]
     },
     "metadata": {},
     "output_type": "display_data"
    },
    {
     "name": "stdout",
     "output_type": "stream",
     "text": [
      "\n"
     ]
    }
   ],
   "source": [
    "### 0~18 미성년, 18~25 청년, 26~39 중년, 40~59 중장년, 60~79 장년, 80~ 노년\n",
    "for i in tqdm_notebook(range(len(data))) :\n",
    "    if pd.isnull(data['age'][i]) :\n",
    "        if data[\"age_cats\"] == 'child' :\n",
    "            data['age'][i] = 10\n",
    "        elif data[\"age_cats\"] == 'young' :    \n",
    "            data['age'][i] = 22\n",
    "        elif data[\"age_cats\"] == 'middle' :\n",
    "            data['age'][i] = 40\n",
    "        elif data[\"age_cats\"] == 'prime' :\n",
    "            data['age'][i] = 55\n",
    "        elif data[\"age_cats\"] == 'old' :\n",
    "            data['age'][i] = 70\n",
    "        elif data[\"age_cats\"] == 'elder' :\n",
    "            data['age'][i] = 85"
   ]
  },
  {
   "cell_type": "code",
   "execution_count": 31,
   "metadata": {},
   "outputs": [
    {
     "data": {
      "text/plain": [
       "0"
      ]
     },
     "execution_count": 31,
     "metadata": {},
     "output_type": "execute_result"
    }
   ],
   "source": [
    "data['age'].isnull().sum()"
   ]
  },
  {
   "cell_type": "markdown",
   "metadata": {},
   "source": [
    "## 2. Sex"
   ]
  },
  {
   "cell_type": "code",
   "execution_count": 32,
   "metadata": {},
   "outputs": [
    {
     "data": {
      "text/plain": [
       "5071"
      ]
     },
     "execution_count": 32,
     "metadata": {},
     "output_type": "execute_result"
    }
   ],
   "source": [
    "data['sex'].isnull().sum()"
   ]
  },
  {
   "cell_type": "markdown",
   "metadata": {},
   "source": [
    "### 1. 남성(householder)\n",
    "detailed household summary in household 칼럼 참조"
   ]
  },
  {
   "cell_type": "code",
   "execution_count": 33,
   "metadata": {},
   "outputs": [
    {
     "data": {
      "text/plain": [
       " Householder                             95579\n",
       " Child under 18 never married            62216\n",
       " Spouse of householder                   51910\n",
       " Child 18 or older                       17962\n",
       " Other relative of householder           12062\n",
       " Nonrelative of householder               9513\n",
       " Group Quarters- Secondary individual      161\n",
       " Child under 18 ever married                56\n",
       "Name: detailed household summary in household, dtype: int64"
      ]
     },
     "execution_count": 33,
     "metadata": {},
     "output_type": "execute_result"
    }
   ],
   "source": [
    "data['detailed household summary in household'].value_counts()"
   ]
  },
  {
   "cell_type": "markdown",
   "metadata": {},
   "source": [
    "Householder 면서 동시에 Nonfamily householder가 아니면 남성\n",
    "Spouse of householder 면 여성"
   ]
  },
  {
   "cell_type": "code",
   "execution_count": 34,
   "metadata": {},
   "outputs": [
    {
     "data": {
      "application/vnd.jupyter.widget-view+json": {
       "model_id": "f1b678f6605349308702b5fcb1e2691f",
       "version_major": 2,
       "version_minor": 0
      },
      "text/plain": [
       "HBox(children=(IntProgress(value=0, max=249459), HTML(value='')))"
      ]
     },
     "metadata": {},
     "output_type": "display_data"
    },
    {
     "name": "stdout",
     "output_type": "stream",
     "text": [
      "\n"
     ]
    },
    {
     "data": {
      "text/plain": [
       " Female    127265\n",
       " Male      119025\n",
       "?             444\n",
       "Name: sex, dtype: int64"
      ]
     },
     "execution_count": 34,
     "metadata": {},
     "output_type": "execute_result"
    }
   ],
   "source": [
    "from tqdm import tqdm_notebook\n",
    "for i in tqdm_notebook(range(len(data))) :\n",
    "    if not pd.isnull(data['sex'][i]) and data['sex'][i] !='?' :\n",
    "        pass\n",
    "    elif data['detailed household summary in household'][i] == ' Householder' \\\n",
    "    and data['detailed household and family stat'][i] != ' Nonfamily householder' :\n",
    "        data['sex'][i] = ' Male'\n",
    "    elif data['detailed household summary in household'][i] == ' Spouse of householder' :\n",
    "        data['sex'][i] = ' Female'\n",
    "data['sex'].value_counts()"
   ]
  },
  {
   "cell_type": "markdown",
   "metadata": {},
   "source": [
    "full or part time employment stat가 children or armed forces 이고 age_cats가 child이거나 age가 18세 미만이 아니면 남성"
   ]
  },
  {
   "cell_type": "code",
   "execution_count": 35,
   "metadata": {},
   "outputs": [
    {
     "data": {
      "text/plain": [
       "1548"
      ]
     },
     "execution_count": 35,
     "metadata": {},
     "output_type": "execute_result"
    }
   ],
   "source": [
    "data['full or part time employment stat'].isnull().sum()"
   ]
  },
  {
   "cell_type": "code",
   "execution_count": 36,
   "metadata": {},
   "outputs": [
    {
     "data": {
      "application/vnd.jupyter.widget-view+json": {
       "model_id": "f9654e838e694e3d82f10d2d3b86845d",
       "version_major": 2,
       "version_minor": 0
      },
      "text/plain": [
       "HBox(children=(IntProgress(value=0, max=249459), HTML(value='')))"
      ]
     },
     "metadata": {},
     "output_type": "display_data"
    },
    {
     "name": "stdout",
     "output_type": "stream",
     "text": [
      "\n"
     ]
    }
   ],
   "source": [
    "for i in tqdm_notebook(range(len(data))) :\n",
    "    if not pd.isnull(data['sex'][i]) and data['sex'][i] !='?' :\n",
    "        pass\n",
    "    elif data['full or part time employment stat'][i] == 'children or armed forces' and age_cats[i] == 'child' :\n",
    "        data['sex'][i] = ' Male'\n",
    "    elif data['full or part time employment stat'][i] == 'children or armed forces' and data['age'][i]>=18 :    \n",
    "        data['sex'][i] = ' Male'"
   ]
  },
  {
   "cell_type": "code",
   "execution_count": 37,
   "metadata": {
    "scrolled": true
   },
   "outputs": [
    {
     "data": {
      "application/vnd.jupyter.widget-view+json": {
       "model_id": "1ac5986332704a8098ada9f521ca25be",
       "version_major": 2,
       "version_minor": 0
      },
      "text/plain": [
       "HBox(children=(IntProgress(value=0, max=249459), HTML(value='')))"
      ]
     },
     "metadata": {},
     "output_type": "display_data"
    },
    {
     "name": "stdout",
     "output_type": "stream",
     "text": [
      "\n"
     ]
    }
   ],
   "source": [
    "###  Not in labor force >> Female\n",
    "for i in tqdm_notebook(range(len(data))) :\n",
    "    if not pd.isnull(data['sex'][i]) and data['sex'][i] !='?' :\n",
    "        pass\n",
    "    elif data['full or part time employment stat'][i] == ' Not in labor force' :\n",
    "        data['sex'][i] = ' Female'"
   ]
  },
  {
   "cell_type": "code",
   "execution_count": 38,
   "metadata": {},
   "outputs": [
    {
     "data": {
      "text/plain": [
       "1152"
      ]
     },
     "execution_count": 38,
     "metadata": {},
     "output_type": "execute_result"
    }
   ],
   "source": [
    "data['major industry code'].isnull().sum()"
   ]
  },
  {
   "cell_type": "code",
   "execution_count": 39,
   "metadata": {},
   "outputs": [
    {
     "data": {
      "text/plain": [
       " Not in universe or children            124140\n",
       " Retail trade                            21305\n",
       " Manufacturing-durable goods             11347\n",
       " Education                               10504\n",
       " Manufacturing-nondurable goods           8634\n",
       " Finance insurance and real estate        7760\n",
       " Construction                             7516\n",
       " Business and repair services             7237\n",
       " Medical except hospital                  5899\n",
       " Public administration                    5772\n",
       " Other professional services              5704\n",
       " Transportation                           5304\n",
       " Hospital services                        4886\n",
       " Wholesale trade                          4563\n",
       " Agriculture                              3712\n",
       " Personal services except private HH      3642\n",
       " Social services                          3108\n",
       " Entertainment                            2058\n",
       " Communications                           1507\n",
       " Utilities and sanitary services          1488\n",
       " Private household services               1174\n",
       " Mining                                    751\n",
       " Forestry and fisheries                    249\n",
       " Armed Forces                               47\n",
       "Name: major industry code, dtype: int64"
      ]
     },
     "execution_count": 39,
     "metadata": {},
     "output_type": "execute_result"
    }
   ],
   "source": [
    "data['major industry code'].value_counts()"
   ]
  },
  {
   "cell_type": "code",
   "execution_count": 40,
   "metadata": {},
   "outputs": [
    {
     "data": {
      "application/vnd.jupyter.widget-view+json": {
       "model_id": "9c5ddb41a24c455f9c77617ebfce8709",
       "version_major": 2,
       "version_minor": 0
      },
      "text/plain": [
       "HBox(children=(IntProgress(value=0, max=249459), HTML(value='')))"
      ]
     },
     "metadata": {},
     "output_type": "display_data"
    },
    {
     "name": "stdout",
     "output_type": "stream",
     "text": [
      "\n"
     ]
    }
   ],
   "source": [
    "###  직업코드 분류 : 남성\n",
    "for i in tqdm_notebook(range(len(data))) :\n",
    "    if not pd.isnull(data['sex'][i]) and data['sex'][i] !='?' :\n",
    "        pass\n",
    "    elif data['major industry code'][i] == ' Armed Forces' :\n",
    "        data['sex'][i] = ' Male'\n",
    "    elif data['major industry code'][i] == ' Manufacturing-durable goods' :\n",
    "        data['sex'][i] = ' Male'\n",
    "    elif data['major industry code'][i] == ' Manufacturing-nondurable goods' :\n",
    "        data['sex'][i] = ' Male'\n",
    "    elif data['major industry code'][i] == ' Mining' :\n",
    "        data['sex'][i] = ' Male'\n",
    "    elif data['major industry code'][i] == ' Forestry and fisheries' :\n",
    "        data['sex'][i] = ' Male'    \n",
    "    elif data['major industry code'][i] == ' Construction' :\n",
    "        data['sex'][i] = ' Male'\n",
    "    elif data['major industry code'][i] == ' Business and repair services' :\n",
    "        data['sex'][i] = ' Male'   \n",
    "    elif data['major industry code'][i] == ' Utilities and sanitary services' :\n",
    "        data['sex'][i] = ' Male'   \n",
    "    elif data['major industry code'][i] == ' Transportation' :\n",
    "        data['sex'][i] = ' Male'        \n",
    "    elif data['major industry code'][i] == ' Finance insurance and real estate' :\n",
    "        data['sex'][i] = ' Male'\n",
    "    elif data['major industry code'][i] == ' Other professional services' :\n",
    "        data['sex'][i] = ' Male'       "
   ]
  },
  {
   "cell_type": "code",
   "execution_count": 41,
   "metadata": {},
   "outputs": [
    {
     "data": {
      "application/vnd.jupyter.widget-view+json": {
       "model_id": "c6dfa8c757ea4370af36fb8fe508d43e",
       "version_major": 2,
       "version_minor": 0
      },
      "text/plain": [
       "HBox(children=(IntProgress(value=0, max=249459), HTML(value='')))"
      ]
     },
     "metadata": {},
     "output_type": "display_data"
    },
    {
     "name": "stdout",
     "output_type": "stream",
     "text": [
      "\n"
     ]
    }
   ],
   "source": [
    "### 직업 코드 분류 : 여성\n",
    "for i in tqdm_notebook(range(len(data))) :\n",
    "    if not pd.isnull(data['sex'][i]) and data['sex'][i] !='?' :\n",
    "        pass\n",
    "    elif data['major industry code'][i] == ' Private household services' :\n",
    "        data['sex'][i] = ' Female'\n",
    "    elif data['major industry code'][i] == ' Social services' :\n",
    "        data['sex'][i] = ' Female'    \n",
    "    elif data['major industry code'][i] == ' Medical except hospital' :\n",
    "        data['sex'][i] = ' Female'    \n",
    "    elif data['major industry code'][i] == ' Education' :\n",
    "        data['sex'][i] = ' Female'\n",
    "    elif data['major industry code'][i] == ' Entertainment' :\n",
    "        data['sex'][i] = ' Female'   \n",
    "    elif data['major industry code'][i] == ' Personal services except private HH' :\n",
    "        data['sex'][i] = ' Female'   \n",
    "    elif data['major industry code'][i] == ' Medical except hospital' :\n",
    "        data['sex'][i] = ' Female'   "
   ]
  },
  {
   "cell_type": "code",
   "execution_count": 42,
   "metadata": {},
   "outputs": [
    {
     "data": {
      "text/plain": [
       " Female    127783\n",
       " Male      119440\n",
       "?             302\n",
       "Name: sex, dtype: int64"
      ]
     },
     "execution_count": 42,
     "metadata": {},
     "output_type": "execute_result"
    }
   ],
   "source": [
    "data['sex'].value_counts()"
   ]
  },
  {
   "cell_type": "code",
   "execution_count": 43,
   "metadata": {},
   "outputs": [
    {
     "data": {
      "text/plain": [
       "1934"
      ]
     },
     "execution_count": 43,
     "metadata": {},
     "output_type": "execute_result"
    }
   ],
   "source": [
    "data['sex'].isnull().sum()"
   ]
  },
  {
   "cell_type": "code",
   "execution_count": 44,
   "metadata": {},
   "outputs": [
    {
     "data": {
      "application/vnd.jupyter.widget-view+json": {
       "model_id": "c01470ace7f544f4aeceee5d1880c3d8",
       "version_major": 2,
       "version_minor": 0
      },
      "text/plain": [
       "HBox(children=(IntProgress(value=0, max=249459), HTML(value='')))"
      ]
     },
     "metadata": {},
     "output_type": "display_data"
    },
    {
     "name": "stdout",
     "output_type": "stream",
     "text": [
      "\n"
     ]
    },
    {
     "data": {
      "text/plain": [
       "0"
      ]
     },
     "execution_count": 44,
     "metadata": {},
     "output_type": "execute_result"
    }
   ],
   "source": [
    "##남은거 남자로 채움\n",
    "for i in tqdm_notebook(range(len(data))) :\n",
    "    if pd.isnull(data['sex'][i]) or data['sex'][i] =='?' :\n",
    "        data['sex'][i] = ' Male'\n",
    "data['sex'].isnull().sum()"
   ]
  },
  {
   "cell_type": "markdown",
   "metadata": {},
   "source": [
    "## 3. race"
   ]
  },
  {
   "cell_type": "code",
   "execution_count": 45,
   "metadata": {},
   "outputs": [
    {
     "data": {
      "text/plain": [
       "176"
      ]
     },
     "execution_count": 45,
     "metadata": {},
     "output_type": "execute_result"
    }
   ],
   "source": [
    "data['race'].isnull().sum()"
   ]
  },
  {
   "cell_type": "code",
   "execution_count": 46,
   "metadata": {},
   "outputs": [
    {
     "data": {
      "text/plain": [
       " White                          209270\n",
       " Black                           25367\n",
       " Asian or Pacific Islander        7274\n",
       " Other                            4552\n",
       " Amer Indian Aleut or Eskimo      2820\n",
       "Name: race, dtype: int64"
      ]
     },
     "execution_count": 46,
     "metadata": {},
     "output_type": "execute_result"
    }
   ],
   "source": [
    "data['race'].value_counts()"
   ]
  },
  {
   "cell_type": "code",
   "execution_count": 47,
   "metadata": {},
   "outputs": [
    {
     "data": {
      "application/vnd.jupyter.widget-view+json": {
       "model_id": "d2c642b247654227b289f2c0dd9cfbe3",
       "version_major": 2,
       "version_minor": 0
      },
      "text/plain": [
       "HBox(children=(IntProgress(value=0, max=249459), HTML(value='')))"
      ]
     },
     "metadata": {},
     "output_type": "display_data"
    },
    {
     "name": "stdout",
     "output_type": "stream",
     "text": [
      "\n"
     ]
    }
   ],
   "source": [
    "### 엄마아빠 출신지 usa일경우 백인 아니면 흐긴\n",
    "for i in tqdm_notebook(range(len(data))) :\n",
    "    if not pd.isnull(data['race'][i]) :\n",
    "        pass\n",
    "    elif data['country of birth father'][i] == ' United-States' and data['country of birth mother'][i] == ' United-States' :\n",
    "        data['race'][i] = ' White'\n",
    "    else : \n",
    "        data['race'][i] = ' Black'"
   ]
  },
  {
   "cell_type": "code",
   "execution_count": 48,
   "metadata": {},
   "outputs": [
    {
     "data": {
      "text/plain": [
       "0"
      ]
     },
     "execution_count": 48,
     "metadata": {},
     "output_type": "execute_result"
    }
   ],
   "source": [
    "data['race'].isnull().sum()"
   ]
  },
  {
   "cell_type": "markdown",
   "metadata": {},
   "source": [
    "## 4. class of worker"
   ]
  },
  {
   "cell_type": "code",
   "execution_count": 49,
   "metadata": {},
   "outputs": [
    {
     "data": {
      "text/plain": [
       "875"
      ]
     },
     "execution_count": 49,
     "metadata": {},
     "output_type": "execute_result"
    }
   ],
   "source": [
    "data['class of worker'].isnull().sum()"
   ]
  },
  {
   "cell_type": "code",
   "execution_count": 50,
   "metadata": {},
   "outputs": [
    {
     "data": {
      "text/plain": [
       " Not in universe                   123730\n",
       " Private                            90359\n",
       " Self-employed-not incorporated     10655\n",
       " Local government                    9814\n",
       " State government                    5330\n",
       " Self-employed-incorporated          4304\n",
       " Federal government                  3668\n",
       " Never worked                         534\n",
       " Without pay                          190\n",
       "Name: class of worker, dtype: int64"
      ]
     },
     "execution_count": 50,
     "metadata": {},
     "output_type": "execute_result"
    }
   ],
   "source": [
    "data['class of worker'].value_counts()"
   ]
  },
  {
   "cell_type": "code",
   "execution_count": 51,
   "metadata": {},
   "outputs": [
    {
     "data": {
      "text/plain": [
       " High school graduate                      60059\n",
       " Children                                  58272\n",
       " Some college but no degree                34722\n",
       " Bachelors degree(BA AB BS)                25345\n",
       " 7th and 8th grade                         10008\n",
       " 10th grade                                 9371\n",
       " 11th grade                                 8588\n",
       " Masters degree(MA MS MEng MEd MSW MBA)     8533\n",
       " 9th grade                                  7687\n",
       " Associates degree-occup /vocational        6634\n",
       " Associates degree-academic program         5449\n",
       " 5th or 6th grade                           4100\n",
       " 12th grade no diploma                      2687\n",
       " Prof school degree (MD DDS DVM LLB JD)     2418\n",
       " 1st 2nd 3rd or 4th grade                   2223\n",
       " Doctorate degree(PhD EdD)                  1699\n",
       " Less than 1st grade                        1008\n",
       "Name: education, dtype: int64"
      ]
     },
     "execution_count": 51,
     "metadata": {},
     "output_type": "execute_result"
    }
   ],
   "source": [
    "data['education'].value_counts()"
   ]
  },
  {
   "cell_type": "markdown",
   "metadata": {},
   "source": [
    "#### education 결측치 채우기"
   ]
  },
  {
   "cell_type": "code",
   "execution_count": 52,
   "metadata": {},
   "outputs": [],
   "source": [
    "##일단 제일 많은걸루\n",
    "data['education'].fillna(' High school graduate', inplace=True)"
   ]
  },
  {
   "cell_type": "code",
   "execution_count": 53,
   "metadata": {},
   "outputs": [
    {
     "data": {
      "text/plain": [
       "0"
      ]
     },
     "execution_count": 53,
     "metadata": {},
     "output_type": "execute_result"
    }
   ],
   "source": [
    "data['education'].isnull().sum()"
   ]
  },
  {
   "cell_type": "code",
   "execution_count": 54,
   "metadata": {},
   "outputs": [
    {
     "data": {
      "application/vnd.jupyter.widget-view+json": {
       "model_id": "4ff5cca563014bf0a3577b67ffa8ce2f",
       "version_major": 2,
       "version_minor": 0
      },
      "text/plain": [
       "HBox(children=(IntProgress(value=0, max=249459), HTML(value='')))"
      ]
     },
     "metadata": {},
     "output_type": "display_data"
    },
    {
     "name": "stdout",
     "output_type": "stream",
     "text": [
      "\n"
     ]
    }
   ],
   "source": [
    "## child나 elder, old 는 Not in universe 그 외 private\n",
    "for i in tqdm_notebook(range(len(data))) :\n",
    "    if not pd.isnull(data['class of worker'][i]) :\n",
    "        pass\n",
    "    elif data['age_cats'][i] == 'child' or data['age_cats'][i] == 'elder' or data['age_cats'][i] == 'old' :\n",
    "        data['class of worker'][i] = ' Not in universe'\n",
    "    else :   \n",
    "        data['class of worker'][i] = ' Private'"
   ]
  },
  {
   "cell_type": "code",
   "execution_count": 55,
   "metadata": {},
   "outputs": [
    {
     "data": {
      "text/plain": [
       "0"
      ]
     },
     "execution_count": 55,
     "metadata": {},
     "output_type": "execute_result"
    }
   ],
   "source": [
    "data['class of worker'].isnull().sum()"
   ]
  },
  {
   "cell_type": "markdown",
   "metadata": {},
   "source": [
    "detailed industry recode \\\n",
    "enroll in edu inst last wk  \\\n",
    "major industry code  \\\n",
    "major occupation code  \\\n",
    "reason for unemployment  \\\n",
    "full or part time employment stat  \\\n",
    "capital gains  \\\n",
    "dividends from stocks  \\\n",
    "tax filer stat  \\\n",
    "detailed household and family stat  \\\n",
    "weeks worked in year  \\\n",
    "year"
   ]
  },
  {
   "cell_type": "markdown",
   "metadata": {},
   "source": [
    "### 5. detailed industry recode"
   ]
  },
  {
   "cell_type": "code",
   "execution_count": 56,
   "metadata": {},
   "outputs": [
    {
     "data": {
      "text/plain": [
       "0.0     124624\n",
       "33.0     21401\n",
       "43.0     10557\n",
       "4.0       7545\n",
       "42.0      5927\n",
       "45.0      5731\n",
       "29.0      5334\n",
       "37.0      5198\n",
       "41.0      4905\n",
       "32.0      4582\n",
       "35.0      4252\n",
       "39.0      3659\n",
       "34.0      3534\n",
       "44.0      3122\n",
       "2.0       2716\n",
       "11.0      2274\n",
       "50.0      2152\n",
       "47.0      2081\n",
       "38.0      2078\n",
       "40.0      2066\n",
       "24.0      1878\n",
       "12.0      1728\n",
       "19.0      1705\n",
       "30.0      1511\n",
       "31.0      1494\n",
       "25.0      1370\n",
       "9.0       1232\n",
       "36.0      1182\n",
       "22.0      1180\n",
       "13.0      1155\n",
       "1.0       1015\n",
       "48.0       805\n",
       "27.0       776\n",
       "3.0        753\n",
       "49.0       753\n",
       "21.0       714\n",
       "8.0        698\n",
       "5.0        686\n",
       "6.0        677\n",
       "23.0       671\n",
       "16.0       663\n",
       "15.0       583\n",
       "18.0       581\n",
       "7.0        551\n",
       "14.0       368\n",
       "46.0       249\n",
       "17.0       193\n",
       "28.0       174\n",
       "26.0       172\n",
       "51.0        47\n",
       "20.0        45\n",
       "10.0         3\n",
       "Name: detailed industry recode, dtype: int64"
      ]
     },
     "execution_count": 56,
     "metadata": {},
     "output_type": "execute_result"
    }
   ],
   "source": [
    "data['detailed industry recode'].value_counts()"
   ]
  },
  {
   "cell_type": "code",
   "execution_count": 57,
   "metadata": {},
   "outputs": [
    {
     "data": {
      "text/plain": [
       "109"
      ]
     },
     "execution_count": 57,
     "metadata": {},
     "output_type": "execute_result"
    }
   ],
   "source": [
    "data['detailed industry recode'].isnull().sum()"
   ]
  },
  {
   "cell_type": "code",
   "execution_count": 58,
   "metadata": {},
   "outputs": [
    {
     "data": {
      "application/vnd.jupyter.widget-view+json": {
       "model_id": "86cce12267c24f1dbeedc14b996aa5b8",
       "version_major": 2,
       "version_minor": 0
      },
      "text/plain": [
       "HBox(children=(IntProgress(value=0, max=249459), HTML(value='')))"
      ]
     },
     "metadata": {},
     "output_type": "display_data"
    },
    {
     "name": "stdout",
     "output_type": "stream",
     "text": [
      "\n"
     ]
    },
    {
     "data": {
      "text/plain": [
       "0"
      ]
     },
     "execution_count": 58,
     "metadata": {},
     "output_type": "execute_result"
    }
   ],
   "source": [
    "### 걍 0으로 채움\n",
    "for i in tqdm_notebook(range(len(data))) :\n",
    "    if pd.isnull(data['detailed industry recode'][i]) :\n",
    "        data['detailed industry recode'][i] = 0\n",
    "data['detailed industry recode'].isnull().sum()"
   ]
  },
  {
   "cell_type": "markdown",
   "metadata": {},
   "source": [
    "### 6. enroll in edu inst last wk"
   ]
  },
  {
   "cell_type": "code",
   "execution_count": 59,
   "metadata": {},
   "outputs": [
    {
     "data": {
      "text/plain": [
       " Not in universe          233315\n",
       " High school                8561\n",
       " College or university      7021\n",
       "Name: enroll in edu inst last wk, dtype: int64"
      ]
     },
     "execution_count": 59,
     "metadata": {},
     "output_type": "execute_result"
    }
   ],
   "source": [
    "data['enroll in edu inst last wk'].value_counts()"
   ]
  },
  {
   "cell_type": "code",
   "execution_count": 60,
   "metadata": {},
   "outputs": [
    {
     "data": {
      "application/vnd.jupyter.widget-view+json": {
       "model_id": "0d4f38b72dcc4aeda5f7c3df6a688e99",
       "version_major": 2,
       "version_minor": 0
      },
      "text/plain": [
       "HBox(children=(IntProgress(value=0, max=249459), HTML(value='')))"
      ]
     },
     "metadata": {},
     "output_type": "display_data"
    },
    {
     "name": "stdout",
     "output_type": "stream",
     "text": [
      "\n"
     ]
    },
    {
     "data": {
      "text/plain": [
       "0"
      ]
     },
     "execution_count": 60,
     "metadata": {},
     "output_type": "execute_result"
    }
   ],
   "source": [
    "### 걍 universe으로 채움\n",
    "for i in tqdm_notebook(range(len(data))) :\n",
    "    if pd.isnull(data['enroll in edu inst last wk'][i]) :\n",
    "        data['enroll in edu inst last wk'][i] = ' Not in universe'\n",
    "data['detailed industry recode'].isnull().sum()"
   ]
  },
  {
   "cell_type": "markdown",
   "metadata": {},
   "source": [
    "### 7. major industry code"
   ]
  },
  {
   "cell_type": "code",
   "execution_count": 61,
   "metadata": {},
   "outputs": [
    {
     "data": {
      "text/plain": [
       " Not in universe or children            124140\n",
       " Retail trade                            21305\n",
       " Manufacturing-durable goods             11347\n",
       " Education                               10504\n",
       " Manufacturing-nondurable goods           8634\n",
       " Finance insurance and real estate        7760\n",
       " Construction                             7516\n",
       " Business and repair services             7237\n",
       " Medical except hospital                  5899\n",
       " Public administration                    5772\n",
       " Other professional services              5704\n",
       " Transportation                           5304\n",
       " Hospital services                        4886\n",
       " Wholesale trade                          4563\n",
       " Agriculture                              3712\n",
       " Personal services except private HH      3642\n",
       " Social services                          3108\n",
       " Entertainment                            2058\n",
       " Communications                           1507\n",
       " Utilities and sanitary services          1488\n",
       " Private household services               1174\n",
       " Mining                                    751\n",
       " Forestry and fisheries                    249\n",
       " Armed Forces                               47\n",
       "Name: major industry code, dtype: int64"
      ]
     },
     "execution_count": 61,
     "metadata": {},
     "output_type": "execute_result"
    }
   ],
   "source": [
    "data['major industry code'].value_counts()"
   ]
  },
  {
   "cell_type": "code",
   "execution_count": 62,
   "metadata": {},
   "outputs": [
    {
     "data": {
      "text/plain": [
       "1152"
      ]
     },
     "execution_count": 62,
     "metadata": {},
     "output_type": "execute_result"
    }
   ],
   "source": [
    "data['major industry code'].isnull().sum()"
   ]
  },
  {
   "cell_type": "code",
   "execution_count": 63,
   "metadata": {},
   "outputs": [
    {
     "data": {
      "application/vnd.jupyter.widget-view+json": {
       "model_id": "7444f6fa058e4d41ba14cf667f9e8283",
       "version_major": 2,
       "version_minor": 0
      },
      "text/plain": [
       "HBox(children=(IntProgress(value=0, max=249459), HTML(value='')))"
      ]
     },
     "metadata": {},
     "output_type": "display_data"
    },
    {
     "name": "stdout",
     "output_type": "stream",
     "text": [
      "\n"
     ]
    },
    {
     "data": {
      "text/plain": [
       "0"
      ]
     },
     "execution_count": 63,
     "metadata": {},
     "output_type": "execute_result"
    }
   ],
   "source": [
    "### 걍 universe으로 채움\n",
    "for i in tqdm_notebook(range(len(data))) :\n",
    "    if pd.isnull(data['major industry code'][i]) :\n",
    "        data['major industry code'][i] = ' Not in universe or children'\n",
    "data['detailed industry recode'].isnull().sum()"
   ]
  },
  {
   "cell_type": "markdown",
   "metadata": {},
   "source": [
    "### 8. reason for unemployment"
   ]
  },
  {
   "cell_type": "code",
   "execution_count": 64,
   "metadata": {},
   "outputs": [
    {
     "data": {
      "text/plain": [
       " Not in universe          241400\n",
       " Other job loser            2633\n",
       " Re-entrant                 2535\n",
       " Job loser - on layoff      1195\n",
       " Job leaver                  741\n",
       " New entrant                 534\n",
       "Name: reason for unemployment, dtype: int64"
      ]
     },
     "execution_count": 64,
     "metadata": {},
     "output_type": "execute_result"
    }
   ],
   "source": [
    "data['reason for unemployment'].value_counts()"
   ]
  },
  {
   "cell_type": "code",
   "execution_count": 65,
   "metadata": {},
   "outputs": [
    {
     "data": {
      "text/plain": [
       "421"
      ]
     },
     "execution_count": 65,
     "metadata": {},
     "output_type": "execute_result"
    }
   ],
   "source": [
    "data['reason for unemployment'].isnull().sum()"
   ]
  },
  {
   "cell_type": "code",
   "execution_count": 66,
   "metadata": {},
   "outputs": [
    {
     "data": {
      "application/vnd.jupyter.widget-view+json": {
       "model_id": "e1083b59eb3e4b86b76b858533d0cc7c",
       "version_major": 2,
       "version_minor": 0
      },
      "text/plain": [
       "HBox(children=(IntProgress(value=0, max=249459), HTML(value='')))"
      ]
     },
     "metadata": {},
     "output_type": "display_data"
    },
    {
     "name": "stdout",
     "output_type": "stream",
     "text": [
      "\n"
     ]
    },
    {
     "data": {
      "text/plain": [
       "0"
      ]
     },
     "execution_count": 66,
     "metadata": {},
     "output_type": "execute_result"
    }
   ],
   "source": [
    "### 걍 universe으로 채움 222\n",
    "for i in tqdm_notebook(range(len(data))) :\n",
    "    if pd.isnull(data['reason for unemployment'][i]) :\n",
    "        data['reason for unemployment'][i] = ' Not in universe'\n",
    "data['reason for unemployment'].isnull().sum()"
   ]
  },
  {
   "cell_type": "markdown",
   "metadata": {},
   "source": [
    "### 9.  full or part time employment stat"
   ]
  },
  {
   "cell_type": "code",
   "execution_count": 67,
   "metadata": {},
   "outputs": [
    {
     "data": {
      "text/plain": [
       " Children or Armed Forces              153401\n",
       " Full-time schedules                    51224\n",
       " Not in labor force                     32980\n",
       " PT for non-econ reasons usually FT      4204\n",
       " Unemployed full-time                    2891\n",
       " PT for econ reasons usually PT          1526\n",
       " Unemployed part- time                   1030\n",
       " PT for econ reasons usually FT           654\n",
       "0                                           1\n",
       "Name: full or part time employment stat, dtype: int64"
      ]
     },
     "execution_count": 67,
     "metadata": {},
     "output_type": "execute_result"
    }
   ],
   "source": [
    "data['full or part time employment stat'].value_counts()"
   ]
  },
  {
   "cell_type": "code",
   "execution_count": 68,
   "metadata": {},
   "outputs": [
    {
     "data": {
      "text/plain": [
       "1548"
      ]
     },
     "execution_count": 68,
     "metadata": {},
     "output_type": "execute_result"
    }
   ],
   "source": [
    "data['full or part time employment stat'].isnull().sum()"
   ]
  },
  {
   "cell_type": "code",
   "execution_count": 69,
   "metadata": {},
   "outputs": [
    {
     "data": {
      "application/vnd.jupyter.widget-view+json": {
       "model_id": "14ad0f602c734c438db2d75f6b86de6a",
       "version_major": 2,
       "version_minor": 0
      },
      "text/plain": [
       "HBox(children=(IntProgress(value=0, max=249459), HTML(value='')))"
      ]
     },
     "metadata": {},
     "output_type": "display_data"
    },
    {
     "name": "stdout",
     "output_type": "stream",
     "text": [
      "\n"
     ]
    }
   ],
   "source": [
    "### 걍 최대치로 채움\n",
    "for i in tqdm_notebook(range(len(data))) :\n",
    "    if pd.isnull(data['full or part time employment stat'][i]) :\n",
    "        data['full or part time employment stat'][i] = ' Children or Armed Forces'\n",
    "    if data['full or part time employment stat'][i] == 0 :\n",
    "        data['full or part time employment stat'][i] = ' Children or Armed Forces'"
   ]
  },
  {
   "cell_type": "code",
   "execution_count": 70,
   "metadata": {},
   "outputs": [
    {
     "data": {
      "text/plain": [
       "0"
      ]
     },
     "execution_count": 70,
     "metadata": {},
     "output_type": "execute_result"
    }
   ],
   "source": [
    "data['full or part time employment stat'].isnull().sum()"
   ]
  },
  {
   "cell_type": "markdown",
   "metadata": {},
   "source": [
    "### 10. capital gains"
   ]
  },
  {
   "cell_type": "code",
   "execution_count": 71,
   "metadata": {},
   "outputs": [
    {
     "data": {
      "text/plain": [
       "424"
      ]
     },
     "execution_count": 71,
     "metadata": {},
     "output_type": "execute_result"
    }
   ],
   "source": [
    "data['capital gains'].isnull().sum()"
   ]
  },
  {
   "cell_type": "code",
   "execution_count": 72,
   "metadata": {
    "scrolled": false
   },
   "outputs": [
    {
     "data": {
      "text/plain": [
       "0.0        239439\n",
       "15024.0      1097\n",
       "7688.0        805\n",
       "7298.0        761\n",
       "99999.0       549\n",
       "            ...  \n",
       "4594.0          1\n",
       "2601.0          1\n",
       "8530.0          1\n",
       "2227.0          1\n",
       "2387.0          1\n",
       "Name: capital gains, Length: 132, dtype: int64"
      ]
     },
     "execution_count": 72,
     "metadata": {},
     "output_type": "execute_result"
    }
   ],
   "source": [
    "data['capital gains'].value_counts()"
   ]
  },
  {
   "cell_type": "code",
   "execution_count": 73,
   "metadata": {},
   "outputs": [
    {
     "data": {
      "text/plain": [
       "count    249035.000000\n",
       "mean        477.461791\n",
       "std        4979.973683\n",
       "min           0.000000\n",
       "25%           0.000000\n",
       "50%           0.000000\n",
       "75%           0.000000\n",
       "max       99999.000000\n",
       "Name: capital gains, dtype: float64"
      ]
     },
     "execution_count": 73,
     "metadata": {},
     "output_type": "execute_result"
    }
   ],
   "source": [
    "data['capital gains'].describe()"
   ]
  },
  {
   "cell_type": "code",
   "execution_count": 74,
   "metadata": {},
   "outputs": [
    {
     "data": {
      "application/vnd.jupyter.widget-view+json": {
       "model_id": "e0a5d41c60244df6b65ab9ca0d9f8de4",
       "version_major": 2,
       "version_minor": 0
      },
      "text/plain": [
       "HBox(children=(IntProgress(value=0, max=249459), HTML(value='')))"
      ]
     },
     "metadata": {},
     "output_type": "display_data"
    },
    {
     "name": "stdout",
     "output_type": "stream",
     "text": [
      "\n"
     ]
    },
    {
     "data": {
      "text/plain": [
       "0"
      ]
     },
     "execution_count": 74,
     "metadata": {},
     "output_type": "execute_result"
    }
   ],
   "source": [
    "### 걍 0으로 채움\n",
    "for i in tqdm_notebook(range(len(data))) :\n",
    "    if pd.isnull(data['capital gains'][i]) :\n",
    "        data['capital gains'][i] = 0\n",
    "data['capital gains'].isnull().sum()"
   ]
  },
  {
   "cell_type": "markdown",
   "metadata": {},
   "source": [
    "### 11. dividends from stocks"
   ]
  },
  {
   "cell_type": "code",
   "execution_count": 75,
   "metadata": {},
   "outputs": [
    {
     "data": {
      "text/plain": [
       "1243"
      ]
     },
     "execution_count": 75,
     "metadata": {},
     "output_type": "execute_result"
    }
   ],
   "source": [
    "data['dividends from stocks'].isnull().sum()"
   ]
  },
  {
   "cell_type": "code",
   "execution_count": 76,
   "metadata": {},
   "outputs": [
    {
     "data": {
      "text/plain": [
       "0.0        221039\n",
       "100.0        1465\n",
       "500.0        1326\n",
       "1000.0       1184\n",
       "200.0        1161\n",
       "            ...  \n",
       "15939.0         1\n",
       "3169.0          1\n",
       "81000.0         1\n",
       "3555.0          1\n",
       "1160.0          1\n",
       "Name: dividends from stocks, Length: 1595, dtype: int64"
      ]
     },
     "execution_count": 76,
     "metadata": {},
     "output_type": "execute_result"
    }
   ],
   "source": [
    "data['dividends from stocks'].value_counts()"
   ]
  },
  {
   "cell_type": "code",
   "execution_count": 77,
   "metadata": {},
   "outputs": [
    {
     "data": {
      "application/vnd.jupyter.widget-view+json": {
       "model_id": "d45821b8edcb42708825d5446a375e09",
       "version_major": 2,
       "version_minor": 0
      },
      "text/plain": [
       "HBox(children=(IntProgress(value=0, max=249459), HTML(value='')))"
      ]
     },
     "metadata": {},
     "output_type": "display_data"
    },
    {
     "name": "stdout",
     "output_type": "stream",
     "text": [
      "\n"
     ]
    },
    {
     "data": {
      "text/plain": [
       "0"
      ]
     },
     "execution_count": 77,
     "metadata": {},
     "output_type": "execute_result"
    }
   ],
   "source": [
    "### 걍 0으로 채움\n",
    "for i in tqdm_notebook(range(len(data))) :\n",
    "    if pd.isnull(data['dividends from stocks'][i]) :\n",
    "        data['dividends from stocks'][i] = 0\n",
    "data['dividends from stocks'].isnull().sum()"
   ]
  },
  {
   "cell_type": "markdown",
   "metadata": {},
   "source": [
    "### 12. tax filer stat"
   ]
  },
  {
   "cell_type": "code",
   "execution_count": 78,
   "metadata": {},
   "outputs": [
    {
     "data": {
      "text/plain": [
       "15902"
      ]
     },
     "execution_count": 78,
     "metadata": {},
     "output_type": "execute_result"
    }
   ],
   "source": [
    "data['tax filer stat'].isnull().sum()"
   ]
  },
  {
   "cell_type": "code",
   "execution_count": 79,
   "metadata": {
    "scrolled": true
   },
   "outputs": [
    {
     "data": {
      "text/plain": [
       " Nonfiler                        86840\n",
       " Joint both under 65             79805\n",
       " Single                          43869\n",
       " Joint both 65+                   9694\n",
       " Head of household                8759\n",
       " Joint one under 65 & one 65+     4590\n",
       "Name: tax filer stat, dtype: int64"
      ]
     },
     "execution_count": 79,
     "metadata": {},
     "output_type": "execute_result"
    }
   ],
   "source": [
    "data['tax filer stat'].value_counts()"
   ]
  },
  {
   "cell_type": "code",
   "execution_count": 80,
   "metadata": {
    "scrolled": false
   },
   "outputs": [
    {
     "data": {
      "application/vnd.jupyter.widget-view+json": {
       "model_id": "0b4997c87d7f472c928c7f6b8fa62bbb",
       "version_major": 2,
       "version_minor": 0
      },
      "text/plain": [
       "HBox(children=(IntProgress(value=0, max=249459), HTML(value='')))"
      ]
     },
     "metadata": {},
     "output_type": "display_data"
    },
    {
     "name": "stdout",
     "output_type": "stream",
     "text": [
      "\n"
     ]
    },
    {
     "data": {
      "text/plain": [
       "0"
      ]
     },
     "execution_count": 80,
     "metadata": {},
     "output_type": "execute_result"
    }
   ],
   "source": [
    "#### marital stat랑 연동해서 채우기\n",
    "for i in tqdm_notebook(range(len(data))) :\n",
    "    if not pd.isnull(data['tax filer stat'][i]) : pass\n",
    "    elif data['marital stat'][i] == ' Married-civilian spouse present' and data['age'][i]<65 :\n",
    "         data['tax filer stat'][i] = ' Joint both under 65'\n",
    "    elif data['marital stat'][i] == ' Married-A F spouse present' and data['age'][i]<65 :\n",
    "         data['tax filer stat'][i] = ' Joint both under 65'\n",
    "    elif data['marital stat'][i] == ' Married-civilian spouse present' and data['age'][i]>=65 :\n",
    "         data['tax filer stat'][i] = ' Joint both 65+'\n",
    "    elif data['marital stat'][i] == ' Married-A F spouse present' and data['age'][i]<65 :\n",
    "         data['tax filer stat'][i] = ' Joint both 65+'\n",
    "    elif data['marital stat'][i] == ' Divorced' :\n",
    "         data['tax filer stat'][i] = ' Single' \n",
    "    elif data['marital stat'][i] == ' Separated' :\n",
    "         data['tax filer stat'][i] = ' Head of household'\n",
    "    elif data['marital stat'][i] == ' Never married' :\n",
    "         data['tax filer stat'][i] = ' Nonfiler' \n",
    "    elif data['marital stat'][i] == ' Widowed' :\n",
    "         data['tax filer stat'][i] = ' Nonfiler' \n",
    "    elif data['marital stat'][i] == ' Married-spouse absent' :\n",
    "         data['tax filer stat'][i] = ' Nonfiler' \n",
    "            \n",
    "data['tax filer stat'].isnull().sum()"
   ]
  },
  {
   "cell_type": "code",
   "execution_count": 81,
   "metadata": {},
   "outputs": [
    {
     "data": {
      "text/plain": [
       " Nonfiler                        94760\n",
       " Joint both under 65             85420\n",
       " Single                          44869\n",
       " Joint both 65+                  10803\n",
       " Head of household                9017\n",
       " Joint one under 65 & one 65+     4590\n",
       "Name: tax filer stat, dtype: int64"
      ]
     },
     "execution_count": 81,
     "metadata": {},
     "output_type": "execute_result"
    }
   ],
   "source": [
    "data['tax filer stat'].value_counts()"
   ]
  },
  {
   "cell_type": "markdown",
   "metadata": {},
   "source": [
    "### 13. detailed household and family stat"
   ]
  },
  {
   "cell_type": "code",
   "execution_count": 82,
   "metadata": {},
   "outputs": [
    {
     "data": {
      "text/plain": [
       " Householder                                        67269\n",
       " Child <18 never marr not in subfamily              61769\n",
       " Spouse of householder                              51643\n",
       " Nonfamily householder                              27835\n",
       " Child 18+ never marr Not in a subfamily            14917\n",
       " Secondary individual                                7647\n",
       " Other Rel 18+ ever marr not in subfamily            2485\n",
       " Grandchild <18 never marr child of subfamily RP     2292\n",
       " Other Rel 18+ never marr not in subfamily           2110\n",
       " Grandchild <18 never marr not in subfamily          1300\n",
       " Child 18+ ever marr Not in a subfamily              1224\n",
       " Child under 18 of RP of unrel subfamily              907\n",
       " Child 18+ ever marr RP of subfamily                  840\n",
       " RP of unrelated subfamily                            839\n",
       " Other Rel 18+ spouse of subfamily RP                 801\n",
       " Other Rel <18 never marr child of subfamily RP       797\n",
       " Other Rel 18+ ever marr RP of subfamily              791\n",
       " Other Rel <18 never marr not in subfamily            733\n",
       " Child 18+ never marr RP of subfamily                 731\n",
       " Grandchild 18+ never marr not in subfamily           483\n",
       " In group quarters                                    235\n",
       " Child 18+ spouse of subfamily RP                     160\n",
       " Other Rel 18+ never marr RP of subfamily             126\n",
       " Child <18 never marr RP of subfamily                 102\n",
       " Spouse of RP of unrelated subfamily                   62\n",
       " Child <18 ever marr not in subfamily                  41\n",
       " Grandchild 18+ ever marr not in subfamily             38\n",
       " Child <18 ever marr RP of subfamily                   11\n",
       " Grandchild 18+ ever marr RP of subfamily              11\n",
       " Grandchild 18+ spouse of subfamily RP                 11\n",
       " Other Rel <18 ever marr RP of subfamily                6\n",
       " Other Rel <18 never married RP of subfamily            6\n",
       " Grandchild 18+ never marr RP of subfamily              6\n",
       " Other Rel <18 ever marr not in subfamily               3\n",
       " Grandchild <18 never marr RP of subfamily              3\n",
       " Child <18 spouse of subfamily RP                       3\n",
       " Grandchild <18 ever marr not in subfamily              2\n",
       " Other Rel <18 spouse of subfamily RP                   1\n",
       "Name: detailed household and family stat, dtype: int64"
      ]
     },
     "execution_count": 82,
     "metadata": {},
     "output_type": "execute_result"
    }
   ],
   "source": [
    "data['detailed household and family stat'].value_counts()"
   ]
  },
  {
   "cell_type": "code",
   "execution_count": 83,
   "metadata": {
    "scrolled": true
   },
   "outputs": [
    {
     "data": {
      "text/plain": [
       "1219"
      ]
     },
     "execution_count": 83,
     "metadata": {},
     "output_type": "execute_result"
    }
   ],
   "source": [
    "data['detailed household and family stat'].isnull().sum()"
   ]
  },
  {
   "cell_type": "code",
   "execution_count": 84,
   "metadata": {},
   "outputs": [],
   "source": [
    "### 분류 간편하게 해보자\n",
    "### 1. householder / Nonfamily householder 가장일 경우에만 1\n",
    "data['householder'] = 0"
   ]
  },
  {
   "cell_type": "code",
   "execution_count": 85,
   "metadata": {},
   "outputs": [
    {
     "data": {
      "application/vnd.jupyter.widget-view+json": {
       "model_id": "698206c1f28e45438943a2bddc03662e",
       "version_major": 2,
       "version_minor": 0
      },
      "text/plain": [
       "HBox(children=(IntProgress(value=0, max=249459), HTML(value='')))"
      ]
     },
     "metadata": {},
     "output_type": "display_data"
    },
    {
     "name": "stdout",
     "output_type": "stream",
     "text": [
      "\n"
     ]
    },
    {
     "data": {
      "text/plain": [
       "1    249459\n",
       "Name: householder, dtype: int64"
      ]
     },
     "execution_count": 85,
     "metadata": {},
     "output_type": "execute_result"
    }
   ],
   "source": [
    "for i in tqdm_notebook(range(len(data))) :\n",
    "    if data['detailed household and family stat'][i] == ' Householder' :\n",
    "        data['householder'] = 1\n",
    "    elif data['detailed household and family stat'][i] == ' Nonfamily householder' :\n",
    "        data['householder'] = 1\n",
    "    else :\n",
    "        pass\n",
    "data['householder'].value_counts()"
   ]
  },
  {
   "cell_type": "code",
   "execution_count": 86,
   "metadata": {},
   "outputs": [
    {
     "data": {
      "text/plain": [
       "0"
      ]
     },
     "execution_count": 86,
     "metadata": {},
     "output_type": "execute_result"
    }
   ],
   "source": [
    "data['householder'].isnull().sum()"
   ]
  },
  {
   "cell_type": "markdown",
   "metadata": {},
   "source": [
    "### 14. weeks worked in year"
   ]
  },
  {
   "cell_type": "code",
   "execution_count": 87,
   "metadata": {
    "scrolled": true
   },
   "outputs": [
    {
     "data": {
      "text/plain": [
       "0.0     118719\n",
       "52.0     89097\n",
       "40.0      3474\n",
       "50.0      2891\n",
       "26.0      2792\n",
       "48.0      2313\n",
       "12.0      2242\n",
       "30.0      1717\n",
       "20.0      1692\n",
       "8.0       1402\n",
       "36.0      1374\n",
       "16.0      1162\n",
       "44.0      1090\n",
       "32.0      1089\n",
       "51.0      1025\n",
       "24.0       976\n",
       "4.0        931\n",
       "10.0       890\n",
       "35.0       888\n",
       "46.0       866\n",
       "45.0       844\n",
       "6.0        784\n",
       "39.0       734\n",
       "42.0       713\n",
       "28.0       687\n",
       "49.0       662\n",
       "13.0       620\n",
       "25.0       587\n",
       "1.0        576\n",
       "2.0        559\n",
       "3.0        525\n",
       "38.0       471\n",
       "43.0       465\n",
       "15.0       458\n",
       "22.0       451\n",
       "17.0       398\n",
       "5.0        367\n",
       "47.0       328\n",
       "18.0       324\n",
       "14.0       319\n",
       "9.0        301\n",
       "34.0       286\n",
       "7.0        183\n",
       "21.0       162\n",
       "37.0       155\n",
       "41.0       111\n",
       "33.0       108\n",
       "11.0       103\n",
       "27.0        96\n",
       "23.0        87\n",
       "29.0        79\n",
       "31.0        71\n",
       "19.0        64\n",
       "Name: weeks worked in year, dtype: int64"
      ]
     },
     "execution_count": 87,
     "metadata": {},
     "output_type": "execute_result"
    }
   ],
   "source": [
    "data['weeks worked in year'].value_counts()"
   ]
  },
  {
   "cell_type": "code",
   "execution_count": 88,
   "metadata": {},
   "outputs": [
    {
     "data": {
      "text/plain": [
       "151"
      ]
     },
     "execution_count": 88,
     "metadata": {},
     "output_type": "execute_result"
    }
   ],
   "source": [
    "data['weeks worked in year'].isnull().sum()"
   ]
  },
  {
   "cell_type": "code",
   "execution_count": 89,
   "metadata": {},
   "outputs": [
    {
     "data": {
      "text/plain": [
       "count    249308.000000\n",
       "mean         23.441193\n",
       "std          24.443199\n",
       "min           0.000000\n",
       "25%           0.000000\n",
       "50%          10.000000\n",
       "75%          52.000000\n",
       "max          52.000000\n",
       "Name: weeks worked in year, dtype: float64"
      ]
     },
     "execution_count": 89,
     "metadata": {},
     "output_type": "execute_result"
    }
   ],
   "source": [
    "data['weeks worked in year'].describe()"
   ]
  },
  {
   "cell_type": "code",
   "execution_count": 90,
   "metadata": {
    "scrolled": true
   },
   "outputs": [
    {
     "data": {
      "application/vnd.jupyter.widget-view+json": {
       "model_id": "143f0d22a1344cf0a91a2d967a1ae971",
       "version_major": 2,
       "version_minor": 0
      },
      "text/plain": [
       "HBox(children=(IntProgress(value=0, max=249459), HTML(value='')))"
      ]
     },
     "metadata": {},
     "output_type": "display_data"
    },
    {
     "name": "stdout",
     "output_type": "stream",
     "text": [
      "\n"
     ]
    },
    {
     "data": {
      "text/plain": [
       "0"
      ]
     },
     "execution_count": 90,
     "metadata": {},
     "output_type": "execute_result"
    }
   ],
   "source": [
    "## 직업 참고해서 채우기 else는 mean값으로\n",
    "for i in tqdm_notebook(range(len(data))) :\n",
    "    if not pd.isnull(data['weeks worked in year'][i]) : pass  \n",
    "    elif data['class of worker'][i] == ' Not in universe' :\n",
    "        data['weeks worked in year'][i] = 0\n",
    "    else :\n",
    "        data['weeks worked in year'][i] = 23\n",
    "data['weeks worked in year'].isnull().sum()"
   ]
  },
  {
   "cell_type": "markdown",
   "metadata": {},
   "source": [
    "### 15.  major occupation code"
   ]
  },
  {
   "cell_type": "code",
   "execution_count": 91,
   "metadata": {},
   "outputs": [
    {
     "data": {
      "text/plain": [
       " Not in universe                          124573\n",
       " Adm support including clerical            18374\n",
       " Professional specialty                    17926\n",
       " Executive admin and managerial            16199\n",
       " Other service                             15151\n",
       " Sales                                     14881\n",
       " Precision production craft & repair       13254\n",
       " Machine operators assmblrs & inspctrs      7989\n",
       " Handlers equip cleaners etc                5125\n",
       " Transportation and material moving         5025\n",
       " Farming forestry and fishing               3881\n",
       " Technicians and related support            3761\n",
       " Protective services                        2072\n",
       " Private household services                  986\n",
       " Armed Forces                                 47\n",
       "Name: major occupation code, dtype: int64"
      ]
     },
     "execution_count": 91,
     "metadata": {},
     "output_type": "execute_result"
    }
   ],
   "source": [
    "data['major occupation code'].value_counts()"
   ]
  },
  {
   "cell_type": "code",
   "execution_count": 92,
   "metadata": {
    "scrolled": true
   },
   "outputs": [
    {
     "data": {
      "text/plain": [
       "215"
      ]
     },
     "execution_count": 92,
     "metadata": {},
     "output_type": "execute_result"
    }
   ],
   "source": [
    "data['major occupation code'].isnull().sum()"
   ]
  },
  {
   "cell_type": "code",
   "execution_count": 93,
   "metadata": {},
   "outputs": [
    {
     "data": {
      "text/plain": [
       " Not in universe                   124088\n",
       " Private                            90876\n",
       " Self-employed-not incorporated     10655\n",
       " Local government                    9814\n",
       " State government                    5330\n",
       " Self-employed-incorporated          4304\n",
       " Federal government                  3668\n",
       " Never worked                         534\n",
       " Without pay                          190\n",
       "Name: class of worker, dtype: int64"
      ]
     },
     "execution_count": 93,
     "metadata": {},
     "output_type": "execute_result"
    }
   ],
   "source": [
    "data['class of worker'].value_counts()"
   ]
  },
  {
   "cell_type": "code",
   "execution_count": 94,
   "metadata": {},
   "outputs": [
    {
     "data": {
      "application/vnd.jupyter.widget-view+json": {
       "model_id": "3873d57cab4d4db8a64b19db4328ff0b",
       "version_major": 2,
       "version_minor": 0
      },
      "text/plain": [
       "HBox(children=(IntProgress(value=0, max=249459), HTML(value='')))"
      ]
     },
     "metadata": {},
     "output_type": "display_data"
    },
    {
     "name": "stdout",
     "output_type": "stream",
     "text": [
      "\n"
     ]
    }
   ],
   "source": [
    "for i in tqdm_notebook(range(len(data))) :\n",
    "    if not pd.isnull(data['major occupation code'][i]) : pass  \n",
    "    elif data['class of worker'][i] == ' Not in universe' :\n",
    "        data['major occupation code'][i] = ' Not in universe'\n",
    "    else : data['major occupation code'][i] = ' Adm support including clerical'\n",
    "###걍 일단 많은애로 채우자"
   ]
  },
  {
   "cell_type": "markdown",
   "metadata": {},
   "source": [
    "### 16. year"
   ]
  },
  {
   "cell_type": "code",
   "execution_count": 95,
   "metadata": {},
   "outputs": [
    {
     "data": {
      "text/plain": [
       "1422"
      ]
     },
     "execution_count": 95,
     "metadata": {},
     "output_type": "execute_result"
    }
   ],
   "source": [
    "data['year'].isnull().sum()"
   ]
  },
  {
   "cell_type": "code",
   "execution_count": 96,
   "metadata": {
    "scrolled": true
   },
   "outputs": [
    {
     "data": {
      "text/plain": [
       "94      94586\n",
       "95      94229\n",
       "95.0    29242\n",
       "94.0    29098\n",
       "?         882\n",
       "Name: year, dtype: int64"
      ]
     },
     "execution_count": 96,
     "metadata": {},
     "output_type": "execute_result"
    }
   ],
   "source": [
    "data['year'].value_counts()"
   ]
  },
  {
   "cell_type": "markdown",
   "metadata": {},
   "source": [
    "## 17. member of a labor union"
   ]
  },
  {
   "cell_type": "code",
   "execution_count": 97,
   "metadata": {},
   "outputs": [
    {
     "data": {
      "text/plain": [
       " Not in universe    225458\n",
       " No                  20228\n",
       " Yes                  3773\n",
       "Name: member of a labor union, dtype: int64"
      ]
     },
     "execution_count": 97,
     "metadata": {},
     "output_type": "execute_result"
    }
   ],
   "source": [
    "data['member of a labor union'].value_counts()"
   ]
  },
  {
   "cell_type": "code",
   "execution_count": 98,
   "metadata": {},
   "outputs": [
    {
     "data": {
      "application/vnd.jupyter.widget-view+json": {
       "model_id": "3f254a8cd8724ceca47fb83586714ac2",
       "version_major": 2,
       "version_minor": 0
      },
      "text/plain": [
       "HBox(children=(IntProgress(value=0, max=249459), HTML(value='')))"
      ]
     },
     "metadata": {},
     "output_type": "display_data"
    },
    {
     "name": "stdout",
     "output_type": "stream",
     "text": [
      "\n"
     ]
    },
    {
     "data": {
      "text/plain": [
       " Not in universe    245686\n",
       " Yes                  3773\n",
       "Name: member of a labor union, dtype: int64"
      ]
     },
     "execution_count": 98,
     "metadata": {},
     "output_type": "execute_result"
    }
   ],
   "source": [
    "for i in tqdm_notebook(range(len(data))) :\n",
    "    if data['member of a labor union'][i] == ' No' :\n",
    "        data['member of a labor union'][i] = ' Not in universe'\n",
    "data['member of a labor union'].value_counts()"
   ]
  },
  {
   "cell_type": "markdown",
   "metadata": {},
   "source": [
    "# 따로 카테고리 분류 해줄 애들"
   ]
  },
  {
   "cell_type": "markdown",
   "metadata": {},
   "source": [
    "## 18. Capital gains"
   ]
  },
  {
   "cell_type": "code",
   "execution_count": 99,
   "metadata": {},
   "outputs": [
    {
     "data": {
      "text/html": [
       "<div>\n",
       "<style scoped>\n",
       "    .dataframe tbody tr th:only-of-type {\n",
       "        vertical-align: middle;\n",
       "    }\n",
       "\n",
       "    .dataframe tbody tr th {\n",
       "        vertical-align: top;\n",
       "    }\n",
       "\n",
       "    .dataframe thead th {\n",
       "        text-align: right;\n",
       "    }\n",
       "</style>\n",
       "<table border=\"1\" class=\"dataframe\">\n",
       "  <thead>\n",
       "    <tr style=\"text-align: right;\">\n",
       "      <th></th>\n",
       "      <th>ID</th>\n",
       "      <th>age</th>\n",
       "      <th>detailed industry recode</th>\n",
       "      <th>detailed occupation recode</th>\n",
       "      <th>wage per hour</th>\n",
       "      <th>capital losses</th>\n",
       "      <th>dividends from stocks</th>\n",
       "      <th>num persons worked for employer</th>\n",
       "      <th>own business or self employed</th>\n",
       "      <th>veterans benefits</th>\n",
       "      <th>weeks worked in year</th>\n",
       "    </tr>\n",
       "    <tr>\n",
       "      <th>capital gains</th>\n",
       "      <th></th>\n",
       "      <th></th>\n",
       "      <th></th>\n",
       "      <th></th>\n",
       "      <th></th>\n",
       "      <th></th>\n",
       "      <th></th>\n",
       "      <th></th>\n",
       "      <th></th>\n",
       "      <th></th>\n",
       "      <th></th>\n",
       "    </tr>\n",
       "  </thead>\n",
       "  <tbody>\n",
       "    <tr>\n",
       "      <td>0.0</td>\n",
       "      <td>94831.942307</td>\n",
       "      <td>33.951743</td>\n",
       "      <td>15.040503</td>\n",
       "      <td>11.179920</td>\n",
       "      <td>54.532124</td>\n",
       "      <td>38.812301</td>\n",
       "      <td>165.876555</td>\n",
       "      <td>1.908740</td>\n",
       "      <td>0.172257</td>\n",
       "      <td>1.496977</td>\n",
       "      <td>22.542241</td>\n",
       "    </tr>\n",
       "    <tr>\n",
       "      <td>114.0</td>\n",
       "      <td>71757.181818</td>\n",
       "      <td>30.800000</td>\n",
       "      <td>24.909091</td>\n",
       "      <td>29.090909</td>\n",
       "      <td>209.545455</td>\n",
       "      <td>0.000000</td>\n",
       "      <td>0.000000</td>\n",
       "      <td>4.000000</td>\n",
       "      <td>0.363636</td>\n",
       "      <td>2.000000</td>\n",
       "      <td>45.545455</td>\n",
       "    </tr>\n",
       "    <tr>\n",
       "      <td>401.0</td>\n",
       "      <td>100034.774194</td>\n",
       "      <td>75.419355</td>\n",
       "      <td>5.354839</td>\n",
       "      <td>3.967742</td>\n",
       "      <td>0.000000</td>\n",
       "      <td>0.000000</td>\n",
       "      <td>223.161290</td>\n",
       "      <td>0.354839</td>\n",
       "      <td>0.000000</td>\n",
       "      <td>1.967742</td>\n",
       "      <td>12.258065</td>\n",
       "    </tr>\n",
       "    <tr>\n",
       "      <td>594.0</td>\n",
       "      <td>89182.523810</td>\n",
       "      <td>22.317073</td>\n",
       "      <td>22.869048</td>\n",
       "      <td>20.333333</td>\n",
       "      <td>45.773810</td>\n",
       "      <td>0.000000</td>\n",
       "      <td>11.345238</td>\n",
       "      <td>3.714286</td>\n",
       "      <td>0.428571</td>\n",
       "      <td>2.000000</td>\n",
       "      <td>24.464286</td>\n",
       "    </tr>\n",
       "    <tr>\n",
       "      <td>914.0</td>\n",
       "      <td>95852.823529</td>\n",
       "      <td>41.400000</td>\n",
       "      <td>24.562500</td>\n",
       "      <td>15.411765</td>\n",
       "      <td>88.235294</td>\n",
       "      <td>0.000000</td>\n",
       "      <td>477.000000</td>\n",
       "      <td>4.647059</td>\n",
       "      <td>0.588235</td>\n",
       "      <td>2.000000</td>\n",
       "      <td>48.235294</td>\n",
       "    </tr>\n",
       "    <tr>\n",
       "      <td>...</td>\n",
       "      <td>...</td>\n",
       "      <td>...</td>\n",
       "      <td>...</td>\n",
       "      <td>...</td>\n",
       "      <td>...</td>\n",
       "      <td>...</td>\n",
       "      <td>...</td>\n",
       "      <td>...</td>\n",
       "      <td>...</td>\n",
       "      <td>...</td>\n",
       "      <td>...</td>\n",
       "    </tr>\n",
       "    <tr>\n",
       "      <td>25236.0</td>\n",
       "      <td>93931.350000</td>\n",
       "      <td>44.833333</td>\n",
       "      <td>33.300000</td>\n",
       "      <td>10.200000</td>\n",
       "      <td>30.000000</td>\n",
       "      <td>0.000000</td>\n",
       "      <td>958.950000</td>\n",
       "      <td>3.300000</td>\n",
       "      <td>0.550000</td>\n",
       "      <td>2.000000</td>\n",
       "      <td>49.000000</td>\n",
       "    </tr>\n",
       "    <tr>\n",
       "      <td>27828.0</td>\n",
       "      <td>93235.868132</td>\n",
       "      <td>42.476744</td>\n",
       "      <td>30.725275</td>\n",
       "      <td>13.373626</td>\n",
       "      <td>0.000000</td>\n",
       "      <td>0.000000</td>\n",
       "      <td>4115.197802</td>\n",
       "      <td>3.934066</td>\n",
       "      <td>0.274725</td>\n",
       "      <td>1.989011</td>\n",
       "      <td>49.087912</td>\n",
       "    </tr>\n",
       "    <tr>\n",
       "      <td>34095.0</td>\n",
       "      <td>88729.200000</td>\n",
       "      <td>22.333333</td>\n",
       "      <td>18.600000</td>\n",
       "      <td>12.100000</td>\n",
       "      <td>0.000000</td>\n",
       "      <td>0.000000</td>\n",
       "      <td>60.000000</td>\n",
       "      <td>3.600000</td>\n",
       "      <td>0.200000</td>\n",
       "      <td>2.000000</td>\n",
       "      <td>19.800000</td>\n",
       "    </tr>\n",
       "    <tr>\n",
       "      <td>41310.0</td>\n",
       "      <td>58529.000000</td>\n",
       "      <td>45.000000</td>\n",
       "      <td>4.000000</td>\n",
       "      <td>43.500000</td>\n",
       "      <td>0.000000</td>\n",
       "      <td>0.000000</td>\n",
       "      <td>0.000000</td>\n",
       "      <td>1.000000</td>\n",
       "      <td>0.000000</td>\n",
       "      <td>2.000000</td>\n",
       "      <td>36.000000</td>\n",
       "    </tr>\n",
       "    <tr>\n",
       "      <td>99999.0</td>\n",
       "      <td>96044.805405</td>\n",
       "      <td>46.641834</td>\n",
       "      <td>30.878049</td>\n",
       "      <td>9.627027</td>\n",
       "      <td>26.175676</td>\n",
       "      <td>0.000000</td>\n",
       "      <td>4721.008108</td>\n",
       "      <td>3.308108</td>\n",
       "      <td>0.270270</td>\n",
       "      <td>1.991892</td>\n",
       "      <td>47.440541</td>\n",
       "    </tr>\n",
       "  </tbody>\n",
       "</table>\n",
       "<p>132 rows × 11 columns</p>\n",
       "</div>"
      ],
      "text/plain": [
       "                          ID        age  detailed industry recode  \\\n",
       "capital gains                                                       \n",
       "0.0             94831.942307  33.951743                 15.040503   \n",
       "114.0           71757.181818  30.800000                 24.909091   \n",
       "401.0          100034.774194  75.419355                  5.354839   \n",
       "594.0           89182.523810  22.317073                 22.869048   \n",
       "914.0           95852.823529  41.400000                 24.562500   \n",
       "...                      ...        ...                       ...   \n",
       "25236.0         93931.350000  44.833333                 33.300000   \n",
       "27828.0         93235.868132  42.476744                 30.725275   \n",
       "34095.0         88729.200000  22.333333                 18.600000   \n",
       "41310.0         58529.000000  45.000000                  4.000000   \n",
       "99999.0         96044.805405  46.641834                 30.878049   \n",
       "\n",
       "               detailed occupation recode  wage per hour  capital losses  \\\n",
       "capital gains                                                              \n",
       "0.0                             11.179920      54.532124       38.812301   \n",
       "114.0                           29.090909     209.545455        0.000000   \n",
       "401.0                            3.967742       0.000000        0.000000   \n",
       "594.0                           20.333333      45.773810        0.000000   \n",
       "914.0                           15.411765      88.235294        0.000000   \n",
       "...                                   ...            ...             ...   \n",
       "25236.0                         10.200000      30.000000        0.000000   \n",
       "27828.0                         13.373626       0.000000        0.000000   \n",
       "34095.0                         12.100000       0.000000        0.000000   \n",
       "41310.0                         43.500000       0.000000        0.000000   \n",
       "99999.0                          9.627027      26.175676        0.000000   \n",
       "\n",
       "               dividends from stocks  num persons worked for employer  \\\n",
       "capital gains                                                           \n",
       "0.0                       165.876555                         1.908740   \n",
       "114.0                       0.000000                         4.000000   \n",
       "401.0                     223.161290                         0.354839   \n",
       "594.0                      11.345238                         3.714286   \n",
       "914.0                     477.000000                         4.647059   \n",
       "...                              ...                              ...   \n",
       "25236.0                   958.950000                         3.300000   \n",
       "27828.0                  4115.197802                         3.934066   \n",
       "34095.0                    60.000000                         3.600000   \n",
       "41310.0                     0.000000                         1.000000   \n",
       "99999.0                  4721.008108                         3.308108   \n",
       "\n",
       "               own business or self employed  veterans benefits  \\\n",
       "capital gains                                                     \n",
       "0.0                                 0.172257           1.496977   \n",
       "114.0                               0.363636           2.000000   \n",
       "401.0                               0.000000           1.967742   \n",
       "594.0                               0.428571           2.000000   \n",
       "914.0                               0.588235           2.000000   \n",
       "...                                      ...                ...   \n",
       "25236.0                             0.550000           2.000000   \n",
       "27828.0                             0.274725           1.989011   \n",
       "34095.0                             0.200000           2.000000   \n",
       "41310.0                             0.000000           2.000000   \n",
       "99999.0                             0.270270           1.991892   \n",
       "\n",
       "               weeks worked in year  \n",
       "capital gains                        \n",
       "0.0                       22.542241  \n",
       "114.0                     45.545455  \n",
       "401.0                     12.258065  \n",
       "594.0                     24.464286  \n",
       "914.0                     48.235294  \n",
       "...                             ...  \n",
       "25236.0                   49.000000  \n",
       "27828.0                   49.087912  \n",
       "34095.0                   19.800000  \n",
       "41310.0                   36.000000  \n",
       "99999.0                   47.440541  \n",
       "\n",
       "[132 rows x 11 columns]"
      ]
     },
     "execution_count": 99,
     "metadata": {},
     "output_type": "execute_result"
    }
   ],
   "source": [
    "train.groupby(train['capital gains']).mean()"
   ]
  },
  {
   "cell_type": "code",
   "execution_count": 100,
   "metadata": {},
   "outputs": [
    {
     "data": {
      "text/plain": [
       "count    249459.000000\n",
       "mean        476.650259\n",
       "std        4975.778560\n",
       "min           0.000000\n",
       "25%           0.000000\n",
       "50%           0.000000\n",
       "75%           0.000000\n",
       "max       99999.000000\n",
       "Name: capital gains, dtype: float64"
      ]
     },
     "execution_count": 100,
     "metadata": {},
     "output_type": "execute_result"
    }
   ],
   "source": [
    "data['capital gains'].describe()"
   ]
  },
  {
   "cell_type": "code",
   "execution_count": 101,
   "metadata": {},
   "outputs": [
    {
     "data": {
      "text/plain": [
       "0.0        239863\n",
       "15024.0      1097\n",
       "7688.0        805\n",
       "7298.0        761\n",
       "99999.0       549\n",
       "            ...  \n",
       "4594.0          1\n",
       "2601.0          1\n",
       "8530.0          1\n",
       "2227.0          1\n",
       "2387.0          1\n",
       "Name: capital gains, Length: 132, dtype: int64"
      ]
     },
     "execution_count": 101,
     "metadata": {},
     "output_type": "execute_result"
    }
   ],
   "source": [
    "data['capital gains'].value_counts()"
   ]
  },
  {
   "cell_type": "code",
   "execution_count": 102,
   "metadata": {},
   "outputs": [],
   "source": [
    "### -1 ~ 0 zero, 0~ 3000 under_3000, under_7000, under_15000, under_30000, under_50000, under_100000\n",
    "cap_bin = [-1, 0, 3000, 7000, 15000, 30000, 50000, 100000]\n",
    "cap_label = ['zero','under_3000','under_7000','under_15000','under_30000','under_50000','under_100000']\n",
    "cap_cats = pd.cut(data['capital gains'], cap_bin, labels = cap_label)"
   ]
  },
  {
   "cell_type": "code",
   "execution_count": 103,
   "metadata": {},
   "outputs": [
    {
     "data": {
      "text/plain": [
       "zero            239863\n",
       "under_7000        2649\n",
       "under_15000       2501\n",
       "under_3000        2407\n",
       "under_30000       1474\n",
       "under_100000       549\n",
       "under_50000         16\n",
       "Name: capital gains, dtype: int64"
      ]
     },
     "execution_count": 103,
     "metadata": {},
     "output_type": "execute_result"
    }
   ],
   "source": [
    "cap_cats.value_counts()"
   ]
  },
  {
   "cell_type": "code",
   "execution_count": 104,
   "metadata": {},
   "outputs": [],
   "source": [
    "data['cap_cats']= cap_cats"
   ]
  },
  {
   "cell_type": "markdown",
   "metadata": {},
   "source": [
    "## 19. dividends"
   ]
  },
  {
   "cell_type": "code",
   "execution_count": 105,
   "metadata": {},
   "outputs": [
    {
     "data": {
      "text/plain": [
       "0.0        222282\n",
       "100.0        1465\n",
       "500.0        1326\n",
       "1000.0       1184\n",
       "200.0        1161\n",
       "            ...  \n",
       "15939.0         1\n",
       "3169.0          1\n",
       "81000.0         1\n",
       "3555.0          1\n",
       "1160.0          1\n",
       "Name: dividends from stocks, Length: 1595, dtype: int64"
      ]
     },
     "execution_count": 105,
     "metadata": {},
     "output_type": "execute_result"
    }
   ],
   "source": [
    "data['dividends from stocks'].value_counts()"
   ]
  },
  {
   "cell_type": "code",
   "execution_count": 106,
   "metadata": {},
   "outputs": [],
   "source": [
    "### -1 ~ 0 zero, 0~ 100 under_100, under_1000, under_10000, under 15000, under_30000, under_50000, under_100000\n",
    "div_bin = [-1, 0, 100, 1000, 10000, 15000, 30000, 50000, 100000]\n",
    "div_label = ['zero','under_100','under_1000','under_10000','under_15000','under_30000','under_50000','under_100000']\n",
    "div_cats = pd.cut(data['dividends from stocks'], div_bin, labels = div_label)"
   ]
  },
  {
   "cell_type": "code",
   "execution_count": 107,
   "metadata": {},
   "outputs": [
    {
     "data": {
      "text/plain": [
       "zero            222282\n",
       "under_1000       11114\n",
       "under_100         8492\n",
       "under_10000       6619\n",
       "under_15000        424\n",
       "under_30000        346\n",
       "under_50000        117\n",
       "under_100000        65\n",
       "Name: dividends from stocks, dtype: int64"
      ]
     },
     "execution_count": 107,
     "metadata": {},
     "output_type": "execute_result"
    }
   ],
   "source": [
    "div_cats.value_counts()"
   ]
  },
  {
   "cell_type": "code",
   "execution_count": 108,
   "metadata": {},
   "outputs": [],
   "source": [
    "data['div_cats'] = div_cats"
   ]
  },
  {
   "cell_type": "markdown",
   "metadata": {},
   "source": [
    "## 20. Captial Loss"
   ]
  },
  {
   "cell_type": "code",
   "execution_count": 109,
   "metadata": {},
   "outputs": [
    {
     "data": {
      "text/plain": [
       "0       244423\n",
       "1902       554\n",
       "1977       541\n",
       "1887       471\n",
       "1602       252\n",
       "         ...  \n",
       "1956         2\n",
       "3900         2\n",
       "2080         1\n",
       "2519         1\n",
       "2769         1\n",
       "Name: capital losses, Length: 114, dtype: int64"
      ]
     },
     "execution_count": 109,
     "metadata": {},
     "output_type": "execute_result"
    }
   ],
   "source": [
    "data['capital losses'].value_counts()"
   ]
  },
  {
   "cell_type": "code",
   "execution_count": 110,
   "metadata": {},
   "outputs": [],
   "source": [
    "## 0과 1 이상으로 나누어 분류\n",
    "data['loss'] = data['capital losses'].copy()"
   ]
  },
  {
   "cell_type": "code",
   "execution_count": 111,
   "metadata": {},
   "outputs": [
    {
     "data": {
      "text/plain": [
       "0       244423\n",
       "1902       554\n",
       "1977       541\n",
       "1887       471\n",
       "1602       252\n",
       "         ...  \n",
       "1956         2\n",
       "3900         2\n",
       "2080         1\n",
       "2519         1\n",
       "2769         1\n",
       "Name: loss, Length: 114, dtype: int64"
      ]
     },
     "execution_count": 111,
     "metadata": {},
     "output_type": "execute_result"
    }
   ],
   "source": [
    "data['loss'].value_counts()"
   ]
  },
  {
   "cell_type": "code",
   "execution_count": 112,
   "metadata": {},
   "outputs": [],
   "source": [
    "data.loc[data['capital losses']>0,'capital losses'] =1"
   ]
  },
  {
   "cell_type": "code",
   "execution_count": 113,
   "metadata": {},
   "outputs": [
    {
     "data": {
      "text/plain": [
       "0       244423\n",
       "1902       554\n",
       "1977       541\n",
       "1887       471\n",
       "1602       252\n",
       "         ...  \n",
       "1956         2\n",
       "3900         2\n",
       "2080         1\n",
       "2519         1\n",
       "2769         1\n",
       "Name: loss, Length: 114, dtype: int64"
      ]
     },
     "execution_count": 113,
     "metadata": {},
     "output_type": "execute_result"
    }
   ],
   "source": [
    "data[\"loss\"].value_counts()"
   ]
  },
  {
   "cell_type": "code",
   "execution_count": 114,
   "metadata": {},
   "outputs": [
    {
     "data": {
      "text/plain": [
       "0    244423\n",
       "1      5036\n",
       "Name: capital losses, dtype: int64"
      ]
     },
     "execution_count": 114,
     "metadata": {},
     "output_type": "execute_result"
    }
   ],
   "source": [
    "data['capital losses'].value_counts()"
   ]
  },
  {
   "cell_type": "markdown",
   "metadata": {},
   "source": [
    "## 21. Weeks work in year"
   ]
  },
  {
   "cell_type": "code",
   "execution_count": 115,
   "metadata": {},
   "outputs": [
    {
     "data": {
      "text/plain": [
       "0.0    145580\n",
       "1.0    103879\n",
       "Name: weeks worked in year, dtype: int64"
      ]
     },
     "execution_count": 115,
     "metadata": {},
     "output_type": "execute_result"
    }
   ],
   "source": [
    "### 0 ~ 40 // 40~ 60 으로 분류\n",
    "data['weeks worked in year']\n",
    "data.loc[data['weeks worked in year']<40, 'weeks worked in year' ] = 0\n",
    "data.loc[data['weeks worked in year']>= 40 ,'weeks worked in year'] =1\n",
    "data['weeks worked in year'].value_counts()"
   ]
  },
  {
   "cell_type": "markdown",
   "metadata": {},
   "source": [
    "## wage per hour"
   ]
  },
  {
   "cell_type": "code",
   "execution_count": 116,
   "metadata": {},
   "outputs": [],
   "source": [
    "data['wage'] = data['wage per hour']*data['weeks worked in year']"
   ]
  },
  {
   "cell_type": "code",
   "execution_count": 117,
   "metadata": {},
   "outputs": [
    {
     "data": {
      "text/plain": [
       "0"
      ]
     },
     "execution_count": 117,
     "metadata": {},
     "output_type": "execute_result"
    }
   ],
   "source": [
    "data['wage'].isnull().sum()"
   ]
  },
  {
   "cell_type": "code",
   "execution_count": 118,
   "metadata": {},
   "outputs": [],
   "source": [
    "wage_bin = [-1, 0 , 1000, 50000, 100000, 550000]\n",
    "wage_label = ['zero','under_1000','under_50000','under_100000','under_550000']\n",
    "wage_cats = pd.cut(data['wage'], wage_bin, labels = wage_label)"
   ]
  },
  {
   "cell_type": "code",
   "execution_count": 119,
   "metadata": {},
   "outputs": [],
   "source": [
    "data['wage_cats'] = wage_cats"
   ]
  },
  {
   "cell_type": "code",
   "execution_count": 120,
   "metadata": {},
   "outputs": [
    {
     "data": {
      "text/plain": [
       "zero            238004\n",
       "under_1000        7070\n",
       "under_50000       4385\n",
       "under_550000         0\n",
       "under_100000         0\n",
       "Name: wage_cats, dtype: int64"
      ]
     },
     "execution_count": 120,
     "metadata": {},
     "output_type": "execute_result"
    }
   ],
   "source": [
    "data['wage_cats'].value_counts()"
   ]
  },
  {
   "cell_type": "markdown",
   "metadata": {},
   "source": [
    "# ** 본격적인 모델링 **"
   ]
  },
  {
   "cell_type": "code",
   "execution_count": 121,
   "metadata": {},
   "outputs": [],
   "source": [
    "data_save = data.copy()"
   ]
  },
  {
   "cell_type": "code",
   "execution_count": 122,
   "metadata": {},
   "outputs": [
    {
     "data": {
      "text/plain": [
       "age                                              0\n",
       "class of worker                                  0\n",
       "detailed industry recode                         0\n",
       "detailed occupation recode                       0\n",
       "education                                        0\n",
       "wage per hour                                    0\n",
       "enroll in edu inst last wk                       0\n",
       "marital stat                                     0\n",
       "major industry code                              0\n",
       "major occupation code                            0\n",
       "race                                             0\n",
       "hispanic origin                                  0\n",
       "sex                                              0\n",
       "member of a labor union                          0\n",
       "reason for unemployment                          0\n",
       "full or part time employment stat                0\n",
       "capital gains                                    0\n",
       "capital losses                                   0\n",
       "dividends from stocks                            0\n",
       "tax filer stat                                   0\n",
       "region of previous residence                     0\n",
       "state of previous residence                      0\n",
       "detailed household and family stat            1219\n",
       "detailed household summary in household          0\n",
       "migration code-change in msa                     0\n",
       "migration code-change in reg                     0\n",
       "migration code-move within reg                   0\n",
       "live in this house 1 year ago                    0\n",
       "migration prev res in sunbelt                    0\n",
       "num persons worked for employer                  0\n",
       "family members under 18                          0\n",
       "country of birth father                          0\n",
       "country of birth mother                          0\n",
       "country of birth self                            0\n",
       "citizenship                                      0\n",
       "own business or self employed                    0\n",
       "fill inc questionnaire for veteran's admin       0\n",
       "veterans benefits                                0\n",
       "weeks worked in year                             0\n",
       "year                                          1422\n",
       "age_cats                                         0\n",
       "householder                                      0\n",
       "cap_cats                                         0\n",
       "div_cats                                         0\n",
       "loss                                             0\n",
       "wage                                             0\n",
       "wage_cats                                        0\n",
       "dtype: int64"
      ]
     },
     "execution_count": 122,
     "metadata": {},
     "output_type": "execute_result"
    }
   ],
   "source": [
    "data.isnull().sum()"
   ]
  },
  {
   "cell_type": "code",
   "execution_count": 123,
   "metadata": {
    "scrolled": true
   },
   "outputs": [
    {
     "ename": "KeyError",
     "evalue": "''",
     "output_type": "error",
     "traceback": [
      "\u001b[1;31m---------------------------------------------------------------------------\u001b[0m",
      "\u001b[1;31mKeyError\u001b[0m                                  Traceback (most recent call last)",
      "\u001b[1;32m~\\Anaconda3\\lib\\site-packages\\pandas\\core\\indexes\\base.py\u001b[0m in \u001b[0;36mget_loc\u001b[1;34m(self, key, method, tolerance)\u001b[0m\n\u001b[0;32m   2896\u001b[0m             \u001b[1;32mtry\u001b[0m\u001b[1;33m:\u001b[0m\u001b[1;33m\u001b[0m\u001b[1;33m\u001b[0m\u001b[0m\n\u001b[1;32m-> 2897\u001b[1;33m                 \u001b[1;32mreturn\u001b[0m \u001b[0mself\u001b[0m\u001b[1;33m.\u001b[0m\u001b[0m_engine\u001b[0m\u001b[1;33m.\u001b[0m\u001b[0mget_loc\u001b[0m\u001b[1;33m(\u001b[0m\u001b[0mkey\u001b[0m\u001b[1;33m)\u001b[0m\u001b[1;33m\u001b[0m\u001b[1;33m\u001b[0m\u001b[0m\n\u001b[0m\u001b[0;32m   2898\u001b[0m             \u001b[1;32mexcept\u001b[0m \u001b[0mKeyError\u001b[0m\u001b[1;33m:\u001b[0m\u001b[1;33m\u001b[0m\u001b[1;33m\u001b[0m\u001b[0m\n",
      "\u001b[1;32mpandas\\_libs\\index.pyx\u001b[0m in \u001b[0;36mpandas._libs.index.IndexEngine.get_loc\u001b[1;34m()\u001b[0m\n",
      "\u001b[1;32mpandas\\_libs\\index.pyx\u001b[0m in \u001b[0;36mpandas._libs.index.IndexEngine.get_loc\u001b[1;34m()\u001b[0m\n",
      "\u001b[1;32mpandas\\_libs\\hashtable_class_helper.pxi\u001b[0m in \u001b[0;36mpandas._libs.hashtable.PyObjectHashTable.get_item\u001b[1;34m()\u001b[0m\n",
      "\u001b[1;32mpandas\\_libs\\hashtable_class_helper.pxi\u001b[0m in \u001b[0;36mpandas._libs.hashtable.PyObjectHashTable.get_item\u001b[1;34m()\u001b[0m\n",
      "\u001b[1;31mKeyError\u001b[0m: ''",
      "\nDuring handling of the above exception, another exception occurred:\n",
      "\u001b[1;31mKeyError\u001b[0m                                  Traceback (most recent call last)",
      "\u001b[1;32m<ipython-input-123-822db1c7954d>\u001b[0m in \u001b[0;36m<module>\u001b[1;34m\u001b[0m\n\u001b[0;32m      2\u001b[0m \u001b[1;32mdel\u001b[0m \u001b[0mdata\u001b[0m\u001b[1;33m[\u001b[0m\u001b[1;34m'detailed household and family stat'\u001b[0m\u001b[1;33m]\u001b[0m\u001b[1;33m,\u001b[0m \u001b[0mdata\u001b[0m\u001b[1;33m[\u001b[0m\u001b[1;34m'year'\u001b[0m\u001b[1;33m]\u001b[0m\u001b[1;33m,\u001b[0m \u001b[0mdata\u001b[0m\u001b[1;33m[\u001b[0m\u001b[1;34m'country of birth father'\u001b[0m\u001b[1;33m]\u001b[0m\u001b[1;33m,\u001b[0m \u001b[0mdata\u001b[0m\u001b[1;33m[\u001b[0m\u001b[1;34m'family members under 18'\u001b[0m\u001b[1;33m]\u001b[0m\u001b[1;33m,\u001b[0m\u001b[0;31m \u001b[0m\u001b[0;31m\\\u001b[0m\u001b[1;33m\u001b[0m\u001b[1;33m\u001b[0m\u001b[0m\n\u001b[0;32m      3\u001b[0m \u001b[0mdata\u001b[0m\u001b[1;33m[\u001b[0m\u001b[1;34m'live in this house 1 year ago'\u001b[0m\u001b[1;33m]\u001b[0m\u001b[1;33m,\u001b[0m \u001b[0mdata\u001b[0m\u001b[1;33m[\u001b[0m\u001b[1;34m'country of birth mother'\u001b[0m\u001b[1;33m]\u001b[0m\u001b[1;33m,\u001b[0m \u001b[0mdata\u001b[0m\u001b[1;33m[\u001b[0m\u001b[1;34m'''fill inc questionnaire for veteran's admin'''\u001b[0m\u001b[1;33m]\u001b[0m\u001b[1;33m,\u001b[0m\u001b[0;31m \u001b[0m\u001b[0;31m\\\u001b[0m\u001b[1;33m\u001b[0m\u001b[1;33m\u001b[0m\u001b[0m\n\u001b[1;32m----> 4\u001b[1;33m \u001b[0mdata\u001b[0m\u001b[1;33m[\u001b[0m\u001b[1;34m'migration code-change in msa'\u001b[0m\u001b[1;33m]\u001b[0m\u001b[1;33m,\u001b[0m \u001b[0mdata\u001b[0m\u001b[1;33m[\u001b[0m\u001b[1;34m'migration code-change in reg'\u001b[0m\u001b[1;33m]\u001b[0m\u001b[1;33m,\u001b[0m \u001b[0mdata\u001b[0m\u001b[1;33m[\u001b[0m\u001b[1;34m'migration code-move within reg'\u001b[0m\u001b[1;33m]\u001b[0m\u001b[1;33m,\u001b[0m \u001b[0mdata\u001b[0m\u001b[1;33m[\u001b[0m\u001b[1;34m''\u001b[0m\u001b[1;33m]\u001b[0m\u001b[1;33m\u001b[0m\u001b[1;33m\u001b[0m\u001b[0m\n\u001b[0m",
      "\u001b[1;32m~\\Anaconda3\\lib\\site-packages\\pandas\\core\\generic.py\u001b[0m in \u001b[0;36m__delitem__\u001b[1;34m(self, key)\u001b[0m\n\u001b[0;32m   3514\u001b[0m             \u001b[1;31m# there was no match, this call should raise the appropriate\u001b[0m\u001b[1;33m\u001b[0m\u001b[1;33m\u001b[0m\u001b[1;33m\u001b[0m\u001b[0m\n\u001b[0;32m   3515\u001b[0m             \u001b[1;31m# exception:\u001b[0m\u001b[1;33m\u001b[0m\u001b[1;33m\u001b[0m\u001b[1;33m\u001b[0m\u001b[0m\n\u001b[1;32m-> 3516\u001b[1;33m             \u001b[0mself\u001b[0m\u001b[1;33m.\u001b[0m\u001b[0m_data\u001b[0m\u001b[1;33m.\u001b[0m\u001b[0mdelete\u001b[0m\u001b[1;33m(\u001b[0m\u001b[0mkey\u001b[0m\u001b[1;33m)\u001b[0m\u001b[1;33m\u001b[0m\u001b[1;33m\u001b[0m\u001b[0m\n\u001b[0m\u001b[0;32m   3517\u001b[0m \u001b[1;33m\u001b[0m\u001b[0m\n\u001b[0;32m   3518\u001b[0m         \u001b[1;31m# delete from the caches\u001b[0m\u001b[1;33m\u001b[0m\u001b[1;33m\u001b[0m\u001b[1;33m\u001b[0m\u001b[0m\n",
      "\u001b[1;32m~\\Anaconda3\\lib\\site-packages\\pandas\\core\\internals\\managers.py\u001b[0m in \u001b[0;36mdelete\u001b[1;34m(self, item)\u001b[0m\n\u001b[0;32m    994\u001b[0m         \u001b[0mDelete\u001b[0m \u001b[0mselected\u001b[0m \u001b[0mitem\u001b[0m \u001b[1;33m(\u001b[0m\u001b[0mitems\u001b[0m \u001b[1;32mif\u001b[0m \u001b[0mnon\u001b[0m\u001b[1;33m-\u001b[0m\u001b[0munique\u001b[0m\u001b[1;33m)\u001b[0m \u001b[1;32min\u001b[0m\u001b[1;33m-\u001b[0m\u001b[0mplace\u001b[0m\u001b[1;33m.\u001b[0m\u001b[1;33m\u001b[0m\u001b[1;33m\u001b[0m\u001b[0m\n\u001b[0;32m    995\u001b[0m         \"\"\"\n\u001b[1;32m--> 996\u001b[1;33m         \u001b[0mindexer\u001b[0m \u001b[1;33m=\u001b[0m \u001b[0mself\u001b[0m\u001b[1;33m.\u001b[0m\u001b[0mitems\u001b[0m\u001b[1;33m.\u001b[0m\u001b[0mget_loc\u001b[0m\u001b[1;33m(\u001b[0m\u001b[0mitem\u001b[0m\u001b[1;33m)\u001b[0m\u001b[1;33m\u001b[0m\u001b[1;33m\u001b[0m\u001b[0m\n\u001b[0m\u001b[0;32m    997\u001b[0m \u001b[1;33m\u001b[0m\u001b[0m\n\u001b[0;32m    998\u001b[0m         \u001b[0mis_deleted\u001b[0m \u001b[1;33m=\u001b[0m \u001b[0mnp\u001b[0m\u001b[1;33m.\u001b[0m\u001b[0mzeros\u001b[0m\u001b[1;33m(\u001b[0m\u001b[0mself\u001b[0m\u001b[1;33m.\u001b[0m\u001b[0mshape\u001b[0m\u001b[1;33m[\u001b[0m\u001b[1;36m0\u001b[0m\u001b[1;33m]\u001b[0m\u001b[1;33m,\u001b[0m \u001b[0mdtype\u001b[0m\u001b[1;33m=\u001b[0m\u001b[0mnp\u001b[0m\u001b[1;33m.\u001b[0m\u001b[0mbool_\u001b[0m\u001b[1;33m)\u001b[0m\u001b[1;33m\u001b[0m\u001b[1;33m\u001b[0m\u001b[0m\n",
      "\u001b[1;32m~\\Anaconda3\\lib\\site-packages\\pandas\\core\\indexes\\base.py\u001b[0m in \u001b[0;36mget_loc\u001b[1;34m(self, key, method, tolerance)\u001b[0m\n\u001b[0;32m   2897\u001b[0m                 \u001b[1;32mreturn\u001b[0m \u001b[0mself\u001b[0m\u001b[1;33m.\u001b[0m\u001b[0m_engine\u001b[0m\u001b[1;33m.\u001b[0m\u001b[0mget_loc\u001b[0m\u001b[1;33m(\u001b[0m\u001b[0mkey\u001b[0m\u001b[1;33m)\u001b[0m\u001b[1;33m\u001b[0m\u001b[1;33m\u001b[0m\u001b[0m\n\u001b[0;32m   2898\u001b[0m             \u001b[1;32mexcept\u001b[0m \u001b[0mKeyError\u001b[0m\u001b[1;33m:\u001b[0m\u001b[1;33m\u001b[0m\u001b[1;33m\u001b[0m\u001b[0m\n\u001b[1;32m-> 2899\u001b[1;33m                 \u001b[1;32mreturn\u001b[0m \u001b[0mself\u001b[0m\u001b[1;33m.\u001b[0m\u001b[0m_engine\u001b[0m\u001b[1;33m.\u001b[0m\u001b[0mget_loc\u001b[0m\u001b[1;33m(\u001b[0m\u001b[0mself\u001b[0m\u001b[1;33m.\u001b[0m\u001b[0m_maybe_cast_indexer\u001b[0m\u001b[1;33m(\u001b[0m\u001b[0mkey\u001b[0m\u001b[1;33m)\u001b[0m\u001b[1;33m)\u001b[0m\u001b[1;33m\u001b[0m\u001b[1;33m\u001b[0m\u001b[0m\n\u001b[0m\u001b[0;32m   2900\u001b[0m         \u001b[0mindexer\u001b[0m \u001b[1;33m=\u001b[0m \u001b[0mself\u001b[0m\u001b[1;33m.\u001b[0m\u001b[0mget_indexer\u001b[0m\u001b[1;33m(\u001b[0m\u001b[1;33m[\u001b[0m\u001b[0mkey\u001b[0m\u001b[1;33m]\u001b[0m\u001b[1;33m,\u001b[0m \u001b[0mmethod\u001b[0m\u001b[1;33m=\u001b[0m\u001b[0mmethod\u001b[0m\u001b[1;33m,\u001b[0m \u001b[0mtolerance\u001b[0m\u001b[1;33m=\u001b[0m\u001b[0mtolerance\u001b[0m\u001b[1;33m)\u001b[0m\u001b[1;33m\u001b[0m\u001b[1;33m\u001b[0m\u001b[0m\n\u001b[0;32m   2901\u001b[0m         \u001b[1;32mif\u001b[0m \u001b[0mindexer\u001b[0m\u001b[1;33m.\u001b[0m\u001b[0mndim\u001b[0m \u001b[1;33m>\u001b[0m \u001b[1;36m1\u001b[0m \u001b[1;32mor\u001b[0m \u001b[0mindexer\u001b[0m\u001b[1;33m.\u001b[0m\u001b[0msize\u001b[0m \u001b[1;33m>\u001b[0m \u001b[1;36m1\u001b[0m\u001b[1;33m:\u001b[0m\u001b[1;33m\u001b[0m\u001b[1;33m\u001b[0m\u001b[0m\n",
      "\u001b[1;32mpandas\\_libs\\index.pyx\u001b[0m in \u001b[0;36mpandas._libs.index.IndexEngine.get_loc\u001b[1;34m()\u001b[0m\n",
      "\u001b[1;32mpandas\\_libs\\index.pyx\u001b[0m in \u001b[0;36mpandas._libs.index.IndexEngine.get_loc\u001b[1;34m()\u001b[0m\n",
      "\u001b[1;32mpandas\\_libs\\hashtable_class_helper.pxi\u001b[0m in \u001b[0;36mpandas._libs.hashtable.PyObjectHashTable.get_item\u001b[1;34m()\u001b[0m\n",
      "\u001b[1;32mpandas\\_libs\\hashtable_class_helper.pxi\u001b[0m in \u001b[0;36mpandas._libs.hashtable.PyObjectHashTable.get_item\u001b[1;34m()\u001b[0m\n",
      "\u001b[1;31mKeyError\u001b[0m: ''"
     ]
    }
   ],
   "source": [
    "##필요없는 칼럼 드랍\n",
    "del data['detailed household and family stat'], data['year'], data['country of birth father'], data['family members under 18'], \\\n",
    "data['live in this house 1 year ago'], data['country of birth mother'], data['''fill inc questionnaire for veteran's admin'''], \\\n",
    "data['migration code-change in msa'], data['migration code-change in reg'], data['migration code-move within reg']"
   ]
  },
  {
   "cell_type": "code",
   "execution_count": 125,
   "metadata": {},
   "outputs": [],
   "source": [
    "data_save.to_csv(\"data_save.csv\")"
   ]
  },
  {
   "cell_type": "code",
   "execution_count": 126,
   "metadata": {},
   "outputs": [],
   "source": [
    "del data['age']"
   ]
  },
  {
   "cell_type": "code",
   "execution_count": 127,
   "metadata": {},
   "outputs": [
    {
     "data": {
      "text/plain": [
       "(249459, 36)"
      ]
     },
     "execution_count": 127,
     "metadata": {},
     "output_type": "execute_result"
    }
   ],
   "source": [
    "data.shape"
   ]
  },
  {
   "cell_type": "code",
   "execution_count": 128,
   "metadata": {},
   "outputs": [
    {
     "data": {
      "text/plain": [
       "Index(['class of worker', 'detailed industry recode',\n",
       "       'detailed occupation recode', 'education', 'wage per hour',\n",
       "       'enroll in edu inst last wk', 'marital stat', 'major industry code',\n",
       "       'major occupation code', 'race', 'hispanic origin', 'sex',\n",
       "       'member of a labor union', 'reason for unemployment',\n",
       "       'full or part time employment stat', 'capital gains', 'capital losses',\n",
       "       'dividends from stocks', 'tax filer stat',\n",
       "       'region of previous residence', 'state of previous residence',\n",
       "       'detailed household summary in household',\n",
       "       'migration prev res in sunbelt', 'num persons worked for employer',\n",
       "       'country of birth self', 'citizenship', 'own business or self employed',\n",
       "       'veterans benefits', 'weeks worked in year', 'age_cats', 'householder',\n",
       "       'cap_cats', 'div_cats', 'loss', 'wage', 'wage_cats'],\n",
       "      dtype='object')"
      ]
     },
     "execution_count": 128,
     "metadata": {},
     "output_type": "execute_result"
    }
   ],
   "source": [
    "data.columns"
   ]
  },
  {
   "cell_type": "code",
   "execution_count": 129,
   "metadata": {},
   "outputs": [],
   "source": [
    "new_data = pd.get_dummies(data)"
   ]
  },
  {
   "cell_type": "code",
   "execution_count": 130,
   "metadata": {},
   "outputs": [
    {
     "data": {
      "text/plain": [
       "(249459, 271)"
      ]
     },
     "execution_count": 130,
     "metadata": {},
     "output_type": "execute_result"
    }
   ],
   "source": [
    "new_data.shape"
   ]
  },
  {
   "cell_type": "code",
   "execution_count": 131,
   "metadata": {},
   "outputs": [
    {
     "data": {
      "text/plain": [
       "['detailed industry recode',\n",
       " 'detailed occupation recode',\n",
       " 'wage per hour',\n",
       " 'capital gains',\n",
       " 'capital losses',\n",
       " 'dividends from stocks',\n",
       " 'num persons worked for employer',\n",
       " 'own business or self employed',\n",
       " 'veterans benefits',\n",
       " 'weeks worked in year',\n",
       " 'householder',\n",
       " 'loss',\n",
       " 'wage',\n",
       " 'class of worker_ Federal government',\n",
       " 'class of worker_ Local government',\n",
       " 'class of worker_ Never worked',\n",
       " 'class of worker_ Not in universe',\n",
       " 'class of worker_ Private',\n",
       " 'class of worker_ Self-employed-incorporated',\n",
       " 'class of worker_ Self-employed-not incorporated',\n",
       " 'class of worker_ State government',\n",
       " 'class of worker_ Without pay',\n",
       " 'education_ 10th grade',\n",
       " 'education_ 11th grade',\n",
       " 'education_ 12th grade no diploma',\n",
       " 'education_ 1st 2nd 3rd or 4th grade',\n",
       " 'education_ 5th or 6th grade',\n",
       " 'education_ 7th and 8th grade',\n",
       " 'education_ 9th grade',\n",
       " 'education_ Associates degree-academic program',\n",
       " 'education_ Associates degree-occup /vocational',\n",
       " 'education_ Bachelors degree(BA AB BS)',\n",
       " 'education_ Children',\n",
       " 'education_ Doctorate degree(PhD EdD)',\n",
       " 'education_ High school graduate',\n",
       " 'education_ Less than 1st grade',\n",
       " 'education_ Masters degree(MA MS MEng MEd MSW MBA)',\n",
       " 'education_ Prof school degree (MD DDS DVM LLB JD)',\n",
       " 'education_ Some college but no degree',\n",
       " 'enroll in edu inst last wk_ College or university',\n",
       " 'enroll in edu inst last wk_ High school',\n",
       " 'enroll in edu inst last wk_ Not in universe',\n",
       " 'marital stat_ Divorced',\n",
       " 'marital stat_ Married-A F spouse present',\n",
       " 'marital stat_ Married-civilian spouse present',\n",
       " 'marital stat_ Married-spouse absent',\n",
       " 'marital stat_ Never married',\n",
       " 'marital stat_ Separated',\n",
       " 'marital stat_ Widowed',\n",
       " 'major industry code_ Agriculture',\n",
       " 'major industry code_ Armed Forces',\n",
       " 'major industry code_ Business and repair services',\n",
       " 'major industry code_ Communications',\n",
       " 'major industry code_ Construction',\n",
       " 'major industry code_ Education',\n",
       " 'major industry code_ Entertainment',\n",
       " 'major industry code_ Finance insurance and real estate',\n",
       " 'major industry code_ Forestry and fisheries',\n",
       " 'major industry code_ Hospital services',\n",
       " 'major industry code_ Manufacturing-durable goods',\n",
       " 'major industry code_ Manufacturing-nondurable goods',\n",
       " 'major industry code_ Medical except hospital',\n",
       " 'major industry code_ Mining',\n",
       " 'major industry code_ Not in universe or children',\n",
       " 'major industry code_ Other professional services',\n",
       " 'major industry code_ Personal services except private HH',\n",
       " 'major industry code_ Private household services',\n",
       " 'major industry code_ Public administration',\n",
       " 'major industry code_ Retail trade',\n",
       " 'major industry code_ Social services',\n",
       " 'major industry code_ Transportation',\n",
       " 'major industry code_ Utilities and sanitary services',\n",
       " 'major industry code_ Wholesale trade',\n",
       " 'major occupation code_ Adm support including clerical',\n",
       " 'major occupation code_ Armed Forces',\n",
       " 'major occupation code_ Executive admin and managerial',\n",
       " 'major occupation code_ Farming forestry and fishing',\n",
       " 'major occupation code_ Handlers equip cleaners etc ',\n",
       " 'major occupation code_ Machine operators assmblrs & inspctrs',\n",
       " 'major occupation code_ Not in universe',\n",
       " 'major occupation code_ Other service',\n",
       " 'major occupation code_ Precision production craft & repair',\n",
       " 'major occupation code_ Private household services',\n",
       " 'major occupation code_ Professional specialty',\n",
       " 'major occupation code_ Protective services',\n",
       " 'major occupation code_ Sales',\n",
       " 'major occupation code_ Technicians and related support',\n",
       " 'major occupation code_ Transportation and material moving',\n",
       " 'race_ Amer Indian Aleut or Eskimo',\n",
       " 'race_ Asian or Pacific Islander',\n",
       " 'race_ Black',\n",
       " 'race_ Other',\n",
       " 'race_ White',\n",
       " 'hispanic origin_ All other',\n",
       " 'hispanic origin_ Central or South American',\n",
       " 'hispanic origin_ Chicano',\n",
       " 'hispanic origin_ Cuban',\n",
       " 'hispanic origin_ Do not know',\n",
       " 'hispanic origin_ Mexican (Mexicano)',\n",
       " 'hispanic origin_ Mexican-American',\n",
       " 'hispanic origin_ NA',\n",
       " 'hispanic origin_ Other Spanish',\n",
       " 'hispanic origin_ Puerto Rican',\n",
       " 'sex_ Female',\n",
       " 'sex_ Male',\n",
       " 'member of a labor union_ Not in universe',\n",
       " 'member of a labor union_ Yes',\n",
       " 'reason for unemployment_ Job leaver',\n",
       " 'reason for unemployment_ Job loser - on layoff',\n",
       " 'reason for unemployment_ New entrant',\n",
       " 'reason for unemployment_ Not in universe',\n",
       " 'reason for unemployment_ Other job loser',\n",
       " 'reason for unemployment_ Re-entrant',\n",
       " 'full or part time employment stat_ Children or Armed Forces',\n",
       " 'full or part time employment stat_ Full-time schedules',\n",
       " 'full or part time employment stat_ Not in labor force',\n",
       " 'full or part time employment stat_ PT for econ reasons usually FT',\n",
       " 'full or part time employment stat_ PT for econ reasons usually PT',\n",
       " 'full or part time employment stat_ PT for non-econ reasons usually FT',\n",
       " 'full or part time employment stat_ Unemployed full-time',\n",
       " 'full or part time employment stat_ Unemployed part- time',\n",
       " 'full or part time employment stat_0',\n",
       " 'tax filer stat_ Head of household',\n",
       " 'tax filer stat_ Joint both 65+',\n",
       " 'tax filer stat_ Joint both under 65',\n",
       " 'tax filer stat_ Joint one under 65 & one 65+',\n",
       " 'tax filer stat_ Nonfiler',\n",
       " 'tax filer stat_ Single',\n",
       " 'region of previous residence_ Abroad',\n",
       " 'region of previous residence_ Midwest',\n",
       " 'region of previous residence_ Northeast',\n",
       " 'region of previous residence_ Not in universe',\n",
       " 'region of previous residence_ South',\n",
       " 'region of previous residence_ West',\n",
       " 'state of previous residence_ ?',\n",
       " 'state of previous residence_ Abroad',\n",
       " 'state of previous residence_ Alabama',\n",
       " 'state of previous residence_ Alaska',\n",
       " 'state of previous residence_ Arizona',\n",
       " 'state of previous residence_ Arkansas',\n",
       " 'state of previous residence_ California',\n",
       " 'state of previous residence_ Colorado',\n",
       " 'state of previous residence_ Connecticut',\n",
       " 'state of previous residence_ Delaware',\n",
       " 'state of previous residence_ District of Columbia',\n",
       " 'state of previous residence_ Florida',\n",
       " 'state of previous residence_ Georgia',\n",
       " 'state of previous residence_ Idaho',\n",
       " 'state of previous residence_ Illinois',\n",
       " 'state of previous residence_ Indiana',\n",
       " 'state of previous residence_ Iowa',\n",
       " 'state of previous residence_ Kansas',\n",
       " 'state of previous residence_ Kentucky',\n",
       " 'state of previous residence_ Louisiana',\n",
       " 'state of previous residence_ Maine',\n",
       " 'state of previous residence_ Maryland',\n",
       " 'state of previous residence_ Massachusetts',\n",
       " 'state of previous residence_ Michigan',\n",
       " 'state of previous residence_ Minnesota',\n",
       " 'state of previous residence_ Mississippi',\n",
       " 'state of previous residence_ Missouri',\n",
       " 'state of previous residence_ Montana',\n",
       " 'state of previous residence_ Nebraska',\n",
       " 'state of previous residence_ Nevada',\n",
       " 'state of previous residence_ New Hampshire',\n",
       " 'state of previous residence_ New Jersey',\n",
       " 'state of previous residence_ New Mexico',\n",
       " 'state of previous residence_ New York',\n",
       " 'state of previous residence_ North Carolina',\n",
       " 'state of previous residence_ North Dakota',\n",
       " 'state of previous residence_ Not in universe',\n",
       " 'state of previous residence_ Ohio',\n",
       " 'state of previous residence_ Oklahoma',\n",
       " 'state of previous residence_ Oregon',\n",
       " 'state of previous residence_ Pennsylvania',\n",
       " 'state of previous residence_ South Carolina',\n",
       " 'state of previous residence_ South Dakota',\n",
       " 'state of previous residence_ Tennessee',\n",
       " 'state of previous residence_ Texas',\n",
       " 'state of previous residence_ Utah',\n",
       " 'state of previous residence_ Vermont',\n",
       " 'state of previous residence_ Virginia',\n",
       " 'state of previous residence_ West Virginia',\n",
       " 'state of previous residence_ Wisconsin',\n",
       " 'state of previous residence_ Wyoming',\n",
       " 'detailed household summary in household_ Child 18 or older',\n",
       " 'detailed household summary in household_ Child under 18 ever married',\n",
       " 'detailed household summary in household_ Child under 18 never married',\n",
       " 'detailed household summary in household_ Group Quarters- Secondary individual',\n",
       " 'detailed household summary in household_ Householder',\n",
       " 'detailed household summary in household_ Nonrelative of householder',\n",
       " 'detailed household summary in household_ Other relative of householder',\n",
       " 'detailed household summary in household_ Spouse of householder',\n",
       " 'migration prev res in sunbelt_ ?',\n",
       " 'migration prev res in sunbelt_ No',\n",
       " 'migration prev res in sunbelt_ Not in universe',\n",
       " 'migration prev res in sunbelt_ Yes',\n",
       " 'country of birth self_ ?',\n",
       " 'country of birth self_ Cambodia',\n",
       " 'country of birth self_ Canada',\n",
       " 'country of birth self_ China',\n",
       " 'country of birth self_ Columbia',\n",
       " 'country of birth self_ Cuba',\n",
       " 'country of birth self_ Dominican-Republic',\n",
       " 'country of birth self_ Ecuador',\n",
       " 'country of birth self_ El-Salvador',\n",
       " 'country of birth self_ England',\n",
       " 'country of birth self_ France',\n",
       " 'country of birth self_ Germany',\n",
       " 'country of birth self_ Greece',\n",
       " 'country of birth self_ Guatemala',\n",
       " 'country of birth self_ Haiti',\n",
       " 'country of birth self_ Holand-Netherlands',\n",
       " 'country of birth self_ Honduras',\n",
       " 'country of birth self_ Hong Kong',\n",
       " 'country of birth self_ Hungary',\n",
       " 'country of birth self_ India',\n",
       " 'country of birth self_ Iran',\n",
       " 'country of birth self_ Ireland',\n",
       " 'country of birth self_ Italy',\n",
       " 'country of birth self_ Jamaica',\n",
       " 'country of birth self_ Japan',\n",
       " 'country of birth self_ Laos',\n",
       " 'country of birth self_ Mexico',\n",
       " 'country of birth self_ Nicaragua',\n",
       " 'country of birth self_ Outlying-U S (Guam USVI etc)',\n",
       " 'country of birth self_ Panama',\n",
       " 'country of birth self_ Peru',\n",
       " 'country of birth self_ Philippines',\n",
       " 'country of birth self_ Poland',\n",
       " 'country of birth self_ Portugal',\n",
       " 'country of birth self_ Puerto-Rico',\n",
       " 'country of birth self_ Scotland',\n",
       " 'country of birth self_ South Korea',\n",
       " 'country of birth self_ Taiwan',\n",
       " 'country of birth self_ Thailand',\n",
       " 'country of birth self_ Trinadad&Tobago',\n",
       " 'country of birth self_ United-States',\n",
       " 'country of birth self_ Vietnam',\n",
       " 'country of birth self_ Yugoslavia',\n",
       " 'citizenship_ Foreign born- Not a citizen of U S ',\n",
       " 'citizenship_ Foreign born- U S citizen by naturalization',\n",
       " 'citizenship_ Native- Born abroad of American Parent(s)',\n",
       " 'citizenship_ Native- Born in Puerto Rico or U S Outlying',\n",
       " 'citizenship_ Native- Born in the United States',\n",
       " 'age_cats_child',\n",
       " 'age_cats_young',\n",
       " 'age_cats_middle',\n",
       " 'age_cats_prime',\n",
       " 'age_cats_old',\n",
       " 'age_cats_elder',\n",
       " 'cap_cats_zero',\n",
       " 'cap_cats_under_3000',\n",
       " 'cap_cats_under_7000',\n",
       " 'cap_cats_under_15000',\n",
       " 'cap_cats_under_30000',\n",
       " 'cap_cats_under_50000',\n",
       " 'cap_cats_under_100000',\n",
       " 'div_cats_zero',\n",
       " 'div_cats_under_100',\n",
       " 'div_cats_under_1000',\n",
       " 'div_cats_under_10000',\n",
       " 'div_cats_under_15000',\n",
       " 'div_cats_under_30000',\n",
       " 'div_cats_under_50000',\n",
       " 'div_cats_under_100000',\n",
       " 'wage_cats_zero',\n",
       " 'wage_cats_under_1000',\n",
       " 'wage_cats_under_50000',\n",
       " 'wage_cats_under_100000',\n",
       " 'wage_cats_under_550000']"
      ]
     },
     "execution_count": 131,
     "metadata": {},
     "output_type": "execute_result"
    }
   ],
   "source": [
    "list(new_data.columns)"
   ]
  },
  {
   "cell_type": "code",
   "execution_count": 132,
   "metadata": {
    "scrolled": true
   },
   "outputs": [
    {
     "data": {
      "text/plain": [
       "Index(['detailed industry recode', 'detailed occupation recode',\n",
       "       'wage per hour', 'capital gains', 'capital losses',\n",
       "       'dividends from stocks', 'num persons worked for employer',\n",
       "       'own business or self employed', 'veterans benefits',\n",
       "       'weeks worked in year',\n",
       "       ...\n",
       "       'div_cats_under_10000', 'div_cats_under_15000', 'div_cats_under_30000',\n",
       "       'div_cats_under_50000', 'div_cats_under_100000', 'wage_cats_zero',\n",
       "       'wage_cats_under_1000', 'wage_cats_under_50000',\n",
       "       'wage_cats_under_100000', 'wage_cats_under_550000'],\n",
       "      dtype='object', length=271)"
      ]
     },
     "execution_count": 132,
     "metadata": {},
     "output_type": "execute_result"
    }
   ],
   "source": [
    "new_data.columns"
   ]
  },
  {
   "cell_type": "code",
   "execution_count": 133,
   "metadata": {},
   "outputs": [
    {
     "data": {
      "text/plain": [
       "((189697, 271), (59762, 271))"
      ]
     },
     "execution_count": 133,
     "metadata": {},
     "output_type": "execute_result"
    }
   ],
   "source": [
    "train = new_data.iloc[:189697] \n",
    "test = new_data.iloc[189697:]\n",
    "train.shape, test.shape"
   ]
  },
  {
   "cell_type": "code",
   "execution_count": 134,
   "metadata": {},
   "outputs": [
    {
     "data": {
      "text/plain": [
       "((142272, 271), (47425, 271), (142272,), (47425,))"
      ]
     },
     "execution_count": 134,
     "metadata": {},
     "output_type": "execute_result"
    }
   ],
   "source": [
    "x_train, x_test, y_train, y_test = train_test_split(train,y,random_state=7,test_size=0.25,stratify=y)\n",
    "x_train.shape, x_test.shape, y_train.shape, y_test.shape"
   ]
  },
  {
   "cell_type": "code",
   "execution_count": 395,
   "metadata": {},
   "outputs": [],
   "source": [
    "from sklearn.linear_model import LogisticRegression"
   ]
  },
  {
   "cell_type": "code",
   "execution_count": 188,
   "metadata": {},
   "outputs": [
    {
     "name": "stdout",
     "output_type": "stream",
     "text": [
      "0.9546783625730995\n",
      "0.9519030047443332\n",
      "0.9519030047443332\n"
     ]
    }
   ],
   "source": [
    "model5 = LogisticRegression(random_state=7,C=1000).fit(x_train,y_train)\n",
    "print(model5.score(x_train,y_train))\n",
    "print(model5.score(x_test,y_test))\n",
    "y_pred5 = model5.predict(x_test)\n",
    "print(accuracy_score(y_test,y_pred5))"
   ]
  },
  {
   "cell_type": "code",
   "execution_count": 226,
   "metadata": {},
   "outputs": [],
   "source": [
    "from sklearn.neighbors import KNeighborsClassifier"
   ]
  },
  {
   "cell_type": "code",
   "execution_count": 397,
   "metadata": {},
   "outputs": [],
   "source": [
    "from lightgbm import LGBMClassifier"
   ]
  },
  {
   "cell_type": "code",
   "execution_count": 189,
   "metadata": {
    "scrolled": true
   },
   "outputs": [
    {
     "name": "stdout",
     "output_type": "stream",
     "text": [
      "0.9806075686009896\n",
      "0.954496573537164\n",
      "0.954496573537164\n"
     ]
    }
   ],
   "source": [
    "model3 = RandomForestClassifier(random_state=7, n_estimators = 200, max_depth= 20,max_features= 0.5).fit(x_train,y_train)\n",
    "print(model3.score(x_train,y_train))\n",
    "print(model3.score(x_test,y_test))\n",
    "y_pred3 = model3.predict(x_test)\n",
    "print(accuracy_score(y_test,y_pred3))"
   ]
  },
  {
   "cell_type": "code",
   "execution_count": 199,
   "metadata": {},
   "outputs": [
    {
     "name": "stdout",
     "output_type": "stream",
     "text": [
      "0.9673723571749887\n",
      "0.955698471270427\n",
      "0.955698471270427\n"
     ]
    }
   ],
   "source": [
    "model4 = LGBMClassifier(random_state=7, learning_rate=0.15, n_estimators= 300, max_depth= 25).fit(x_train,y_train)\n",
    "print(model4.score(x_train,y_train))\n",
    "print(model4.score(x_test,y_test))\n",
    "y_pred4 = model4.predict(x_test)\n",
    "print(accuracy_score(y_test,y_pred4))"
   ]
  },
  {
   "cell_type": "code",
   "execution_count": 200,
   "metadata": {},
   "outputs": [
    {
     "data": {
      "text/plain": [
       "1961"
      ]
     },
     "execution_count": 200,
     "metadata": {},
     "output_type": "execute_result"
    }
   ],
   "source": [
    "sum(y_pred4)"
   ]
  },
  {
   "cell_type": "code",
   "execution_count": 201,
   "metadata": {},
   "outputs": [
    {
     "name": "stdout",
     "output_type": "stream",
     "text": [
      "0:\tlearn: 0.5791942\ttotal: 110ms\tremaining: 2m 44s\n",
      "1:\tlearn: 0.4929493\ttotal: 220ms\tremaining: 2m 44s\n",
      "2:\tlearn: 0.4386958\ttotal: 315ms\tremaining: 2m 37s\n",
      "3:\tlearn: 0.3873244\ttotal: 477ms\tremaining: 2m 58s\n",
      "4:\tlearn: 0.3508322\ttotal: 571ms\tremaining: 2m 50s\n",
      "5:\tlearn: 0.3115770\ttotal: 670ms\tremaining: 2m 46s\n",
      "6:\tlearn: 0.2843418\ttotal: 776ms\tremaining: 2m 45s\n",
      "7:\tlearn: 0.2603864\ttotal: 884ms\tremaining: 2m 44s\n",
      "8:\tlearn: 0.2408130\ttotal: 987ms\tremaining: 2m 43s\n",
      "9:\tlearn: 0.2275757\ttotal: 1.06s\tremaining: 2m 38s\n",
      "10:\tlearn: 0.2154919\ttotal: 1.15s\tremaining: 2m 35s\n",
      "11:\tlearn: 0.2047704\ttotal: 1.25s\tremaining: 2m 34s\n",
      "12:\tlearn: 0.1975511\ttotal: 1.35s\tremaining: 2m 34s\n",
      "13:\tlearn: 0.1861339\ttotal: 1.45s\tremaining: 2m 34s\n",
      "14:\tlearn: 0.1792912\ttotal: 1.54s\tremaining: 2m 32s\n",
      "15:\tlearn: 0.1726519\ttotal: 1.64s\tremaining: 2m 31s\n",
      "16:\tlearn: 0.1667935\ttotal: 1.74s\tremaining: 2m 31s\n",
      "17:\tlearn: 0.1622874\ttotal: 1.84s\tremaining: 2m 31s\n",
      "18:\tlearn: 0.1587336\ttotal: 1.93s\tremaining: 2m 30s\n",
      "19:\tlearn: 0.1553408\ttotal: 2.02s\tremaining: 2m 29s\n",
      "20:\tlearn: 0.1531742\ttotal: 2.1s\tremaining: 2m 27s\n",
      "21:\tlearn: 0.1514492\ttotal: 2.19s\tremaining: 2m 27s\n",
      "22:\tlearn: 0.1489243\ttotal: 2.27s\tremaining: 2m 25s\n",
      "23:\tlearn: 0.1458892\ttotal: 2.38s\tremaining: 2m 26s\n",
      "24:\tlearn: 0.1438611\ttotal: 2.5s\tremaining: 2m 27s\n",
      "25:\tlearn: 0.1419845\ttotal: 2.6s\tremaining: 2m 27s\n",
      "26:\tlearn: 0.1407530\ttotal: 2.69s\tremaining: 2m 26s\n",
      "27:\tlearn: 0.1395314\ttotal: 2.79s\tremaining: 2m 26s\n",
      "28:\tlearn: 0.1382806\ttotal: 2.87s\tremaining: 2m 25s\n",
      "29:\tlearn: 0.1374979\ttotal: 2.96s\tremaining: 2m 25s\n",
      "30:\tlearn: 0.1364684\ttotal: 3.06s\tremaining: 2m 24s\n",
      "31:\tlearn: 0.1355119\ttotal: 3.14s\tremaining: 2m 24s\n",
      "32:\tlearn: 0.1350468\ttotal: 3.23s\tremaining: 2m 23s\n",
      "33:\tlearn: 0.1340203\ttotal: 3.32s\tremaining: 2m 23s\n",
      "34:\tlearn: 0.1336264\ttotal: 3.4s\tremaining: 2m 22s\n",
      "35:\tlearn: 0.1329299\ttotal: 3.5s\tremaining: 2m 22s\n",
      "36:\tlearn: 0.1324693\ttotal: 3.58s\tremaining: 2m 21s\n",
      "37:\tlearn: 0.1320408\ttotal: 3.68s\tremaining: 2m 21s\n",
      "38:\tlearn: 0.1314787\ttotal: 3.77s\tremaining: 2m 21s\n",
      "39:\tlearn: 0.1311381\ttotal: 3.85s\tremaining: 2m 20s\n",
      "40:\tlearn: 0.1305162\ttotal: 3.96s\tremaining: 2m 20s\n",
      "41:\tlearn: 0.1302540\ttotal: 4.05s\tremaining: 2m 20s\n",
      "42:\tlearn: 0.1298160\ttotal: 4.14s\tremaining: 2m 20s\n",
      "43:\tlearn: 0.1293056\ttotal: 4.25s\tremaining: 2m 20s\n",
      "44:\tlearn: 0.1288813\ttotal: 4.37s\tremaining: 2m 21s\n",
      "45:\tlearn: 0.1286433\ttotal: 4.51s\tremaining: 2m 22s\n",
      "46:\tlearn: 0.1284251\ttotal: 4.63s\tremaining: 2m 23s\n",
      "47:\tlearn: 0.1282029\ttotal: 4.73s\tremaining: 2m 23s\n",
      "48:\tlearn: 0.1279464\ttotal: 4.86s\tremaining: 2m 23s\n",
      "49:\tlearn: 0.1275772\ttotal: 4.96s\tremaining: 2m 23s\n",
      "50:\tlearn: 0.1272965\ttotal: 5.05s\tremaining: 2m 23s\n",
      "51:\tlearn: 0.1271432\ttotal: 5.14s\tremaining: 2m 23s\n",
      "52:\tlearn: 0.1268339\ttotal: 5.23s\tremaining: 2m 22s\n",
      "53:\tlearn: 0.1265845\ttotal: 5.31s\tremaining: 2m 22s\n",
      "54:\tlearn: 0.1264078\ttotal: 5.41s\tremaining: 2m 22s\n",
      "55:\tlearn: 0.1261409\ttotal: 5.5s\tremaining: 2m 21s\n",
      "56:\tlearn: 0.1258717\ttotal: 5.59s\tremaining: 2m 21s\n",
      "57:\tlearn: 0.1255885\ttotal: 5.68s\tremaining: 2m 21s\n",
      "58:\tlearn: 0.1254656\ttotal: 5.76s\tremaining: 2m 20s\n",
      "59:\tlearn: 0.1252117\ttotal: 5.85s\tremaining: 2m 20s\n",
      "60:\tlearn: 0.1250864\ttotal: 5.92s\tremaining: 2m 19s\n",
      "61:\tlearn: 0.1249618\ttotal: 6.01s\tremaining: 2m 19s\n",
      "62:\tlearn: 0.1248238\ttotal: 6.08s\tremaining: 2m 18s\n",
      "63:\tlearn: 0.1246193\ttotal: 6.18s\tremaining: 2m 18s\n",
      "64:\tlearn: 0.1244399\ttotal: 6.27s\tremaining: 2m 18s\n",
      "65:\tlearn: 0.1242759\ttotal: 6.35s\tremaining: 2m 18s\n",
      "66:\tlearn: 0.1241385\ttotal: 6.44s\tremaining: 2m 17s\n",
      "67:\tlearn: 0.1239378\ttotal: 6.55s\tremaining: 2m 17s\n",
      "68:\tlearn: 0.1238059\ttotal: 6.65s\tremaining: 2m 17s\n",
      "69:\tlearn: 0.1236708\ttotal: 6.74s\tremaining: 2m 17s\n",
      "70:\tlearn: 0.1234691\ttotal: 6.82s\tremaining: 2m 17s\n",
      "71:\tlearn: 0.1233456\ttotal: 6.91s\tremaining: 2m 16s\n",
      "72:\tlearn: 0.1232338\ttotal: 6.99s\tremaining: 2m 16s\n",
      "73:\tlearn: 0.1230615\ttotal: 7.08s\tremaining: 2m 16s\n",
      "74:\tlearn: 0.1229030\ttotal: 7.17s\tremaining: 2m 16s\n",
      "75:\tlearn: 0.1227852\ttotal: 7.26s\tremaining: 2m 16s\n",
      "76:\tlearn: 0.1226475\ttotal: 7.38s\tremaining: 2m 16s\n",
      "77:\tlearn: 0.1225195\ttotal: 7.46s\tremaining: 2m 16s\n",
      "78:\tlearn: 0.1223826\ttotal: 7.55s\tremaining: 2m 15s\n",
      "79:\tlearn: 0.1222825\ttotal: 7.63s\tremaining: 2m 15s\n",
      "80:\tlearn: 0.1222135\ttotal: 7.72s\tremaining: 2m 15s\n",
      "81:\tlearn: 0.1220501\ttotal: 7.82s\tremaining: 2m 15s\n",
      "82:\tlearn: 0.1219530\ttotal: 7.9s\tremaining: 2m 14s\n",
      "83:\tlearn: 0.1218785\ttotal: 7.99s\tremaining: 2m 14s\n",
      "84:\tlearn: 0.1217919\ttotal: 8.07s\tremaining: 2m 14s\n",
      "85:\tlearn: 0.1216650\ttotal: 8.16s\tremaining: 2m 14s\n",
      "86:\tlearn: 0.1215534\ttotal: 8.25s\tremaining: 2m 14s\n",
      "87:\tlearn: 0.1214751\ttotal: 8.35s\tremaining: 2m 13s\n",
      "88:\tlearn: 0.1213882\ttotal: 8.44s\tremaining: 2m 13s\n",
      "89:\tlearn: 0.1213066\ttotal: 8.54s\tremaining: 2m 13s\n",
      "90:\tlearn: 0.1212237\ttotal: 8.63s\tremaining: 2m 13s\n",
      "91:\tlearn: 0.1211224\ttotal: 8.73s\tremaining: 2m 13s\n",
      "92:\tlearn: 0.1210579\ttotal: 8.81s\tremaining: 2m 13s\n",
      "93:\tlearn: 0.1209599\ttotal: 8.9s\tremaining: 2m 13s\n",
      "94:\tlearn: 0.1208652\ttotal: 8.98s\tremaining: 2m 12s\n",
      "95:\tlearn: 0.1207900\ttotal: 9.06s\tremaining: 2m 12s\n",
      "96:\tlearn: 0.1206955\ttotal: 9.16s\tremaining: 2m 12s\n",
      "97:\tlearn: 0.1206079\ttotal: 9.25s\tremaining: 2m 12s\n",
      "98:\tlearn: 0.1205087\ttotal: 9.33s\tremaining: 2m 12s\n",
      "99:\tlearn: 0.1204066\ttotal: 9.42s\tremaining: 2m 11s\n",
      "100:\tlearn: 0.1203175\ttotal: 9.52s\tremaining: 2m 11s\n",
      "101:\tlearn: 0.1202508\ttotal: 9.62s\tremaining: 2m 11s\n",
      "102:\tlearn: 0.1201266\ttotal: 9.7s\tremaining: 2m 11s\n",
      "103:\tlearn: 0.1200321\ttotal: 9.81s\tremaining: 2m 11s\n",
      "104:\tlearn: 0.1199584\ttotal: 9.9s\tremaining: 2m 11s\n",
      "105:\tlearn: 0.1198768\ttotal: 9.97s\tremaining: 2m 11s\n",
      "106:\tlearn: 0.1198021\ttotal: 10.1s\tremaining: 2m 10s\n",
      "107:\tlearn: 0.1197064\ttotal: 10.1s\tremaining: 2m 10s\n",
      "108:\tlearn: 0.1196240\ttotal: 10.2s\tremaining: 2m 10s\n",
      "109:\tlearn: 0.1195389\ttotal: 10.3s\tremaining: 2m 10s\n",
      "110:\tlearn: 0.1194669\ttotal: 10.4s\tremaining: 2m 10s\n",
      "111:\tlearn: 0.1193887\ttotal: 10.5s\tremaining: 2m 9s\n",
      "112:\tlearn: 0.1193286\ttotal: 10.6s\tremaining: 2m 10s\n",
      "113:\tlearn: 0.1192380\ttotal: 10.7s\tremaining: 2m 10s\n",
      "114:\tlearn: 0.1191595\ttotal: 10.8s\tremaining: 2m 9s\n",
      "115:\tlearn: 0.1190683\ttotal: 10.9s\tremaining: 2m 10s\n",
      "116:\tlearn: 0.1189470\ttotal: 11s\tremaining: 2m 9s\n",
      "117:\tlearn: 0.1189047\ttotal: 11.1s\tremaining: 2m 9s\n",
      "118:\tlearn: 0.1188306\ttotal: 11.1s\tremaining: 2m 9s\n",
      "119:\tlearn: 0.1187539\ttotal: 11.2s\tremaining: 2m 9s\n",
      "120:\tlearn: 0.1186915\ttotal: 11.3s\tremaining: 2m 9s\n",
      "121:\tlearn: 0.1186428\ttotal: 11.4s\tremaining: 2m 9s\n",
      "122:\tlearn: 0.1185860\ttotal: 11.5s\tremaining: 2m 8s\n",
      "123:\tlearn: 0.1185503\ttotal: 11.6s\tremaining: 2m 9s\n",
      "124:\tlearn: 0.1184802\ttotal: 11.7s\tremaining: 2m 8s\n",
      "125:\tlearn: 0.1184443\ttotal: 11.8s\tremaining: 2m 8s\n",
      "126:\tlearn: 0.1183531\ttotal: 11.9s\tremaining: 2m 8s\n",
      "127:\tlearn: 0.1182929\ttotal: 12s\tremaining: 2m 8s\n",
      "128:\tlearn: 0.1182567\ttotal: 12.1s\tremaining: 2m 8s\n",
      "129:\tlearn: 0.1181091\ttotal: 12.1s\tremaining: 2m 8s\n",
      "130:\tlearn: 0.1180476\ttotal: 12.2s\tremaining: 2m 7s\n",
      "131:\tlearn: 0.1179745\ttotal: 12.3s\tremaining: 2m 7s\n",
      "132:\tlearn: 0.1179151\ttotal: 12.4s\tremaining: 2m 7s\n",
      "133:\tlearn: 0.1178353\ttotal: 12.5s\tremaining: 2m 7s\n",
      "134:\tlearn: 0.1177781\ttotal: 12.6s\tremaining: 2m 7s\n",
      "135:\tlearn: 0.1177098\ttotal: 12.7s\tremaining: 2m 7s\n",
      "136:\tlearn: 0.1176530\ttotal: 12.8s\tremaining: 2m 7s\n",
      "137:\tlearn: 0.1175889\ttotal: 12.9s\tremaining: 2m 7s\n",
      "138:\tlearn: 0.1175419\ttotal: 13s\tremaining: 2m 7s\n",
      "139:\tlearn: 0.1174827\ttotal: 13.1s\tremaining: 2m 7s\n",
      "140:\tlearn: 0.1174396\ttotal: 13.2s\tremaining: 2m 7s\n",
      "141:\tlearn: 0.1173789\ttotal: 13.3s\tremaining: 2m 6s\n",
      "142:\tlearn: 0.1172937\ttotal: 13.4s\tremaining: 2m 6s\n",
      "143:\tlearn: 0.1172520\ttotal: 13.5s\tremaining: 2m 6s\n",
      "144:\tlearn: 0.1172023\ttotal: 13.6s\tremaining: 2m 6s\n",
      "145:\tlearn: 0.1171384\ttotal: 13.7s\tremaining: 2m 6s\n",
      "146:\tlearn: 0.1170871\ttotal: 13.8s\tremaining: 2m 6s\n",
      "147:\tlearn: 0.1170487\ttotal: 13.9s\tremaining: 2m 6s\n",
      "148:\tlearn: 0.1169955\ttotal: 13.9s\tremaining: 2m 6s\n",
      "149:\tlearn: 0.1169326\ttotal: 14s\tremaining: 2m 6s\n",
      "150:\tlearn: 0.1168082\ttotal: 14.1s\tremaining: 2m 6s\n",
      "151:\tlearn: 0.1167659\ttotal: 14.2s\tremaining: 2m 6s\n",
      "152:\tlearn: 0.1167296\ttotal: 14.3s\tremaining: 2m 6s\n",
      "153:\tlearn: 0.1166980\ttotal: 14.4s\tremaining: 2m 5s\n",
      "154:\tlearn: 0.1166170\ttotal: 14.5s\tremaining: 2m 5s\n",
      "155:\tlearn: 0.1165645\ttotal: 14.6s\tremaining: 2m 5s\n",
      "156:\tlearn: 0.1165022\ttotal: 14.7s\tremaining: 2m 5s\n",
      "157:\tlearn: 0.1164387\ttotal: 14.8s\tremaining: 2m 5s\n"
     ]
    },
    {
     "name": "stdout",
     "output_type": "stream",
     "text": [
      "158:\tlearn: 0.1163414\ttotal: 14.9s\tremaining: 2m 5s\n",
      "159:\tlearn: 0.1162886\ttotal: 15s\tremaining: 2m 5s\n",
      "160:\tlearn: 0.1162480\ttotal: 15.1s\tremaining: 2m 5s\n",
      "161:\tlearn: 0.1161978\ttotal: 15.1s\tremaining: 2m 5s\n",
      "162:\tlearn: 0.1161734\ttotal: 15.2s\tremaining: 2m 4s\n",
      "163:\tlearn: 0.1160616\ttotal: 15.3s\tremaining: 2m 4s\n",
      "164:\tlearn: 0.1160279\ttotal: 15.4s\tremaining: 2m 4s\n",
      "165:\tlearn: 0.1159651\ttotal: 15.5s\tremaining: 2m 4s\n",
      "166:\tlearn: 0.1159161\ttotal: 15.6s\tremaining: 2m 4s\n",
      "167:\tlearn: 0.1158544\ttotal: 15.7s\tremaining: 2m 4s\n",
      "168:\tlearn: 0.1157933\ttotal: 15.7s\tremaining: 2m 3s\n",
      "169:\tlearn: 0.1157451\ttotal: 15.8s\tremaining: 2m 3s\n",
      "170:\tlearn: 0.1157164\ttotal: 15.9s\tremaining: 2m 3s\n",
      "171:\tlearn: 0.1156728\ttotal: 16s\tremaining: 2m 3s\n",
      "172:\tlearn: 0.1156240\ttotal: 16.1s\tremaining: 2m 3s\n",
      "173:\tlearn: 0.1156031\ttotal: 16.1s\tremaining: 2m 2s\n",
      "174:\tlearn: 0.1155753\ttotal: 16.2s\tremaining: 2m 2s\n",
      "175:\tlearn: 0.1155318\ttotal: 16.3s\tremaining: 2m 2s\n",
      "176:\tlearn: 0.1154804\ttotal: 16.4s\tremaining: 2m 2s\n",
      "177:\tlearn: 0.1154365\ttotal: 16.5s\tremaining: 2m 2s\n",
      "178:\tlearn: 0.1154114\ttotal: 16.6s\tremaining: 2m 2s\n",
      "179:\tlearn: 0.1153775\ttotal: 16.6s\tremaining: 2m 2s\n",
      "180:\tlearn: 0.1153315\ttotal: 16.8s\tremaining: 2m 2s\n",
      "181:\tlearn: 0.1152885\ttotal: 16.8s\tremaining: 2m 1s\n",
      "182:\tlearn: 0.1152525\ttotal: 16.9s\tremaining: 2m 1s\n",
      "183:\tlearn: 0.1152196\ttotal: 17.1s\tremaining: 2m 1s\n",
      "184:\tlearn: 0.1151661\ttotal: 17.2s\tremaining: 2m 1s\n",
      "185:\tlearn: 0.1151114\ttotal: 17.2s\tremaining: 2m 1s\n",
      "186:\tlearn: 0.1150723\ttotal: 17.3s\tremaining: 2m 1s\n",
      "187:\tlearn: 0.1150559\ttotal: 17.4s\tremaining: 2m 1s\n",
      "188:\tlearn: 0.1150300\ttotal: 17.5s\tremaining: 2m 1s\n",
      "189:\tlearn: 0.1149909\ttotal: 17.6s\tremaining: 2m 1s\n",
      "190:\tlearn: 0.1149533\ttotal: 17.7s\tremaining: 2m 1s\n",
      "191:\tlearn: 0.1149240\ttotal: 17.8s\tremaining: 2m 1s\n",
      "192:\tlearn: 0.1148781\ttotal: 17.9s\tremaining: 2m 1s\n",
      "193:\tlearn: 0.1148542\ttotal: 18s\tremaining: 2m 1s\n",
      "194:\tlearn: 0.1148278\ttotal: 18.1s\tremaining: 2m\n",
      "195:\tlearn: 0.1148111\ttotal: 18.1s\tremaining: 2m\n",
      "196:\tlearn: 0.1147580\ttotal: 18.2s\tremaining: 2m\n",
      "197:\tlearn: 0.1146909\ttotal: 18.3s\tremaining: 2m\n",
      "198:\tlearn: 0.1146575\ttotal: 18.4s\tremaining: 2m\n",
      "199:\tlearn: 0.1146166\ttotal: 18.5s\tremaining: 2m\n",
      "200:\tlearn: 0.1145678\ttotal: 18.6s\tremaining: 2m\n",
      "201:\tlearn: 0.1145308\ttotal: 18.7s\tremaining: 1m 59s\n",
      "202:\tlearn: 0.1144410\ttotal: 18.8s\tremaining: 1m 59s\n",
      "203:\tlearn: 0.1143942\ttotal: 18.8s\tremaining: 1m 59s\n",
      "204:\tlearn: 0.1143519\ttotal: 18.9s\tremaining: 1m 59s\n",
      "205:\tlearn: 0.1143033\ttotal: 19s\tremaining: 1m 59s\n",
      "206:\tlearn: 0.1142727\ttotal: 19.1s\tremaining: 1m 59s\n",
      "207:\tlearn: 0.1142270\ttotal: 19.2s\tremaining: 1m 59s\n",
      "208:\tlearn: 0.1141955\ttotal: 19.3s\tremaining: 1m 59s\n",
      "209:\tlearn: 0.1141587\ttotal: 19.4s\tremaining: 1m 59s\n",
      "210:\tlearn: 0.1141325\ttotal: 19.5s\tremaining: 1m 58s\n",
      "211:\tlearn: 0.1140928\ttotal: 19.6s\tremaining: 1m 58s\n",
      "212:\tlearn: 0.1140284\ttotal: 19.6s\tremaining: 1m 58s\n",
      "213:\tlearn: 0.1139970\ttotal: 19.7s\tremaining: 1m 58s\n",
      "214:\tlearn: 0.1139704\ttotal: 19.8s\tremaining: 1m 58s\n",
      "215:\tlearn: 0.1139514\ttotal: 19.9s\tremaining: 1m 58s\n",
      "216:\tlearn: 0.1139073\ttotal: 20s\tremaining: 1m 58s\n",
      "217:\tlearn: 0.1138410\ttotal: 20s\tremaining: 1m 57s\n",
      "218:\tlearn: 0.1137904\ttotal: 20.1s\tremaining: 1m 57s\n",
      "219:\tlearn: 0.1137497\ttotal: 20.2s\tremaining: 1m 57s\n",
      "220:\tlearn: 0.1137276\ttotal: 20.3s\tremaining: 1m 57s\n",
      "221:\tlearn: 0.1136952\ttotal: 20.4s\tremaining: 1m 57s\n",
      "222:\tlearn: 0.1136715\ttotal: 20.4s\tremaining: 1m 57s\n",
      "223:\tlearn: 0.1136311\ttotal: 20.5s\tremaining: 1m 56s\n",
      "224:\tlearn: 0.1135900\ttotal: 20.6s\tremaining: 1m 56s\n",
      "225:\tlearn: 0.1135750\ttotal: 20.7s\tremaining: 1m 56s\n",
      "226:\tlearn: 0.1135457\ttotal: 20.8s\tremaining: 1m 56s\n",
      "227:\tlearn: 0.1135030\ttotal: 20.8s\tremaining: 1m 56s\n",
      "228:\tlearn: 0.1134514\ttotal: 20.9s\tremaining: 1m 56s\n",
      "229:\tlearn: 0.1134211\ttotal: 21s\tremaining: 1m 55s\n",
      "230:\tlearn: 0.1133839\ttotal: 21.1s\tremaining: 1m 55s\n",
      "231:\tlearn: 0.1133433\ttotal: 21.2s\tremaining: 1m 55s\n",
      "232:\tlearn: 0.1132964\ttotal: 21.3s\tremaining: 1m 55s\n",
      "233:\tlearn: 0.1132785\ttotal: 21.3s\tremaining: 1m 55s\n",
      "234:\tlearn: 0.1132198\ttotal: 21.4s\tremaining: 1m 55s\n",
      "235:\tlearn: 0.1131879\ttotal: 21.5s\tremaining: 1m 55s\n",
      "236:\tlearn: 0.1131558\ttotal: 21.6s\tremaining: 1m 55s\n",
      "237:\tlearn: 0.1131314\ttotal: 21.7s\tremaining: 1m 54s\n",
      "238:\tlearn: 0.1131003\ttotal: 21.7s\tremaining: 1m 54s\n",
      "239:\tlearn: 0.1130620\ttotal: 21.8s\tremaining: 1m 54s\n",
      "240:\tlearn: 0.1130105\ttotal: 21.9s\tremaining: 1m 54s\n",
      "241:\tlearn: 0.1129748\ttotal: 22s\tremaining: 1m 54s\n",
      "242:\tlearn: 0.1129440\ttotal: 22.1s\tremaining: 1m 54s\n",
      "243:\tlearn: 0.1129197\ttotal: 22.1s\tremaining: 1m 54s\n",
      "244:\tlearn: 0.1128860\ttotal: 22.2s\tremaining: 1m 53s\n",
      "245:\tlearn: 0.1128741\ttotal: 22.3s\tremaining: 1m 53s\n",
      "246:\tlearn: 0.1128341\ttotal: 22.4s\tremaining: 1m 53s\n",
      "247:\tlearn: 0.1128031\ttotal: 22.5s\tremaining: 1m 53s\n",
      "248:\tlearn: 0.1127066\ttotal: 22.5s\tremaining: 1m 53s\n",
      "249:\tlearn: 0.1126553\ttotal: 22.6s\tremaining: 1m 53s\n",
      "250:\tlearn: 0.1126278\ttotal: 22.7s\tremaining: 1m 52s\n",
      "251:\tlearn: 0.1126049\ttotal: 22.8s\tremaining: 1m 52s\n",
      "252:\tlearn: 0.1125691\ttotal: 22.9s\tremaining: 1m 52s\n",
      "253:\tlearn: 0.1125450\ttotal: 22.9s\tremaining: 1m 52s\n",
      "254:\tlearn: 0.1125073\ttotal: 23s\tremaining: 1m 52s\n",
      "255:\tlearn: 0.1124804\ttotal: 23.1s\tremaining: 1m 52s\n",
      "256:\tlearn: 0.1123980\ttotal: 23.2s\tremaining: 1m 52s\n",
      "257:\tlearn: 0.1123484\ttotal: 23.3s\tremaining: 1m 52s\n",
      "258:\tlearn: 0.1123099\ttotal: 23.4s\tremaining: 1m 52s\n",
      "259:\tlearn: 0.1122845\ttotal: 23.5s\tremaining: 1m 51s\n",
      "260:\tlearn: 0.1122424\ttotal: 23.6s\tremaining: 1m 51s\n",
      "261:\tlearn: 0.1121971\ttotal: 23.7s\tremaining: 1m 51s\n",
      "262:\tlearn: 0.1121700\ttotal: 23.7s\tremaining: 1m 51s\n",
      "263:\tlearn: 0.1121443\ttotal: 23.8s\tremaining: 1m 51s\n",
      "264:\tlearn: 0.1121100\ttotal: 23.9s\tremaining: 1m 51s\n",
      "265:\tlearn: 0.1120906\ttotal: 24s\tremaining: 1m 51s\n",
      "266:\tlearn: 0.1120509\ttotal: 24.1s\tremaining: 1m 51s\n",
      "267:\tlearn: 0.1120224\ttotal: 24.2s\tremaining: 1m 51s\n",
      "268:\tlearn: 0.1119941\ttotal: 24.3s\tremaining: 1m 51s\n",
      "269:\tlearn: 0.1119630\ttotal: 24.3s\tremaining: 1m 50s\n",
      "270:\tlearn: 0.1119320\ttotal: 24.4s\tremaining: 1m 50s\n",
      "271:\tlearn: 0.1118974\ttotal: 24.5s\tremaining: 1m 50s\n",
      "272:\tlearn: 0.1118394\ttotal: 24.6s\tremaining: 1m 50s\n",
      "273:\tlearn: 0.1118066\ttotal: 24.7s\tremaining: 1m 50s\n",
      "274:\tlearn: 0.1117821\ttotal: 24.8s\tremaining: 1m 50s\n",
      "275:\tlearn: 0.1117496\ttotal: 24.9s\tremaining: 1m 50s\n",
      "276:\tlearn: 0.1117323\ttotal: 24.9s\tremaining: 1m 50s\n",
      "277:\tlearn: 0.1116936\ttotal: 25s\tremaining: 1m 50s\n",
      "278:\tlearn: 0.1116648\ttotal: 25.1s\tremaining: 1m 49s\n",
      "279:\tlearn: 0.1116366\ttotal: 25.2s\tremaining: 1m 49s\n",
      "280:\tlearn: 0.1115956\ttotal: 25.3s\tremaining: 1m 49s\n",
      "281:\tlearn: 0.1115816\ttotal: 25.4s\tremaining: 1m 49s\n",
      "282:\tlearn: 0.1115231\ttotal: 25.5s\tremaining: 1m 49s\n",
      "283:\tlearn: 0.1115012\ttotal: 25.6s\tremaining: 1m 49s\n",
      "284:\tlearn: 0.1114634\ttotal: 25.7s\tremaining: 1m 49s\n",
      "285:\tlearn: 0.1114251\ttotal: 25.8s\tremaining: 1m 49s\n",
      "286:\tlearn: 0.1113822\ttotal: 25.9s\tremaining: 1m 49s\n",
      "287:\tlearn: 0.1113579\ttotal: 25.9s\tremaining: 1m 49s\n",
      "288:\tlearn: 0.1113348\ttotal: 26s\tremaining: 1m 49s\n",
      "289:\tlearn: 0.1112997\ttotal: 26.1s\tremaining: 1m 49s\n",
      "290:\tlearn: 0.1112664\ttotal: 26.2s\tremaining: 1m 48s\n",
      "291:\tlearn: 0.1112319\ttotal: 26.3s\tremaining: 1m 48s\n",
      "292:\tlearn: 0.1111966\ttotal: 26.4s\tremaining: 1m 48s\n",
      "293:\tlearn: 0.1111697\ttotal: 26.5s\tremaining: 1m 48s\n",
      "294:\tlearn: 0.1111444\ttotal: 26.6s\tremaining: 1m 48s\n",
      "295:\tlearn: 0.1111239\ttotal: 26.7s\tremaining: 1m 48s\n",
      "296:\tlearn: 0.1110948\ttotal: 26.7s\tremaining: 1m 48s\n",
      "297:\tlearn: 0.1110712\ttotal: 26.8s\tremaining: 1m 48s\n",
      "298:\tlearn: 0.1110429\ttotal: 26.9s\tremaining: 1m 48s\n",
      "299:\tlearn: 0.1109893\ttotal: 27s\tremaining: 1m 48s\n",
      "300:\tlearn: 0.1109549\ttotal: 27.1s\tremaining: 1m 48s\n",
      "301:\tlearn: 0.1109491\ttotal: 27.2s\tremaining: 1m 47s\n",
      "302:\tlearn: 0.1109087\ttotal: 27.3s\tremaining: 1m 47s\n",
      "303:\tlearn: 0.1108865\ttotal: 27.4s\tremaining: 1m 47s\n",
      "304:\tlearn: 0.1108594\ttotal: 27.5s\tremaining: 1m 47s\n",
      "305:\tlearn: 0.1108297\ttotal: 27.6s\tremaining: 1m 47s\n",
      "306:\tlearn: 0.1108164\ttotal: 27.7s\tremaining: 1m 47s\n",
      "307:\tlearn: 0.1107937\ttotal: 27.7s\tremaining: 1m 47s\n",
      "308:\tlearn: 0.1107616\ttotal: 27.8s\tremaining: 1m 47s\n",
      "309:\tlearn: 0.1107402\ttotal: 27.9s\tremaining: 1m 47s\n",
      "310:\tlearn: 0.1107075\ttotal: 28s\tremaining: 1m 47s\n",
      "311:\tlearn: 0.1106752\ttotal: 28.1s\tremaining: 1m 46s\n",
      "312:\tlearn: 0.1106644\ttotal: 28.2s\tremaining: 1m 46s\n",
      "313:\tlearn: 0.1106443\ttotal: 28.2s\tremaining: 1m 46s\n",
      "314:\tlearn: 0.1106181\ttotal: 28.3s\tremaining: 1m 46s\n"
     ]
    },
    {
     "name": "stdout",
     "output_type": "stream",
     "text": [
      "315:\tlearn: 0.1105842\ttotal: 28.5s\tremaining: 1m 46s\n",
      "316:\tlearn: 0.1105604\ttotal: 28.5s\tremaining: 1m 46s\n",
      "317:\tlearn: 0.1105281\ttotal: 28.6s\tremaining: 1m 46s\n",
      "318:\tlearn: 0.1104881\ttotal: 28.7s\tremaining: 1m 46s\n",
      "319:\tlearn: 0.1104374\ttotal: 28.8s\tremaining: 1m 46s\n",
      "320:\tlearn: 0.1103959\ttotal: 28.9s\tremaining: 1m 46s\n",
      "321:\tlearn: 0.1103713\ttotal: 29s\tremaining: 1m 46s\n",
      "322:\tlearn: 0.1103222\ttotal: 29.1s\tremaining: 1m 46s\n",
      "323:\tlearn: 0.1102950\ttotal: 29.2s\tremaining: 1m 45s\n",
      "324:\tlearn: 0.1102715\ttotal: 29.3s\tremaining: 1m 45s\n",
      "325:\tlearn: 0.1102414\ttotal: 29.3s\tremaining: 1m 45s\n",
      "326:\tlearn: 0.1101866\ttotal: 29.4s\tremaining: 1m 45s\n",
      "327:\tlearn: 0.1101666\ttotal: 29.6s\tremaining: 1m 45s\n",
      "328:\tlearn: 0.1101304\ttotal: 29.6s\tremaining: 1m 45s\n",
      "329:\tlearn: 0.1101151\ttotal: 29.7s\tremaining: 1m 45s\n",
      "330:\tlearn: 0.1100863\ttotal: 29.8s\tremaining: 1m 45s\n",
      "331:\tlearn: 0.1100664\ttotal: 29.9s\tremaining: 1m 45s\n",
      "332:\tlearn: 0.1100292\ttotal: 30s\tremaining: 1m 45s\n",
      "333:\tlearn: 0.1100076\ttotal: 30.1s\tremaining: 1m 44s\n",
      "334:\tlearn: 0.1099792\ttotal: 30.1s\tremaining: 1m 44s\n",
      "335:\tlearn: 0.1099595\ttotal: 30.2s\tremaining: 1m 44s\n",
      "336:\tlearn: 0.1099353\ttotal: 30.3s\tremaining: 1m 44s\n",
      "337:\tlearn: 0.1099190\ttotal: 30.4s\tremaining: 1m 44s\n",
      "338:\tlearn: 0.1098903\ttotal: 30.5s\tremaining: 1m 44s\n",
      "339:\tlearn: 0.1098537\ttotal: 30.6s\tremaining: 1m 44s\n",
      "340:\tlearn: 0.1098208\ttotal: 30.7s\tremaining: 1m 44s\n",
      "341:\tlearn: 0.1098058\ttotal: 30.8s\tremaining: 1m 44s\n",
      "342:\tlearn: 0.1097697\ttotal: 30.9s\tremaining: 1m 44s\n",
      "343:\tlearn: 0.1097435\ttotal: 31s\tremaining: 1m 44s\n",
      "344:\tlearn: 0.1097318\ttotal: 31.1s\tremaining: 1m 44s\n",
      "345:\tlearn: 0.1096950\ttotal: 31.2s\tremaining: 1m 44s\n",
      "346:\tlearn: 0.1096680\ttotal: 31.3s\tremaining: 1m 43s\n",
      "347:\tlearn: 0.1096373\ttotal: 31.4s\tremaining: 1m 43s\n",
      "348:\tlearn: 0.1096107\ttotal: 31.5s\tremaining: 1m 43s\n",
      "349:\tlearn: 0.1095919\ttotal: 31.6s\tremaining: 1m 43s\n",
      "350:\tlearn: 0.1095747\ttotal: 31.6s\tremaining: 1m 43s\n",
      "351:\tlearn: 0.1095432\ttotal: 31.7s\tremaining: 1m 43s\n",
      "352:\tlearn: 0.1095230\ttotal: 31.8s\tremaining: 1m 43s\n",
      "353:\tlearn: 0.1095013\ttotal: 31.9s\tremaining: 1m 43s\n",
      "354:\tlearn: 0.1094608\ttotal: 32s\tremaining: 1m 43s\n",
      "355:\tlearn: 0.1094293\ttotal: 32s\tremaining: 1m 42s\n",
      "356:\tlearn: 0.1094004\ttotal: 32.1s\tremaining: 1m 42s\n",
      "357:\tlearn: 0.1093675\ttotal: 32.2s\tremaining: 1m 42s\n",
      "358:\tlearn: 0.1093492\ttotal: 32.3s\tremaining: 1m 42s\n",
      "359:\tlearn: 0.1093227\ttotal: 32.4s\tremaining: 1m 42s\n",
      "360:\tlearn: 0.1092911\ttotal: 32.4s\tremaining: 1m 42s\n",
      "361:\tlearn: 0.1092699\ttotal: 32.5s\tremaining: 1m 42s\n",
      "362:\tlearn: 0.1092534\ttotal: 32.6s\tremaining: 1m 42s\n",
      "363:\tlearn: 0.1092078\ttotal: 32.7s\tremaining: 1m 42s\n",
      "364:\tlearn: 0.1091972\ttotal: 32.8s\tremaining: 1m 41s\n",
      "365:\tlearn: 0.1091716\ttotal: 32.9s\tremaining: 1m 41s\n",
      "366:\tlearn: 0.1091459\ttotal: 33s\tremaining: 1m 41s\n",
      "367:\tlearn: 0.1091320\ttotal: 33.1s\tremaining: 1m 41s\n",
      "368:\tlearn: 0.1091154\ttotal: 33.1s\tremaining: 1m 41s\n",
      "369:\tlearn: 0.1090917\ttotal: 33.2s\tremaining: 1m 41s\n",
      "370:\tlearn: 0.1090721\ttotal: 33.3s\tremaining: 1m 41s\n",
      "371:\tlearn: 0.1090586\ttotal: 33.4s\tremaining: 1m 41s\n",
      "372:\tlearn: 0.1090363\ttotal: 33.5s\tremaining: 1m 41s\n",
      "373:\tlearn: 0.1090117\ttotal: 33.6s\tremaining: 1m 41s\n",
      "374:\tlearn: 0.1089903\ttotal: 33.7s\tremaining: 1m 41s\n",
      "375:\tlearn: 0.1089558\ttotal: 33.8s\tremaining: 1m 41s\n",
      "376:\tlearn: 0.1089287\ttotal: 33.9s\tremaining: 1m 40s\n",
      "377:\tlearn: 0.1089132\ttotal: 33.9s\tremaining: 1m 40s\n",
      "378:\tlearn: 0.1088873\ttotal: 34s\tremaining: 1m 40s\n",
      "379:\tlearn: 0.1088764\ttotal: 34.1s\tremaining: 1m 40s\n",
      "380:\tlearn: 0.1088587\ttotal: 34.2s\tremaining: 1m 40s\n",
      "381:\tlearn: 0.1088492\ttotal: 34.3s\tremaining: 1m 40s\n",
      "382:\tlearn: 0.1088119\ttotal: 34.4s\tremaining: 1m 40s\n",
      "383:\tlearn: 0.1087864\ttotal: 34.4s\tremaining: 1m 40s\n",
      "384:\tlearn: 0.1087765\ttotal: 34.5s\tremaining: 1m 39s\n",
      "385:\tlearn: 0.1087467\ttotal: 34.6s\tremaining: 1m 39s\n",
      "386:\tlearn: 0.1087117\ttotal: 34.7s\tremaining: 1m 39s\n",
      "387:\tlearn: 0.1086885\ttotal: 34.8s\tremaining: 1m 39s\n",
      "388:\tlearn: 0.1086665\ttotal: 34.9s\tremaining: 1m 39s\n",
      "389:\tlearn: 0.1086450\ttotal: 35s\tremaining: 1m 39s\n",
      "390:\tlearn: 0.1086297\ttotal: 35.1s\tremaining: 1m 39s\n",
      "391:\tlearn: 0.1086002\ttotal: 35.1s\tremaining: 1m 39s\n",
      "392:\tlearn: 0.1085899\ttotal: 35.2s\tremaining: 1m 39s\n",
      "393:\tlearn: 0.1085736\ttotal: 35.3s\tremaining: 1m 39s\n",
      "394:\tlearn: 0.1085611\ttotal: 35.4s\tremaining: 1m 38s\n",
      "395:\tlearn: 0.1085367\ttotal: 35.5s\tremaining: 1m 38s\n",
      "396:\tlearn: 0.1085093\ttotal: 35.6s\tremaining: 1m 38s\n",
      "397:\tlearn: 0.1084946\ttotal: 35.6s\tremaining: 1m 38s\n",
      "398:\tlearn: 0.1084550\ttotal: 35.7s\tremaining: 1m 38s\n",
      "399:\tlearn: 0.1084415\ttotal: 35.8s\tremaining: 1m 38s\n",
      "400:\tlearn: 0.1084228\ttotal: 35.9s\tremaining: 1m 38s\n",
      "401:\tlearn: 0.1084137\ttotal: 36s\tremaining: 1m 38s\n",
      "402:\tlearn: 0.1083877\ttotal: 36.1s\tremaining: 1m 38s\n",
      "403:\tlearn: 0.1083592\ttotal: 36.1s\tremaining: 1m 38s\n",
      "404:\tlearn: 0.1083445\ttotal: 36.2s\tremaining: 1m 37s\n",
      "405:\tlearn: 0.1083243\ttotal: 36.3s\tremaining: 1m 37s\n",
      "406:\tlearn: 0.1082962\ttotal: 36.4s\tremaining: 1m 37s\n",
      "407:\tlearn: 0.1082861\ttotal: 36.5s\tremaining: 1m 37s\n",
      "408:\tlearn: 0.1082680\ttotal: 36.5s\tremaining: 1m 37s\n",
      "409:\tlearn: 0.1082460\ttotal: 36.6s\tremaining: 1m 37s\n",
      "410:\tlearn: 0.1082356\ttotal: 36.7s\tremaining: 1m 37s\n",
      "411:\tlearn: 0.1082049\ttotal: 36.8s\tremaining: 1m 37s\n",
      "412:\tlearn: 0.1081762\ttotal: 36.9s\tremaining: 1m 37s\n",
      "413:\tlearn: 0.1081675\ttotal: 37s\tremaining: 1m 36s\n",
      "414:\tlearn: 0.1081309\ttotal: 37.1s\tremaining: 1m 36s\n",
      "415:\tlearn: 0.1081044\ttotal: 37.2s\tremaining: 1m 36s\n",
      "416:\tlearn: 0.1080700\ttotal: 37.3s\tremaining: 1m 36s\n",
      "417:\tlearn: 0.1080519\ttotal: 37.4s\tremaining: 1m 36s\n",
      "418:\tlearn: 0.1080284\ttotal: 37.5s\tremaining: 1m 36s\n",
      "419:\tlearn: 0.1080240\ttotal: 37.6s\tremaining: 1m 36s\n",
      "420:\tlearn: 0.1080029\ttotal: 37.7s\tremaining: 1m 36s\n",
      "421:\tlearn: 0.1079789\ttotal: 37.8s\tremaining: 1m 36s\n",
      "422:\tlearn: 0.1079608\ttotal: 37.9s\tremaining: 1m 36s\n",
      "423:\tlearn: 0.1079142\ttotal: 38s\tremaining: 1m 36s\n",
      "424:\tlearn: 0.1079021\ttotal: 38.2s\tremaining: 1m 36s\n",
      "425:\tlearn: 0.1078753\ttotal: 38.3s\tremaining: 1m 36s\n",
      "426:\tlearn: 0.1078501\ttotal: 38.4s\tremaining: 1m 36s\n",
      "427:\tlearn: 0.1078251\ttotal: 38.5s\tremaining: 1m 36s\n",
      "428:\tlearn: 0.1078016\ttotal: 38.5s\tremaining: 1m 36s\n",
      "429:\tlearn: 0.1077863\ttotal: 38.7s\tremaining: 1m 36s\n",
      "430:\tlearn: 0.1077383\ttotal: 38.8s\tremaining: 1m 36s\n",
      "431:\tlearn: 0.1077210\ttotal: 38.9s\tremaining: 1m 36s\n",
      "432:\tlearn: 0.1076997\ttotal: 39s\tremaining: 1m 36s\n",
      "433:\tlearn: 0.1076738\ttotal: 39.1s\tremaining: 1m 36s\n",
      "434:\tlearn: 0.1076493\ttotal: 39.2s\tremaining: 1m 36s\n",
      "435:\tlearn: 0.1076341\ttotal: 39.3s\tremaining: 1m 35s\n",
      "436:\tlearn: 0.1076243\ttotal: 39.4s\tremaining: 1m 35s\n",
      "437:\tlearn: 0.1075973\ttotal: 39.5s\tremaining: 1m 35s\n",
      "438:\tlearn: 0.1075760\ttotal: 39.5s\tremaining: 1m 35s\n",
      "439:\tlearn: 0.1075529\ttotal: 39.6s\tremaining: 1m 35s\n",
      "440:\tlearn: 0.1075317\ttotal: 39.7s\tremaining: 1m 35s\n",
      "441:\tlearn: 0.1075051\ttotal: 39.8s\tremaining: 1m 35s\n",
      "442:\tlearn: 0.1074835\ttotal: 39.9s\tremaining: 1m 35s\n",
      "443:\tlearn: 0.1074643\ttotal: 40s\tremaining: 1m 35s\n",
      "444:\tlearn: 0.1074466\ttotal: 40.1s\tremaining: 1m 35s\n",
      "445:\tlearn: 0.1074413\ttotal: 40.2s\tremaining: 1m 34s\n",
      "446:\tlearn: 0.1074158\ttotal: 40.3s\tremaining: 1m 34s\n",
      "447:\tlearn: 0.1073917\ttotal: 40.4s\tremaining: 1m 34s\n",
      "448:\tlearn: 0.1073846\ttotal: 40.5s\tremaining: 1m 34s\n",
      "449:\tlearn: 0.1073806\ttotal: 40.6s\tremaining: 1m 34s\n",
      "450:\tlearn: 0.1073540\ttotal: 40.7s\tremaining: 1m 34s\n",
      "451:\tlearn: 0.1073365\ttotal: 40.8s\tremaining: 1m 34s\n",
      "452:\tlearn: 0.1073095\ttotal: 40.9s\tremaining: 1m 34s\n",
      "453:\tlearn: 0.1072803\ttotal: 41s\tremaining: 1m 34s\n",
      "454:\tlearn: 0.1072636\ttotal: 41.1s\tremaining: 1m 34s\n",
      "455:\tlearn: 0.1072519\ttotal: 41.2s\tremaining: 1m 34s\n",
      "456:\tlearn: 0.1072371\ttotal: 41.3s\tremaining: 1m 34s\n",
      "457:\tlearn: 0.1072170\ttotal: 41.4s\tremaining: 1m 34s\n",
      "458:\tlearn: 0.1071879\ttotal: 41.5s\tremaining: 1m 34s\n",
      "459:\tlearn: 0.1071715\ttotal: 41.6s\tremaining: 1m 34s\n",
      "460:\tlearn: 0.1071612\ttotal: 41.7s\tremaining: 1m 34s\n",
      "461:\tlearn: 0.1071390\ttotal: 41.8s\tremaining: 1m 33s\n",
      "462:\tlearn: 0.1071204\ttotal: 41.9s\tremaining: 1m 33s\n",
      "463:\tlearn: 0.1071125\ttotal: 42s\tremaining: 1m 33s\n",
      "464:\tlearn: 0.1070874\ttotal: 42.1s\tremaining: 1m 33s\n",
      "465:\tlearn: 0.1070786\ttotal: 42.2s\tremaining: 1m 33s\n",
      "466:\tlearn: 0.1070630\ttotal: 42.3s\tremaining: 1m 33s\n",
      "467:\tlearn: 0.1070441\ttotal: 42.4s\tremaining: 1m 33s\n",
      "468:\tlearn: 0.1070247\ttotal: 42.5s\tremaining: 1m 33s\n",
      "469:\tlearn: 0.1070091\ttotal: 42.5s\tremaining: 1m 33s\n",
      "470:\tlearn: 0.1070029\ttotal: 42.6s\tremaining: 1m 33s\n"
     ]
    },
    {
     "name": "stdout",
     "output_type": "stream",
     "text": [
      "471:\tlearn: 0.1069998\ttotal: 42.7s\tremaining: 1m 32s\n",
      "472:\tlearn: 0.1069872\ttotal: 42.8s\tremaining: 1m 32s\n",
      "473:\tlearn: 0.1069620\ttotal: 42.9s\tremaining: 1m 32s\n",
      "474:\tlearn: 0.1069426\ttotal: 43s\tremaining: 1m 32s\n",
      "475:\tlearn: 0.1069214\ttotal: 43s\tremaining: 1m 32s\n",
      "476:\tlearn: 0.1069022\ttotal: 43.1s\tremaining: 1m 32s\n",
      "477:\tlearn: 0.1068905\ttotal: 43.2s\tremaining: 1m 32s\n",
      "478:\tlearn: 0.1068725\ttotal: 43.3s\tremaining: 1m 32s\n",
      "479:\tlearn: 0.1068398\ttotal: 43.4s\tremaining: 1m 32s\n",
      "480:\tlearn: 0.1068262\ttotal: 43.5s\tremaining: 1m 32s\n",
      "481:\tlearn: 0.1068055\ttotal: 43.6s\tremaining: 1m 32s\n",
      "482:\tlearn: 0.1067819\ttotal: 43.7s\tremaining: 1m 31s\n",
      "483:\tlearn: 0.1067676\ttotal: 43.8s\tremaining: 1m 31s\n",
      "484:\tlearn: 0.1067444\ttotal: 43.9s\tremaining: 1m 31s\n",
      "485:\tlearn: 0.1067284\ttotal: 43.9s\tremaining: 1m 31s\n",
      "486:\tlearn: 0.1067061\ttotal: 44s\tremaining: 1m 31s\n",
      "487:\tlearn: 0.1066710\ttotal: 44.1s\tremaining: 1m 31s\n",
      "488:\tlearn: 0.1066477\ttotal: 44.2s\tremaining: 1m 31s\n",
      "489:\tlearn: 0.1066444\ttotal: 44.4s\tremaining: 1m 31s\n",
      "490:\tlearn: 0.1066267\ttotal: 44.5s\tremaining: 1m 31s\n",
      "491:\tlearn: 0.1066103\ttotal: 44.5s\tremaining: 1m 31s\n",
      "492:\tlearn: 0.1065953\ttotal: 44.6s\tremaining: 1m 31s\n",
      "493:\tlearn: 0.1065801\ttotal: 44.7s\tremaining: 1m 31s\n",
      "494:\tlearn: 0.1065648\ttotal: 44.8s\tremaining: 1m 31s\n",
      "495:\tlearn: 0.1065579\ttotal: 44.9s\tremaining: 1m 30s\n",
      "496:\tlearn: 0.1065375\ttotal: 45s\tremaining: 1m 30s\n",
      "497:\tlearn: 0.1065209\ttotal: 45.1s\tremaining: 1m 30s\n",
      "498:\tlearn: 0.1065025\ttotal: 45.2s\tremaining: 1m 30s\n",
      "499:\tlearn: 0.1064882\ttotal: 45.2s\tremaining: 1m 30s\n",
      "500:\tlearn: 0.1064742\ttotal: 45.4s\tremaining: 1m 30s\n",
      "501:\tlearn: 0.1064612\ttotal: 45.4s\tremaining: 1m 30s\n",
      "502:\tlearn: 0.1064200\ttotal: 45.5s\tremaining: 1m 30s\n",
      "503:\tlearn: 0.1064032\ttotal: 45.6s\tremaining: 1m 30s\n",
      "504:\tlearn: 0.1063853\ttotal: 45.7s\tremaining: 1m 30s\n",
      "505:\tlearn: 0.1063652\ttotal: 45.8s\tremaining: 1m 29s\n",
      "506:\tlearn: 0.1063270\ttotal: 45.9s\tremaining: 1m 29s\n",
      "507:\tlearn: 0.1063187\ttotal: 46s\tremaining: 1m 29s\n",
      "508:\tlearn: 0.1063126\ttotal: 46.1s\tremaining: 1m 29s\n",
      "509:\tlearn: 0.1062887\ttotal: 46.2s\tremaining: 1m 29s\n",
      "510:\tlearn: 0.1062793\ttotal: 46.3s\tremaining: 1m 29s\n",
      "511:\tlearn: 0.1062670\ttotal: 46.3s\tremaining: 1m 29s\n",
      "512:\tlearn: 0.1062385\ttotal: 46.4s\tremaining: 1m 29s\n",
      "513:\tlearn: 0.1062278\ttotal: 46.5s\tremaining: 1m 29s\n",
      "514:\tlearn: 0.1062146\ttotal: 46.6s\tremaining: 1m 29s\n",
      "515:\tlearn: 0.1062028\ttotal: 46.7s\tremaining: 1m 29s\n",
      "516:\tlearn: 0.1061940\ttotal: 46.8s\tremaining: 1m 29s\n",
      "517:\tlearn: 0.1061705\ttotal: 46.9s\tremaining: 1m 28s\n",
      "518:\tlearn: 0.1061564\ttotal: 47s\tremaining: 1m 28s\n",
      "519:\tlearn: 0.1061356\ttotal: 47.1s\tremaining: 1m 28s\n",
      "520:\tlearn: 0.1061268\ttotal: 47.2s\tremaining: 1m 28s\n",
      "521:\tlearn: 0.1061101\ttotal: 47.3s\tremaining: 1m 28s\n",
      "522:\tlearn: 0.1061024\ttotal: 47.4s\tremaining: 1m 28s\n",
      "523:\tlearn: 0.1060952\ttotal: 47.4s\tremaining: 1m 28s\n",
      "524:\tlearn: 0.1060748\ttotal: 47.5s\tremaining: 1m 28s\n",
      "525:\tlearn: 0.1060447\ttotal: 47.6s\tremaining: 1m 28s\n",
      "526:\tlearn: 0.1060358\ttotal: 47.7s\tremaining: 1m 28s\n",
      "527:\tlearn: 0.1060169\ttotal: 47.8s\tremaining: 1m 27s\n",
      "528:\tlearn: 0.1059928\ttotal: 47.9s\tremaining: 1m 27s\n",
      "529:\tlearn: 0.1059761\ttotal: 47.9s\tremaining: 1m 27s\n",
      "530:\tlearn: 0.1059644\ttotal: 48s\tremaining: 1m 27s\n",
      "531:\tlearn: 0.1059493\ttotal: 48.1s\tremaining: 1m 27s\n",
      "532:\tlearn: 0.1059294\ttotal: 48.2s\tremaining: 1m 27s\n",
      "533:\tlearn: 0.1059227\ttotal: 48.3s\tremaining: 1m 27s\n",
      "534:\tlearn: 0.1059093\ttotal: 48.4s\tremaining: 1m 27s\n",
      "535:\tlearn: 0.1058822\ttotal: 48.5s\tremaining: 1m 27s\n",
      "536:\tlearn: 0.1058556\ttotal: 48.6s\tremaining: 1m 27s\n",
      "537:\tlearn: 0.1058423\ttotal: 48.7s\tremaining: 1m 27s\n",
      "538:\tlearn: 0.1058275\ttotal: 48.8s\tremaining: 1m 26s\n",
      "539:\tlearn: 0.1058214\ttotal: 48.9s\tremaining: 1m 26s\n",
      "540:\tlearn: 0.1058150\ttotal: 48.9s\tremaining: 1m 26s\n",
      "541:\tlearn: 0.1058075\ttotal: 49s\tremaining: 1m 26s\n",
      "542:\tlearn: 0.1057722\ttotal: 49.1s\tremaining: 1m 26s\n",
      "543:\tlearn: 0.1057509\ttotal: 49.2s\tremaining: 1m 26s\n",
      "544:\tlearn: 0.1057318\ttotal: 49.3s\tremaining: 1m 26s\n",
      "545:\tlearn: 0.1057255\ttotal: 49.3s\tremaining: 1m 26s\n",
      "546:\tlearn: 0.1057106\ttotal: 49.4s\tremaining: 1m 26s\n",
      "547:\tlearn: 0.1057008\ttotal: 49.5s\tremaining: 1m 26s\n",
      "548:\tlearn: 0.1056762\ttotal: 49.6s\tremaining: 1m 25s\n",
      "549:\tlearn: 0.1056579\ttotal: 49.7s\tremaining: 1m 25s\n",
      "550:\tlearn: 0.1056421\ttotal: 49.8s\tremaining: 1m 25s\n",
      "551:\tlearn: 0.1056271\ttotal: 49.9s\tremaining: 1m 25s\n",
      "552:\tlearn: 0.1056026\ttotal: 50s\tremaining: 1m 25s\n",
      "553:\tlearn: 0.1055938\ttotal: 50s\tremaining: 1m 25s\n",
      "554:\tlearn: 0.1055725\ttotal: 50.1s\tremaining: 1m 25s\n",
      "555:\tlearn: 0.1055554\ttotal: 50.2s\tremaining: 1m 25s\n",
      "556:\tlearn: 0.1055382\ttotal: 50.3s\tremaining: 1m 25s\n",
      "557:\tlearn: 0.1055326\ttotal: 50.4s\tremaining: 1m 25s\n",
      "558:\tlearn: 0.1055255\ttotal: 50.5s\tremaining: 1m 24s\n",
      "559:\tlearn: 0.1055021\ttotal: 50.6s\tremaining: 1m 24s\n",
      "560:\tlearn: 0.1054825\ttotal: 50.7s\tremaining: 1m 24s\n",
      "561:\tlearn: 0.1054643\ttotal: 50.8s\tremaining: 1m 24s\n",
      "562:\tlearn: 0.1054493\ttotal: 50.9s\tremaining: 1m 24s\n",
      "563:\tlearn: 0.1054439\ttotal: 50.9s\tremaining: 1m 24s\n",
      "564:\tlearn: 0.1054199\ttotal: 51s\tremaining: 1m 24s\n",
      "565:\tlearn: 0.1054080\ttotal: 51.1s\tremaining: 1m 24s\n",
      "566:\tlearn: 0.1053870\ttotal: 51.2s\tremaining: 1m 24s\n",
      "567:\tlearn: 0.1053725\ttotal: 51.3s\tremaining: 1m 24s\n",
      "568:\tlearn: 0.1053593\ttotal: 51.4s\tremaining: 1m 24s\n",
      "569:\tlearn: 0.1053458\ttotal: 51.5s\tremaining: 1m 24s\n",
      "570:\tlearn: 0.1053161\ttotal: 51.6s\tremaining: 1m 23s\n",
      "571:\tlearn: 0.1052999\ttotal: 51.7s\tremaining: 1m 23s\n",
      "572:\tlearn: 0.1052919\ttotal: 51.8s\tremaining: 1m 23s\n",
      "573:\tlearn: 0.1052766\ttotal: 51.9s\tremaining: 1m 23s\n",
      "574:\tlearn: 0.1052526\ttotal: 51.9s\tremaining: 1m 23s\n",
      "575:\tlearn: 0.1052444\ttotal: 52s\tremaining: 1m 23s\n",
      "576:\tlearn: 0.1052394\ttotal: 52.1s\tremaining: 1m 23s\n",
      "577:\tlearn: 0.1052328\ttotal: 52.2s\tremaining: 1m 23s\n",
      "578:\tlearn: 0.1052182\ttotal: 52.3s\tremaining: 1m 23s\n",
      "579:\tlearn: 0.1052023\ttotal: 52.4s\tremaining: 1m 23s\n",
      "580:\tlearn: 0.1051905\ttotal: 52.5s\tremaining: 1m 22s\n",
      "581:\tlearn: 0.1051620\ttotal: 52.6s\tremaining: 1m 22s\n",
      "582:\tlearn: 0.1051492\ttotal: 52.6s\tremaining: 1m 22s\n",
      "583:\tlearn: 0.1051271\ttotal: 52.7s\tremaining: 1m 22s\n",
      "584:\tlearn: 0.1051128\ttotal: 52.8s\tremaining: 1m 22s\n",
      "585:\tlearn: 0.1050935\ttotal: 52.9s\tremaining: 1m 22s\n",
      "586:\tlearn: 0.1050654\ttotal: 53s\tremaining: 1m 22s\n",
      "587:\tlearn: 0.1050489\ttotal: 53.1s\tremaining: 1m 22s\n",
      "588:\tlearn: 0.1050436\ttotal: 53.1s\tremaining: 1m 22s\n",
      "589:\tlearn: 0.1050367\ttotal: 53.2s\tremaining: 1m 22s\n",
      "590:\tlearn: 0.1050190\ttotal: 53.3s\tremaining: 1m 21s\n",
      "591:\tlearn: 0.1050001\ttotal: 53.4s\tremaining: 1m 21s\n",
      "592:\tlearn: 0.1049872\ttotal: 53.5s\tremaining: 1m 21s\n",
      "593:\tlearn: 0.1049692\ttotal: 53.6s\tremaining: 1m 21s\n",
      "594:\tlearn: 0.1049476\ttotal: 53.7s\tremaining: 1m 21s\n",
      "595:\tlearn: 0.1049413\ttotal: 53.8s\tremaining: 1m 21s\n",
      "596:\tlearn: 0.1049353\ttotal: 53.8s\tremaining: 1m 21s\n",
      "597:\tlearn: 0.1049225\ttotal: 53.9s\tremaining: 1m 21s\n",
      "598:\tlearn: 0.1049046\ttotal: 54s\tremaining: 1m 21s\n",
      "599:\tlearn: 0.1048992\ttotal: 54.1s\tremaining: 1m 21s\n",
      "600:\tlearn: 0.1048836\ttotal: 54.2s\tremaining: 1m 21s\n",
      "601:\tlearn: 0.1048668\ttotal: 54.3s\tremaining: 1m 20s\n",
      "602:\tlearn: 0.1048603\ttotal: 54.3s\tremaining: 1m 20s\n",
      "603:\tlearn: 0.1048553\ttotal: 54.4s\tremaining: 1m 20s\n",
      "604:\tlearn: 0.1048374\ttotal: 54.5s\tremaining: 1m 20s\n",
      "605:\tlearn: 0.1048171\ttotal: 54.6s\tremaining: 1m 20s\n",
      "606:\tlearn: 0.1048042\ttotal: 54.7s\tremaining: 1m 20s\n",
      "607:\tlearn: 0.1047817\ttotal: 54.8s\tremaining: 1m 20s\n",
      "608:\tlearn: 0.1047773\ttotal: 54.9s\tremaining: 1m 20s\n",
      "609:\tlearn: 0.1047683\ttotal: 55s\tremaining: 1m 20s\n",
      "610:\tlearn: 0.1047542\ttotal: 55s\tremaining: 1m 20s\n",
      "611:\tlearn: 0.1047420\ttotal: 55.1s\tremaining: 1m 19s\n",
      "612:\tlearn: 0.1047220\ttotal: 55.2s\tremaining: 1m 19s\n",
      "613:\tlearn: 0.1047071\ttotal: 55.3s\tremaining: 1m 19s\n",
      "614:\tlearn: 0.1047038\ttotal: 55.4s\tremaining: 1m 19s\n",
      "615:\tlearn: 0.1046919\ttotal: 55.5s\tremaining: 1m 19s\n",
      "616:\tlearn: 0.1046723\ttotal: 55.5s\tremaining: 1m 19s\n",
      "617:\tlearn: 0.1046532\ttotal: 55.6s\tremaining: 1m 19s\n",
      "618:\tlearn: 0.1046364\ttotal: 55.7s\tremaining: 1m 19s\n",
      "619:\tlearn: 0.1046192\ttotal: 55.8s\tremaining: 1m 19s\n",
      "620:\tlearn: 0.1046048\ttotal: 55.9s\tremaining: 1m 19s\n",
      "621:\tlearn: 0.1045943\ttotal: 56s\tremaining: 1m 18s\n",
      "622:\tlearn: 0.1045878\ttotal: 56s\tremaining: 1m 18s\n",
      "623:\tlearn: 0.1045816\ttotal: 56.1s\tremaining: 1m 18s\n",
      "624:\tlearn: 0.1045768\ttotal: 56.2s\tremaining: 1m 18s\n",
      "625:\tlearn: 0.1045606\ttotal: 56.3s\tremaining: 1m 18s\n",
      "626:\tlearn: 0.1045446\ttotal: 56.4s\tremaining: 1m 18s\n"
     ]
    },
    {
     "name": "stdout",
     "output_type": "stream",
     "text": [
      "627:\tlearn: 0.1045291\ttotal: 56.4s\tremaining: 1m 18s\n",
      "628:\tlearn: 0.1045237\ttotal: 56.5s\tremaining: 1m 18s\n",
      "629:\tlearn: 0.1045183\ttotal: 56.6s\tremaining: 1m 18s\n",
      "630:\tlearn: 0.1044983\ttotal: 56.7s\tremaining: 1m 18s\n",
      "631:\tlearn: 0.1044929\ttotal: 56.8s\tremaining: 1m 18s\n",
      "632:\tlearn: 0.1044778\ttotal: 56.9s\tremaining: 1m 17s\n",
      "633:\tlearn: 0.1044602\ttotal: 57s\tremaining: 1m 17s\n",
      "634:\tlearn: 0.1044334\ttotal: 57.1s\tremaining: 1m 17s\n",
      "635:\tlearn: 0.1044283\ttotal: 57.1s\tremaining: 1m 17s\n",
      "636:\tlearn: 0.1043969\ttotal: 57.2s\tremaining: 1m 17s\n",
      "637:\tlearn: 0.1043763\ttotal: 57.4s\tremaining: 1m 17s\n",
      "638:\tlearn: 0.1043559\ttotal: 57.4s\tremaining: 1m 17s\n",
      "639:\tlearn: 0.1043439\ttotal: 57.5s\tremaining: 1m 17s\n",
      "640:\tlearn: 0.1043289\ttotal: 57.6s\tremaining: 1m 17s\n",
      "641:\tlearn: 0.1043257\ttotal: 57.7s\tremaining: 1m 17s\n",
      "642:\tlearn: 0.1043102\ttotal: 57.8s\tremaining: 1m 16s\n",
      "643:\tlearn: 0.1042929\ttotal: 57.8s\tremaining: 1m 16s\n",
      "644:\tlearn: 0.1042700\ttotal: 57.9s\tremaining: 1m 16s\n",
      "645:\tlearn: 0.1042581\ttotal: 58s\tremaining: 1m 16s\n",
      "646:\tlearn: 0.1042417\ttotal: 58.1s\tremaining: 1m 16s\n",
      "647:\tlearn: 0.1042330\ttotal: 58.2s\tremaining: 1m 16s\n",
      "648:\tlearn: 0.1042160\ttotal: 58.3s\tremaining: 1m 16s\n",
      "649:\tlearn: 0.1042094\ttotal: 58.3s\tremaining: 1m 16s\n",
      "650:\tlearn: 0.1041952\ttotal: 58.4s\tremaining: 1m 16s\n",
      "651:\tlearn: 0.1041899\ttotal: 58.5s\tremaining: 1m 16s\n",
      "652:\tlearn: 0.1041837\ttotal: 58.6s\tremaining: 1m 15s\n",
      "653:\tlearn: 0.1041796\ttotal: 58.7s\tremaining: 1m 15s\n",
      "654:\tlearn: 0.1041643\ttotal: 58.8s\tremaining: 1m 15s\n",
      "655:\tlearn: 0.1041493\ttotal: 58.8s\tremaining: 1m 15s\n",
      "656:\tlearn: 0.1041363\ttotal: 58.9s\tremaining: 1m 15s\n",
      "657:\tlearn: 0.1041231\ttotal: 59s\tremaining: 1m 15s\n",
      "658:\tlearn: 0.1041076\ttotal: 59.1s\tremaining: 1m 15s\n",
      "659:\tlearn: 0.1041000\ttotal: 59.1s\tremaining: 1m 15s\n",
      "660:\tlearn: 0.1040868\ttotal: 59.2s\tremaining: 1m 15s\n",
      "661:\tlearn: 0.1040618\ttotal: 59.3s\tremaining: 1m 15s\n",
      "662:\tlearn: 0.1040568\ttotal: 59.4s\tremaining: 1m 15s\n",
      "663:\tlearn: 0.1040342\ttotal: 59.5s\tremaining: 1m 14s\n",
      "664:\tlearn: 0.1040205\ttotal: 59.6s\tremaining: 1m 14s\n",
      "665:\tlearn: 0.1040071\ttotal: 59.7s\tremaining: 1m 14s\n",
      "666:\tlearn: 0.1039909\ttotal: 59.8s\tremaining: 1m 14s\n",
      "667:\tlearn: 0.1039634\ttotal: 59.9s\tremaining: 1m 14s\n",
      "668:\tlearn: 0.1039475\ttotal: 60s\tremaining: 1m 14s\n",
      "669:\tlearn: 0.1039343\ttotal: 1m\tremaining: 1m 14s\n",
      "670:\tlearn: 0.1039289\ttotal: 1m\tremaining: 1m 14s\n",
      "671:\tlearn: 0.1039187\ttotal: 1m\tremaining: 1m 14s\n",
      "672:\tlearn: 0.1039126\ttotal: 1m\tremaining: 1m 14s\n",
      "673:\tlearn: 0.1039076\ttotal: 1m\tremaining: 1m 14s\n",
      "674:\tlearn: 0.1038940\ttotal: 1m\tremaining: 1m 13s\n",
      "675:\tlearn: 0.1038850\ttotal: 1m\tremaining: 1m 13s\n",
      "676:\tlearn: 0.1038764\ttotal: 1m\tremaining: 1m 13s\n",
      "677:\tlearn: 0.1038621\ttotal: 1m\tremaining: 1m 13s\n",
      "678:\tlearn: 0.1038509\ttotal: 1m\tremaining: 1m 13s\n",
      "679:\tlearn: 0.1038378\ttotal: 1m\tremaining: 1m 13s\n",
      "680:\tlearn: 0.1038235\ttotal: 1m 1s\tremaining: 1m 13s\n",
      "681:\tlearn: 0.1038065\ttotal: 1m 1s\tremaining: 1m 13s\n",
      "682:\tlearn: 0.1037872\ttotal: 1m 1s\tremaining: 1m 13s\n",
      "683:\tlearn: 0.1037761\ttotal: 1m 1s\tremaining: 1m 13s\n",
      "684:\tlearn: 0.1037658\ttotal: 1m 1s\tremaining: 1m 12s\n",
      "685:\tlearn: 0.1037470\ttotal: 1m 1s\tremaining: 1m 12s\n",
      "686:\tlearn: 0.1037419\ttotal: 1m 1s\tremaining: 1m 12s\n",
      "687:\tlearn: 0.1037262\ttotal: 1m 1s\tremaining: 1m 12s\n",
      "688:\tlearn: 0.1037193\ttotal: 1m 1s\tremaining: 1m 12s\n",
      "689:\tlearn: 0.1037064\ttotal: 1m 1s\tremaining: 1m 12s\n",
      "690:\tlearn: 0.1036728\ttotal: 1m 1s\tremaining: 1m 12s\n",
      "691:\tlearn: 0.1036684\ttotal: 1m 1s\tremaining: 1m 12s\n",
      "692:\tlearn: 0.1036549\ttotal: 1m 1s\tremaining: 1m 12s\n",
      "693:\tlearn: 0.1036395\ttotal: 1m 2s\tremaining: 1m 12s\n",
      "694:\tlearn: 0.1036187\ttotal: 1m 2s\tremaining: 1m 11s\n",
      "695:\tlearn: 0.1036045\ttotal: 1m 2s\tremaining: 1m 11s\n",
      "696:\tlearn: 0.1035980\ttotal: 1m 2s\tremaining: 1m 11s\n",
      "697:\tlearn: 0.1035777\ttotal: 1m 2s\tremaining: 1m 11s\n",
      "698:\tlearn: 0.1035612\ttotal: 1m 2s\tremaining: 1m 11s\n",
      "699:\tlearn: 0.1035573\ttotal: 1m 2s\tremaining: 1m 11s\n",
      "700:\tlearn: 0.1035431\ttotal: 1m 2s\tremaining: 1m 11s\n",
      "701:\tlearn: 0.1035372\ttotal: 1m 2s\tremaining: 1m 11s\n",
      "702:\tlearn: 0.1035314\ttotal: 1m 2s\tremaining: 1m 11s\n",
      "703:\tlearn: 0.1035120\ttotal: 1m 2s\tremaining: 1m 11s\n",
      "704:\tlearn: 0.1035092\ttotal: 1m 2s\tremaining: 1m 11s\n",
      "705:\tlearn: 0.1035046\ttotal: 1m 3s\tremaining: 1m 10s\n",
      "706:\tlearn: 0.1034925\ttotal: 1m 3s\tremaining: 1m 10s\n",
      "707:\tlearn: 0.1034870\ttotal: 1m 3s\tremaining: 1m 10s\n",
      "708:\tlearn: 0.1034777\ttotal: 1m 3s\tremaining: 1m 10s\n",
      "709:\tlearn: 0.1034673\ttotal: 1m 3s\tremaining: 1m 10s\n",
      "710:\tlearn: 0.1034601\ttotal: 1m 3s\tremaining: 1m 10s\n",
      "711:\tlearn: 0.1034473\ttotal: 1m 3s\tremaining: 1m 10s\n",
      "712:\tlearn: 0.1034145\ttotal: 1m 3s\tremaining: 1m 10s\n",
      "713:\tlearn: 0.1034036\ttotal: 1m 3s\tremaining: 1m 10s\n",
      "714:\tlearn: 0.1033859\ttotal: 1m 3s\tremaining: 1m 10s\n",
      "715:\tlearn: 0.1033716\ttotal: 1m 3s\tremaining: 1m 9s\n",
      "716:\tlearn: 0.1033568\ttotal: 1m 3s\tremaining: 1m 9s\n",
      "717:\tlearn: 0.1033525\ttotal: 1m 4s\tremaining: 1m 9s\n",
      "718:\tlearn: 0.1033389\ttotal: 1m 4s\tremaining: 1m 9s\n",
      "719:\tlearn: 0.1033341\ttotal: 1m 4s\tremaining: 1m 9s\n",
      "720:\tlearn: 0.1033306\ttotal: 1m 4s\tremaining: 1m 9s\n",
      "721:\tlearn: 0.1033194\ttotal: 1m 4s\tremaining: 1m 9s\n",
      "722:\tlearn: 0.1033172\ttotal: 1m 4s\tremaining: 1m 9s\n",
      "723:\tlearn: 0.1033055\ttotal: 1m 4s\tremaining: 1m 9s\n",
      "724:\tlearn: 0.1032902\ttotal: 1m 4s\tremaining: 1m 9s\n",
      "725:\tlearn: 0.1032778\ttotal: 1m 4s\tremaining: 1m 8s\n",
      "726:\tlearn: 0.1032675\ttotal: 1m 4s\tremaining: 1m 8s\n",
      "727:\tlearn: 0.1032573\ttotal: 1m 4s\tremaining: 1m 8s\n",
      "728:\tlearn: 0.1032518\ttotal: 1m 4s\tremaining: 1m 8s\n",
      "729:\tlearn: 0.1032473\ttotal: 1m 5s\tremaining: 1m 8s\n",
      "730:\tlearn: 0.1032409\ttotal: 1m 5s\tremaining: 1m 8s\n",
      "731:\tlearn: 0.1032218\ttotal: 1m 5s\tremaining: 1m 8s\n",
      "732:\tlearn: 0.1032085\ttotal: 1m 5s\tremaining: 1m 8s\n",
      "733:\tlearn: 0.1031955\ttotal: 1m 5s\tremaining: 1m 8s\n",
      "734:\tlearn: 0.1031893\ttotal: 1m 5s\tremaining: 1m 8s\n",
      "735:\tlearn: 0.1031801\ttotal: 1m 5s\tremaining: 1m 7s\n",
      "736:\tlearn: 0.1031644\ttotal: 1m 5s\tremaining: 1m 7s\n",
      "737:\tlearn: 0.1031495\ttotal: 1m 5s\tremaining: 1m 7s\n",
      "738:\tlearn: 0.1031204\ttotal: 1m 5s\tremaining: 1m 7s\n",
      "739:\tlearn: 0.1031181\ttotal: 1m 5s\tremaining: 1m 7s\n",
      "740:\tlearn: 0.1031014\ttotal: 1m 5s\tremaining: 1m 7s\n",
      "741:\tlearn: 0.1030877\ttotal: 1m 5s\tremaining: 1m 7s\n",
      "742:\tlearn: 0.1030829\ttotal: 1m 6s\tremaining: 1m 7s\n",
      "743:\tlearn: 0.1030569\ttotal: 1m 6s\tremaining: 1m 7s\n",
      "744:\tlearn: 0.1030348\ttotal: 1m 6s\tremaining: 1m 7s\n",
      "745:\tlearn: 0.1030177\ttotal: 1m 6s\tremaining: 1m 7s\n",
      "746:\tlearn: 0.1030114\ttotal: 1m 6s\tremaining: 1m 6s\n",
      "747:\tlearn: 0.1030064\ttotal: 1m 6s\tremaining: 1m 6s\n",
      "748:\tlearn: 0.1029941\ttotal: 1m 6s\tremaining: 1m 6s\n",
      "749:\tlearn: 0.1029909\ttotal: 1m 6s\tremaining: 1m 6s\n",
      "750:\tlearn: 0.1029687\ttotal: 1m 6s\tremaining: 1m 6s\n",
      "751:\tlearn: 0.1029614\ttotal: 1m 6s\tremaining: 1m 6s\n",
      "752:\tlearn: 0.1029459\ttotal: 1m 6s\tremaining: 1m 6s\n",
      "753:\tlearn: 0.1029337\ttotal: 1m 6s\tremaining: 1m 6s\n",
      "754:\tlearn: 0.1029298\ttotal: 1m 7s\tremaining: 1m 6s\n",
      "755:\tlearn: 0.1029142\ttotal: 1m 7s\tremaining: 1m 6s\n",
      "756:\tlearn: 0.1029122\ttotal: 1m 7s\tremaining: 1m 5s\n",
      "757:\tlearn: 0.1029087\ttotal: 1m 7s\tremaining: 1m 5s\n",
      "758:\tlearn: 0.1028994\ttotal: 1m 7s\tremaining: 1m 5s\n",
      "759:\tlearn: 0.1028862\ttotal: 1m 7s\tremaining: 1m 5s\n",
      "760:\tlearn: 0.1028674\ttotal: 1m 7s\tremaining: 1m 5s\n",
      "761:\tlearn: 0.1028625\ttotal: 1m 7s\tremaining: 1m 5s\n",
      "762:\tlearn: 0.1028489\ttotal: 1m 7s\tremaining: 1m 5s\n",
      "763:\tlearn: 0.1028348\ttotal: 1m 7s\tremaining: 1m 5s\n",
      "764:\tlearn: 0.1028248\ttotal: 1m 7s\tremaining: 1m 5s\n",
      "765:\tlearn: 0.1027956\ttotal: 1m 7s\tremaining: 1m 5s\n",
      "766:\tlearn: 0.1027862\ttotal: 1m 8s\tremaining: 1m 5s\n",
      "767:\tlearn: 0.1027754\ttotal: 1m 8s\tremaining: 1m 4s\n",
      "768:\tlearn: 0.1027591\ttotal: 1m 8s\tremaining: 1m 4s\n",
      "769:\tlearn: 0.1027389\ttotal: 1m 8s\tremaining: 1m 4s\n",
      "770:\tlearn: 0.1027338\ttotal: 1m 8s\tremaining: 1m 4s\n",
      "771:\tlearn: 0.1027284\ttotal: 1m 8s\tremaining: 1m 4s\n",
      "772:\tlearn: 0.1027208\ttotal: 1m 8s\tremaining: 1m 4s\n",
      "773:\tlearn: 0.1027021\ttotal: 1m 8s\tremaining: 1m 4s\n",
      "774:\tlearn: 0.1026906\ttotal: 1m 8s\tremaining: 1m 4s\n",
      "775:\tlearn: 0.1026839\ttotal: 1m 8s\tremaining: 1m 4s\n",
      "776:\tlearn: 0.1026798\ttotal: 1m 8s\tremaining: 1m 4s\n",
      "777:\tlearn: 0.1026583\ttotal: 1m 8s\tremaining: 1m 3s\n",
      "778:\tlearn: 0.1026434\ttotal: 1m 9s\tremaining: 1m 3s\n",
      "779:\tlearn: 0.1026321\ttotal: 1m 9s\tremaining: 1m 3s\n",
      "780:\tlearn: 0.1026279\ttotal: 1m 9s\tremaining: 1m 3s\n",
      "781:\tlearn: 0.1026168\ttotal: 1m 9s\tremaining: 1m 3s\n",
      "782:\tlearn: 0.1026030\ttotal: 1m 9s\tremaining: 1m 3s\n",
      "783:\tlearn: 0.1025900\ttotal: 1m 9s\tremaining: 1m 3s\n"
     ]
    },
    {
     "name": "stdout",
     "output_type": "stream",
     "text": [
      "784:\tlearn: 0.1025867\ttotal: 1m 9s\tremaining: 1m 3s\n",
      "785:\tlearn: 0.1025675\ttotal: 1m 9s\tremaining: 1m 3s\n",
      "786:\tlearn: 0.1025448\ttotal: 1m 9s\tremaining: 1m 3s\n",
      "787:\tlearn: 0.1025413\ttotal: 1m 9s\tremaining: 1m 3s\n",
      "788:\tlearn: 0.1025373\ttotal: 1m 9s\tremaining: 1m 2s\n",
      "789:\tlearn: 0.1025191\ttotal: 1m 9s\tremaining: 1m 2s\n",
      "790:\tlearn: 0.1025056\ttotal: 1m 9s\tremaining: 1m 2s\n",
      "791:\tlearn: 0.1025030\ttotal: 1m 10s\tremaining: 1m 2s\n",
      "792:\tlearn: 0.1024981\ttotal: 1m 10s\tremaining: 1m 2s\n",
      "793:\tlearn: 0.1024890\ttotal: 1m 10s\tremaining: 1m 2s\n",
      "794:\tlearn: 0.1024749\ttotal: 1m 10s\tremaining: 1m 2s\n",
      "795:\tlearn: 0.1024718\ttotal: 1m 10s\tremaining: 1m 2s\n",
      "796:\tlearn: 0.1024579\ttotal: 1m 10s\tremaining: 1m 2s\n",
      "797:\tlearn: 0.1024526\ttotal: 1m 10s\tremaining: 1m 2s\n",
      "798:\tlearn: 0.1024464\ttotal: 1m 10s\tremaining: 1m 2s\n",
      "799:\tlearn: 0.1024214\ttotal: 1m 10s\tremaining: 1m 1s\n",
      "800:\tlearn: 0.1024187\ttotal: 1m 10s\tremaining: 1m 1s\n",
      "801:\tlearn: 0.1024108\ttotal: 1m 11s\tremaining: 1m 1s\n",
      "802:\tlearn: 0.1023984\ttotal: 1m 11s\tremaining: 1m 1s\n",
      "803:\tlearn: 0.1023861\ttotal: 1m 11s\tremaining: 1m 1s\n",
      "804:\tlearn: 0.1023765\ttotal: 1m 11s\tremaining: 1m 1s\n",
      "805:\tlearn: 0.1023728\ttotal: 1m 11s\tremaining: 1m 1s\n",
      "806:\tlearn: 0.1023641\ttotal: 1m 11s\tremaining: 1m 1s\n",
      "807:\tlearn: 0.1023550\ttotal: 1m 11s\tremaining: 1m 1s\n",
      "808:\tlearn: 0.1023413\ttotal: 1m 11s\tremaining: 1m 1s\n",
      "809:\tlearn: 0.1023313\ttotal: 1m 11s\tremaining: 1m 1s\n",
      "810:\tlearn: 0.1023184\ttotal: 1m 11s\tremaining: 1m\n",
      "811:\tlearn: 0.1023103\ttotal: 1m 11s\tremaining: 1m\n",
      "812:\tlearn: 0.1022937\ttotal: 1m 11s\tremaining: 1m\n",
      "813:\tlearn: 0.1022660\ttotal: 1m 12s\tremaining: 1m\n",
      "814:\tlearn: 0.1022454\ttotal: 1m 12s\tremaining: 1m\n",
      "815:\tlearn: 0.1022372\ttotal: 1m 12s\tremaining: 1m\n",
      "816:\tlearn: 0.1022307\ttotal: 1m 12s\tremaining: 1m\n",
      "817:\tlearn: 0.1022183\ttotal: 1m 12s\tremaining: 1m\n",
      "818:\tlearn: 0.1022147\ttotal: 1m 12s\tremaining: 1m\n",
      "819:\tlearn: 0.1021953\ttotal: 1m 12s\tremaining: 1m\n",
      "820:\tlearn: 0.1021854\ttotal: 1m 12s\tremaining: 1m\n",
      "821:\tlearn: 0.1021769\ttotal: 1m 12s\tremaining: 59.9s\n",
      "822:\tlearn: 0.1021654\ttotal: 1m 12s\tremaining: 59.8s\n",
      "823:\tlearn: 0.1021527\ttotal: 1m 12s\tremaining: 59.8s\n",
      "824:\tlearn: 0.1021468\ttotal: 1m 12s\tremaining: 59.7s\n",
      "825:\tlearn: 0.1021322\ttotal: 1m 13s\tremaining: 59.6s\n",
      "826:\tlearn: 0.1021290\ttotal: 1m 13s\tremaining: 59.5s\n",
      "827:\tlearn: 0.1021102\ttotal: 1m 13s\tremaining: 59.4s\n",
      "828:\tlearn: 0.1021077\ttotal: 1m 13s\tremaining: 59.3s\n",
      "829:\tlearn: 0.1020888\ttotal: 1m 13s\tremaining: 59.2s\n",
      "830:\tlearn: 0.1020865\ttotal: 1m 13s\tremaining: 59.1s\n",
      "831:\tlearn: 0.1020782\ttotal: 1m 13s\tremaining: 59s\n",
      "832:\tlearn: 0.1020705\ttotal: 1m 13s\tremaining: 58.9s\n",
      "833:\tlearn: 0.1020645\ttotal: 1m 13s\tremaining: 58.8s\n",
      "834:\tlearn: 0.1020486\ttotal: 1m 13s\tremaining: 58.7s\n",
      "835:\tlearn: 0.1020464\ttotal: 1m 13s\tremaining: 58.6s\n",
      "836:\tlearn: 0.1020373\ttotal: 1m 13s\tremaining: 58.5s\n",
      "837:\tlearn: 0.1020342\ttotal: 1m 13s\tremaining: 58.4s\n",
      "838:\tlearn: 0.1020148\ttotal: 1m 14s\tremaining: 58.4s\n",
      "839:\tlearn: 0.1020042\ttotal: 1m 14s\tremaining: 58.3s\n",
      "840:\tlearn: 0.1019912\ttotal: 1m 14s\tremaining: 58.2s\n",
      "841:\tlearn: 0.1019804\ttotal: 1m 14s\tremaining: 58.1s\n",
      "842:\tlearn: 0.1019715\ttotal: 1m 14s\tremaining: 58s\n",
      "843:\tlearn: 0.1019595\ttotal: 1m 14s\tremaining: 57.9s\n",
      "844:\tlearn: 0.1019565\ttotal: 1m 14s\tremaining: 57.8s\n",
      "845:\tlearn: 0.1019496\ttotal: 1m 14s\tremaining: 57.7s\n",
      "846:\tlearn: 0.1019459\ttotal: 1m 14s\tremaining: 57.6s\n",
      "847:\tlearn: 0.1019319\ttotal: 1m 14s\tremaining: 57.5s\n",
      "848:\tlearn: 0.1019198\ttotal: 1m 14s\tremaining: 57.5s\n",
      "849:\tlearn: 0.1019149\ttotal: 1m 15s\tremaining: 57.4s\n",
      "850:\tlearn: 0.1019055\ttotal: 1m 15s\tremaining: 57.3s\n",
      "851:\tlearn: 0.1019023\ttotal: 1m 15s\tremaining: 57.2s\n",
      "852:\tlearn: 0.1018933\ttotal: 1m 15s\tremaining: 57.1s\n",
      "853:\tlearn: 0.1018898\ttotal: 1m 15s\tremaining: 57s\n",
      "854:\tlearn: 0.1018862\ttotal: 1m 15s\tremaining: 56.9s\n",
      "855:\tlearn: 0.1018816\ttotal: 1m 15s\tremaining: 56.8s\n",
      "856:\tlearn: 0.1018700\ttotal: 1m 15s\tremaining: 56.7s\n",
      "857:\tlearn: 0.1018569\ttotal: 1m 15s\tremaining: 56.6s\n",
      "858:\tlearn: 0.1018421\ttotal: 1m 15s\tremaining: 56.5s\n",
      "859:\tlearn: 0.1018291\ttotal: 1m 15s\tremaining: 56.4s\n",
      "860:\tlearn: 0.1018125\ttotal: 1m 15s\tremaining: 56.4s\n",
      "861:\tlearn: 0.1017956\ttotal: 1m 16s\tremaining: 56.3s\n",
      "862:\tlearn: 0.1017925\ttotal: 1m 16s\tremaining: 56.2s\n",
      "863:\tlearn: 0.1017877\ttotal: 1m 16s\tremaining: 56.1s\n",
      "864:\tlearn: 0.1017779\ttotal: 1m 16s\tremaining: 56s\n",
      "865:\tlearn: 0.1017734\ttotal: 1m 16s\tremaining: 55.9s\n",
      "866:\tlearn: 0.1017555\ttotal: 1m 16s\tremaining: 55.9s\n",
      "867:\tlearn: 0.1017466\ttotal: 1m 16s\tremaining: 55.8s\n",
      "868:\tlearn: 0.1017325\ttotal: 1m 16s\tremaining: 55.7s\n",
      "869:\tlearn: 0.1017197\ttotal: 1m 16s\tremaining: 55.6s\n",
      "870:\tlearn: 0.1017067\ttotal: 1m 16s\tremaining: 55.5s\n",
      "871:\tlearn: 0.1016994\ttotal: 1m 16s\tremaining: 55.4s\n",
      "872:\tlearn: 0.1016896\ttotal: 1m 17s\tremaining: 55.4s\n",
      "873:\tlearn: 0.1016745\ttotal: 1m 17s\tremaining: 55.3s\n",
      "874:\tlearn: 0.1016713\ttotal: 1m 17s\tremaining: 55.2s\n",
      "875:\tlearn: 0.1016564\ttotal: 1m 17s\tremaining: 55.1s\n",
      "876:\tlearn: 0.1016461\ttotal: 1m 17s\tremaining: 55s\n",
      "877:\tlearn: 0.1016429\ttotal: 1m 17s\tremaining: 54.9s\n",
      "878:\tlearn: 0.1016408\ttotal: 1m 17s\tremaining: 54.8s\n",
      "879:\tlearn: 0.1016270\ttotal: 1m 17s\tremaining: 54.7s\n",
      "880:\tlearn: 0.1016222\ttotal: 1m 17s\tremaining: 54.7s\n",
      "881:\tlearn: 0.1016193\ttotal: 1m 17s\tremaining: 54.6s\n",
      "882:\tlearn: 0.1016105\ttotal: 1m 17s\tremaining: 54.5s\n",
      "883:\tlearn: 0.1016018\ttotal: 1m 18s\tremaining: 54.4s\n",
      "884:\tlearn: 0.1015974\ttotal: 1m 18s\tremaining: 54.3s\n",
      "885:\tlearn: 0.1015854\ttotal: 1m 18s\tremaining: 54.2s\n",
      "886:\tlearn: 0.1015774\ttotal: 1m 18s\tremaining: 54.1s\n",
      "887:\tlearn: 0.1015697\ttotal: 1m 18s\tremaining: 54s\n",
      "888:\tlearn: 0.1015635\ttotal: 1m 18s\tremaining: 53.9s\n",
      "889:\tlearn: 0.1015546\ttotal: 1m 18s\tremaining: 53.9s\n",
      "890:\tlearn: 0.1015411\ttotal: 1m 18s\tremaining: 53.8s\n",
      "891:\tlearn: 0.1015333\ttotal: 1m 18s\tremaining: 53.7s\n",
      "892:\tlearn: 0.1015280\ttotal: 1m 18s\tremaining: 53.6s\n",
      "893:\tlearn: 0.1015120\ttotal: 1m 18s\tremaining: 53.5s\n",
      "894:\tlearn: 0.1015096\ttotal: 1m 19s\tremaining: 53.4s\n",
      "895:\tlearn: 0.1014970\ttotal: 1m 19s\tremaining: 53.3s\n",
      "896:\tlearn: 0.1014890\ttotal: 1m 19s\tremaining: 53.3s\n",
      "897:\tlearn: 0.1014853\ttotal: 1m 19s\tremaining: 53.2s\n",
      "898:\tlearn: 0.1014724\ttotal: 1m 19s\tremaining: 53.1s\n",
      "899:\tlearn: 0.1014677\ttotal: 1m 19s\tremaining: 53s\n",
      "900:\tlearn: 0.1014517\ttotal: 1m 19s\tremaining: 52.9s\n",
      "901:\tlearn: 0.1014484\ttotal: 1m 19s\tremaining: 52.8s\n",
      "902:\tlearn: 0.1014363\ttotal: 1m 19s\tremaining: 52.7s\n",
      "903:\tlearn: 0.1014317\ttotal: 1m 19s\tremaining: 52.7s\n",
      "904:\tlearn: 0.1014126\ttotal: 1m 19s\tremaining: 52.6s\n",
      "905:\tlearn: 0.1014106\ttotal: 1m 20s\tremaining: 52.5s\n",
      "906:\tlearn: 0.1013987\ttotal: 1m 20s\tremaining: 52.4s\n",
      "907:\tlearn: 0.1013932\ttotal: 1m 20s\tremaining: 52.3s\n",
      "908:\tlearn: 0.1013898\ttotal: 1m 20s\tremaining: 52.2s\n",
      "909:\tlearn: 0.1013772\ttotal: 1m 20s\tremaining: 52.2s\n",
      "910:\tlearn: 0.1013729\ttotal: 1m 20s\tremaining: 52.1s\n",
      "911:\tlearn: 0.1013643\ttotal: 1m 20s\tremaining: 52s\n",
      "912:\tlearn: 0.1013583\ttotal: 1m 20s\tremaining: 51.9s\n",
      "913:\tlearn: 0.1013487\ttotal: 1m 20s\tremaining: 51.8s\n",
      "914:\tlearn: 0.1013441\ttotal: 1m 20s\tremaining: 51.7s\n",
      "915:\tlearn: 0.1013304\ttotal: 1m 20s\tremaining: 51.6s\n",
      "916:\tlearn: 0.1013262\ttotal: 1m 21s\tremaining: 51.6s\n",
      "917:\tlearn: 0.1013018\ttotal: 1m 21s\tremaining: 51.5s\n",
      "918:\tlearn: 0.1012905\ttotal: 1m 21s\tremaining: 51.4s\n",
      "919:\tlearn: 0.1012813\ttotal: 1m 21s\tremaining: 51.3s\n",
      "920:\tlearn: 0.1012640\ttotal: 1m 21s\tremaining: 51.2s\n",
      "921:\tlearn: 0.1012554\ttotal: 1m 21s\tremaining: 51.1s\n",
      "922:\tlearn: 0.1012428\ttotal: 1m 21s\tremaining: 51s\n",
      "923:\tlearn: 0.1012146\ttotal: 1m 21s\tremaining: 50.9s\n",
      "924:\tlearn: 0.1012104\ttotal: 1m 21s\tremaining: 50.8s\n",
      "925:\tlearn: 0.1012015\ttotal: 1m 21s\tremaining: 50.8s\n",
      "926:\tlearn: 0.1011936\ttotal: 1m 21s\tremaining: 50.7s\n",
      "927:\tlearn: 0.1011820\ttotal: 1m 22s\tremaining: 50.6s\n",
      "928:\tlearn: 0.1011750\ttotal: 1m 22s\tremaining: 50.5s\n",
      "929:\tlearn: 0.1011615\ttotal: 1m 22s\tremaining: 50.4s\n",
      "930:\tlearn: 0.1011458\ttotal: 1m 22s\tremaining: 50.3s\n",
      "931:\tlearn: 0.1011361\ttotal: 1m 22s\tremaining: 50.2s\n",
      "932:\tlearn: 0.1011197\ttotal: 1m 22s\tremaining: 50.2s\n",
      "933:\tlearn: 0.1011132\ttotal: 1m 22s\tremaining: 50.1s\n",
      "934:\tlearn: 0.1011019\ttotal: 1m 22s\tremaining: 50s\n",
      "935:\tlearn: 0.1010910\ttotal: 1m 22s\tremaining: 49.9s\n",
      "936:\tlearn: 0.1010775\ttotal: 1m 22s\tremaining: 49.8s\n",
      "937:\tlearn: 0.1010716\ttotal: 1m 22s\tremaining: 49.7s\n",
      "938:\tlearn: 0.1010608\ttotal: 1m 23s\tremaining: 49.6s\n",
      "939:\tlearn: 0.1010586\ttotal: 1m 23s\tremaining: 49.5s\n"
     ]
    },
    {
     "name": "stdout",
     "output_type": "stream",
     "text": [
      "940:\tlearn: 0.1010421\ttotal: 1m 23s\tremaining: 49.4s\n",
      "941:\tlearn: 0.1010389\ttotal: 1m 23s\tremaining: 49.3s\n",
      "942:\tlearn: 0.1010312\ttotal: 1m 23s\tremaining: 49.2s\n",
      "943:\tlearn: 0.1010205\ttotal: 1m 23s\tremaining: 49.1s\n",
      "944:\tlearn: 0.1010178\ttotal: 1m 23s\tremaining: 49.1s\n",
      "945:\tlearn: 0.1010095\ttotal: 1m 23s\tremaining: 49s\n",
      "946:\tlearn: 0.1010069\ttotal: 1m 23s\tremaining: 48.9s\n",
      "947:\tlearn: 0.1009948\ttotal: 1m 23s\tremaining: 48.8s\n",
      "948:\tlearn: 0.1009913\ttotal: 1m 23s\tremaining: 48.7s\n",
      "949:\tlearn: 0.1009822\ttotal: 1m 23s\tremaining: 48.6s\n",
      "950:\tlearn: 0.1009783\ttotal: 1m 24s\tremaining: 48.5s\n",
      "951:\tlearn: 0.1009756\ttotal: 1m 24s\tremaining: 48.4s\n",
      "952:\tlearn: 0.1009620\ttotal: 1m 24s\tremaining: 48.3s\n",
      "953:\tlearn: 0.1009590\ttotal: 1m 24s\tremaining: 48.2s\n",
      "954:\tlearn: 0.1009494\ttotal: 1m 24s\tremaining: 48.1s\n",
      "955:\tlearn: 0.1009394\ttotal: 1m 24s\tremaining: 48s\n",
      "956:\tlearn: 0.1009332\ttotal: 1m 24s\tremaining: 47.9s\n",
      "957:\tlearn: 0.1009264\ttotal: 1m 24s\tremaining: 47.8s\n",
      "958:\tlearn: 0.1009183\ttotal: 1m 24s\tremaining: 47.7s\n",
      "959:\tlearn: 0.1009024\ttotal: 1m 24s\tremaining: 47.7s\n",
      "960:\tlearn: 0.1008981\ttotal: 1m 24s\tremaining: 47.6s\n",
      "961:\tlearn: 0.1008925\ttotal: 1m 24s\tremaining: 47.5s\n",
      "962:\tlearn: 0.1008805\ttotal: 1m 24s\tremaining: 47.4s\n",
      "963:\tlearn: 0.1008721\ttotal: 1m 25s\tremaining: 47.3s\n",
      "964:\tlearn: 0.1008575\ttotal: 1m 25s\tremaining: 47.2s\n",
      "965:\tlearn: 0.1008488\ttotal: 1m 25s\tremaining: 47.1s\n",
      "966:\tlearn: 0.1008401\ttotal: 1m 25s\tremaining: 47s\n",
      "967:\tlearn: 0.1008383\ttotal: 1m 25s\tremaining: 46.9s\n",
      "968:\tlearn: 0.1008274\ttotal: 1m 25s\tremaining: 46.8s\n",
      "969:\tlearn: 0.1008171\ttotal: 1m 25s\tremaining: 46.7s\n",
      "970:\tlearn: 0.1008065\ttotal: 1m 25s\tremaining: 46.6s\n",
      "971:\tlearn: 0.1007960\ttotal: 1m 25s\tremaining: 46.5s\n",
      "972:\tlearn: 0.1007876\ttotal: 1m 25s\tremaining: 46.5s\n",
      "973:\tlearn: 0.1007654\ttotal: 1m 25s\tremaining: 46.4s\n",
      "974:\tlearn: 0.1007580\ttotal: 1m 25s\tremaining: 46.3s\n",
      "975:\tlearn: 0.1007401\ttotal: 1m 25s\tremaining: 46.2s\n",
      "976:\tlearn: 0.1007294\ttotal: 1m 26s\tremaining: 46.1s\n",
      "977:\tlearn: 0.1007276\ttotal: 1m 26s\tremaining: 46s\n",
      "978:\tlearn: 0.1007151\ttotal: 1m 26s\tremaining: 45.9s\n",
      "979:\tlearn: 0.1007004\ttotal: 1m 26s\tremaining: 45.8s\n",
      "980:\tlearn: 0.1006881\ttotal: 1m 26s\tremaining: 45.7s\n",
      "981:\tlearn: 0.1006781\ttotal: 1m 26s\tremaining: 45.6s\n",
      "982:\tlearn: 0.1006702\ttotal: 1m 26s\tremaining: 45.5s\n",
      "983:\tlearn: 0.1006588\ttotal: 1m 26s\tremaining: 45.4s\n",
      "984:\tlearn: 0.1006510\ttotal: 1m 26s\tremaining: 45.3s\n",
      "985:\tlearn: 0.1006387\ttotal: 1m 26s\tremaining: 45.2s\n",
      "986:\tlearn: 0.1006316\ttotal: 1m 26s\tremaining: 45.1s\n",
      "987:\tlearn: 0.1006151\ttotal: 1m 26s\tremaining: 45.1s\n",
      "988:\tlearn: 0.1006031\ttotal: 1m 27s\tremaining: 45s\n",
      "989:\tlearn: 0.1005995\ttotal: 1m 27s\tremaining: 44.9s\n",
      "990:\tlearn: 0.1005911\ttotal: 1m 27s\tremaining: 44.8s\n",
      "991:\tlearn: 0.1005822\ttotal: 1m 27s\tremaining: 44.7s\n",
      "992:\tlearn: 0.1005754\ttotal: 1m 27s\tremaining: 44.6s\n",
      "993:\tlearn: 0.1005727\ttotal: 1m 27s\tremaining: 44.5s\n",
      "994:\tlearn: 0.1005530\ttotal: 1m 27s\tremaining: 44.4s\n",
      "995:\tlearn: 0.1005494\ttotal: 1m 27s\tremaining: 44.3s\n",
      "996:\tlearn: 0.1005399\ttotal: 1m 27s\tremaining: 44.2s\n",
      "997:\tlearn: 0.1005365\ttotal: 1m 27s\tremaining: 44.1s\n",
      "998:\tlearn: 0.1005228\ttotal: 1m 27s\tremaining: 44s\n",
      "999:\tlearn: 0.1005092\ttotal: 1m 27s\tremaining: 43.9s\n",
      "1000:\tlearn: 0.1004902\ttotal: 1m 27s\tremaining: 43.8s\n",
      "1001:\tlearn: 0.1004761\ttotal: 1m 28s\tremaining: 43.8s\n",
      "1002:\tlearn: 0.1004595\ttotal: 1m 28s\tremaining: 43.7s\n",
      "1003:\tlearn: 0.1004460\ttotal: 1m 28s\tremaining: 43.6s\n",
      "1004:\tlearn: 0.1004397\ttotal: 1m 28s\tremaining: 43.5s\n",
      "1005:\tlearn: 0.1004333\ttotal: 1m 28s\tremaining: 43.4s\n",
      "1006:\tlearn: 0.1004250\ttotal: 1m 28s\tremaining: 43.3s\n",
      "1007:\tlearn: 0.1004065\ttotal: 1m 28s\tremaining: 43.2s\n",
      "1008:\tlearn: 0.1004005\ttotal: 1m 28s\tremaining: 43.1s\n",
      "1009:\tlearn: 0.1003843\ttotal: 1m 28s\tremaining: 43s\n",
      "1010:\tlearn: 0.1003797\ttotal: 1m 28s\tremaining: 42.9s\n",
      "1011:\tlearn: 0.1003657\ttotal: 1m 28s\tremaining: 42.9s\n",
      "1012:\tlearn: 0.1003581\ttotal: 1m 28s\tremaining: 42.8s\n",
      "1013:\tlearn: 0.1003554\ttotal: 1m 29s\tremaining: 42.7s\n",
      "1014:\tlearn: 0.1003390\ttotal: 1m 29s\tremaining: 42.6s\n",
      "1015:\tlearn: 0.1003335\ttotal: 1m 29s\tremaining: 42.5s\n",
      "1016:\tlearn: 0.1003301\ttotal: 1m 29s\tremaining: 42.4s\n",
      "1017:\tlearn: 0.1003250\ttotal: 1m 29s\tremaining: 42.3s\n",
      "1018:\tlearn: 0.1003225\ttotal: 1m 29s\tremaining: 42.2s\n",
      "1019:\tlearn: 0.1003206\ttotal: 1m 29s\tremaining: 42.1s\n",
      "1020:\tlearn: 0.1003143\ttotal: 1m 29s\tremaining: 42s\n",
      "1021:\tlearn: 0.1003092\ttotal: 1m 29s\tremaining: 41.9s\n",
      "1022:\tlearn: 0.1002948\ttotal: 1m 29s\tremaining: 41.8s\n",
      "1023:\tlearn: 0.1002833\ttotal: 1m 29s\tremaining: 41.8s\n",
      "1024:\tlearn: 0.1002792\ttotal: 1m 29s\tremaining: 41.7s\n",
      "1025:\tlearn: 0.1002579\ttotal: 1m 29s\tremaining: 41.6s\n",
      "1026:\tlearn: 0.1002520\ttotal: 1m 30s\tremaining: 41.5s\n",
      "1027:\tlearn: 0.1002414\ttotal: 1m 30s\tremaining: 41.4s\n",
      "1028:\tlearn: 0.1002253\ttotal: 1m 30s\tremaining: 41.3s\n",
      "1029:\tlearn: 0.1002236\ttotal: 1m 30s\tremaining: 41.2s\n",
      "1030:\tlearn: 0.1002079\ttotal: 1m 30s\tremaining: 41.1s\n",
      "1031:\tlearn: 0.1002045\ttotal: 1m 30s\tremaining: 41s\n",
      "1032:\tlearn: 0.1001969\ttotal: 1m 30s\tremaining: 41s\n",
      "1033:\tlearn: 0.1001810\ttotal: 1m 30s\tremaining: 40.9s\n",
      "1034:\tlearn: 0.1001708\ttotal: 1m 30s\tremaining: 40.8s\n",
      "1035:\tlearn: 0.1001587\ttotal: 1m 30s\tremaining: 40.7s\n",
      "1036:\tlearn: 0.1001436\ttotal: 1m 30s\tremaining: 40.6s\n",
      "1037:\tlearn: 0.1001334\ttotal: 1m 31s\tremaining: 40.5s\n",
      "1038:\tlearn: 0.1001262\ttotal: 1m 31s\tremaining: 40.4s\n",
      "1039:\tlearn: 0.1001170\ttotal: 1m 31s\tremaining: 40.3s\n",
      "1040:\tlearn: 0.1001129\ttotal: 1m 31s\tremaining: 40.3s\n",
      "1041:\tlearn: 0.1000921\ttotal: 1m 31s\tremaining: 40.2s\n",
      "1042:\tlearn: 0.1000866\ttotal: 1m 31s\tremaining: 40.1s\n",
      "1043:\tlearn: 0.1000845\ttotal: 1m 31s\tremaining: 40s\n",
      "1044:\tlearn: 0.1000757\ttotal: 1m 31s\tremaining: 39.9s\n",
      "1045:\tlearn: 0.1000636\ttotal: 1m 31s\tremaining: 39.9s\n",
      "1046:\tlearn: 0.1000568\ttotal: 1m 31s\tremaining: 39.8s\n",
      "1047:\tlearn: 0.1000488\ttotal: 1m 32s\tremaining: 39.7s\n",
      "1048:\tlearn: 0.1000406\ttotal: 1m 32s\tremaining: 39.6s\n",
      "1049:\tlearn: 0.1000325\ttotal: 1m 32s\tremaining: 39.6s\n",
      "1050:\tlearn: 0.1000244\ttotal: 1m 32s\tremaining: 39.5s\n",
      "1051:\tlearn: 0.1000049\ttotal: 1m 32s\tremaining: 39.4s\n",
      "1052:\tlearn: 0.0999976\ttotal: 1m 32s\tremaining: 39.3s\n",
      "1053:\tlearn: 0.0999851\ttotal: 1m 32s\tremaining: 39.2s\n",
      "1054:\tlearn: 0.0999824\ttotal: 1m 32s\tremaining: 39.2s\n",
      "1055:\tlearn: 0.0999700\ttotal: 1m 32s\tremaining: 39.1s\n",
      "1056:\tlearn: 0.0999667\ttotal: 1m 32s\tremaining: 39s\n",
      "1057:\tlearn: 0.0999582\ttotal: 1m 33s\tremaining: 38.9s\n",
      "1058:\tlearn: 0.0999402\ttotal: 1m 33s\tremaining: 38.8s\n",
      "1059:\tlearn: 0.0999211\ttotal: 1m 33s\tremaining: 38.7s\n",
      "1060:\tlearn: 0.0999110\ttotal: 1m 33s\tremaining: 38.7s\n",
      "1061:\tlearn: 0.0998974\ttotal: 1m 33s\tremaining: 38.6s\n",
      "1062:\tlearn: 0.0998872\ttotal: 1m 33s\tremaining: 38.5s\n",
      "1063:\tlearn: 0.0998852\ttotal: 1m 33s\tremaining: 38.4s\n",
      "1064:\tlearn: 0.0998817\ttotal: 1m 33s\tremaining: 38.3s\n",
      "1065:\tlearn: 0.0998787\ttotal: 1m 33s\tremaining: 38.2s\n",
      "1066:\tlearn: 0.0998668\ttotal: 1m 34s\tremaining: 38.2s\n",
      "1067:\tlearn: 0.0998621\ttotal: 1m 34s\tremaining: 38.1s\n",
      "1068:\tlearn: 0.0998554\ttotal: 1m 34s\tremaining: 38s\n",
      "1069:\tlearn: 0.0998522\ttotal: 1m 34s\tremaining: 37.9s\n",
      "1070:\tlearn: 0.0998455\ttotal: 1m 34s\tremaining: 37.9s\n",
      "1071:\tlearn: 0.0998375\ttotal: 1m 34s\tremaining: 37.8s\n",
      "1072:\tlearn: 0.0998219\ttotal: 1m 34s\tremaining: 37.7s\n",
      "1073:\tlearn: 0.0998170\ttotal: 1m 34s\tremaining: 37.6s\n",
      "1074:\tlearn: 0.0997934\ttotal: 1m 34s\tremaining: 37.5s\n",
      "1075:\tlearn: 0.0997907\ttotal: 1m 35s\tremaining: 37.4s\n",
      "1076:\tlearn: 0.0997775\ttotal: 1m 35s\tremaining: 37.4s\n",
      "1077:\tlearn: 0.0997663\ttotal: 1m 35s\tremaining: 37.3s\n",
      "1078:\tlearn: 0.0997474\ttotal: 1m 35s\tremaining: 37.2s\n",
      "1079:\tlearn: 0.0997412\ttotal: 1m 35s\tremaining: 37.1s\n",
      "1080:\tlearn: 0.0997270\ttotal: 1m 35s\tremaining: 37s\n",
      "1081:\tlearn: 0.0997225\ttotal: 1m 35s\tremaining: 36.9s\n",
      "1082:\tlearn: 0.0997141\ttotal: 1m 35s\tremaining: 36.9s\n",
      "1083:\tlearn: 0.0997077\ttotal: 1m 35s\tremaining: 36.8s\n",
      "1084:\tlearn: 0.0996991\ttotal: 1m 35s\tremaining: 36.7s\n",
      "1085:\tlearn: 0.0996894\ttotal: 1m 36s\tremaining: 36.6s\n",
      "1086:\tlearn: 0.0996773\ttotal: 1m 36s\tremaining: 36.5s\n",
      "1087:\tlearn: 0.0996699\ttotal: 1m 36s\tremaining: 36.4s\n",
      "1088:\tlearn: 0.0996587\ttotal: 1m 36s\tremaining: 36.3s\n",
      "1089:\tlearn: 0.0996479\ttotal: 1m 36s\tremaining: 36.2s\n",
      "1090:\tlearn: 0.0996400\ttotal: 1m 36s\tremaining: 36.2s\n",
      "1091:\tlearn: 0.0996303\ttotal: 1m 36s\tremaining: 36.1s\n",
      "1092:\tlearn: 0.0996243\ttotal: 1m 36s\tremaining: 36s\n",
      "1093:\tlearn: 0.0996181\ttotal: 1m 36s\tremaining: 35.9s\n"
     ]
    },
    {
     "name": "stdout",
     "output_type": "stream",
     "text": [
      "1094:\tlearn: 0.0996151\ttotal: 1m 36s\tremaining: 35.8s\n",
      "1095:\tlearn: 0.0996098\ttotal: 1m 36s\tremaining: 35.7s\n",
      "1096:\tlearn: 0.0995974\ttotal: 1m 37s\tremaining: 35.7s\n",
      "1097:\tlearn: 0.0995838\ttotal: 1m 37s\tremaining: 35.6s\n",
      "1098:\tlearn: 0.0995797\ttotal: 1m 37s\tremaining: 35.5s\n",
      "1099:\tlearn: 0.0995704\ttotal: 1m 37s\tremaining: 35.4s\n",
      "1100:\tlearn: 0.0995583\ttotal: 1m 37s\tremaining: 35.3s\n",
      "1101:\tlearn: 0.0995555\ttotal: 1m 37s\tremaining: 35.2s\n",
      "1102:\tlearn: 0.0995524\ttotal: 1m 37s\tremaining: 35.1s\n",
      "1103:\tlearn: 0.0995385\ttotal: 1m 37s\tremaining: 35s\n",
      "1104:\tlearn: 0.0995333\ttotal: 1m 37s\tremaining: 34.9s\n",
      "1105:\tlearn: 0.0995255\ttotal: 1m 37s\tremaining: 34.8s\n",
      "1106:\tlearn: 0.0995216\ttotal: 1m 37s\tremaining: 34.7s\n",
      "1107:\tlearn: 0.0995150\ttotal: 1m 37s\tremaining: 34.6s\n",
      "1108:\tlearn: 0.0995104\ttotal: 1m 37s\tremaining: 34.5s\n",
      "1109:\tlearn: 0.0994952\ttotal: 1m 38s\tremaining: 34.5s\n",
      "1110:\tlearn: 0.0994838\ttotal: 1m 38s\tremaining: 34.4s\n",
      "1111:\tlearn: 0.0994702\ttotal: 1m 38s\tremaining: 34.3s\n",
      "1112:\tlearn: 0.0994537\ttotal: 1m 38s\tremaining: 34.2s\n",
      "1113:\tlearn: 0.0994488\ttotal: 1m 38s\tremaining: 34.1s\n",
      "1114:\tlearn: 0.0994362\ttotal: 1m 38s\tremaining: 34s\n",
      "1115:\tlearn: 0.0994333\ttotal: 1m 38s\tremaining: 33.9s\n",
      "1116:\tlearn: 0.0994290\ttotal: 1m 38s\tremaining: 33.8s\n",
      "1117:\tlearn: 0.0994208\ttotal: 1m 38s\tremaining: 33.7s\n",
      "1118:\tlearn: 0.0994139\ttotal: 1m 38s\tremaining: 33.7s\n",
      "1119:\tlearn: 0.0994113\ttotal: 1m 38s\tremaining: 33.6s\n",
      "1120:\tlearn: 0.0994048\ttotal: 1m 39s\tremaining: 33.5s\n",
      "1121:\tlearn: 0.0993939\ttotal: 1m 39s\tremaining: 33.4s\n",
      "1122:\tlearn: 0.0993796\ttotal: 1m 39s\tremaining: 33.3s\n",
      "1123:\tlearn: 0.0993654\ttotal: 1m 39s\tremaining: 33.2s\n",
      "1124:\tlearn: 0.0993499\ttotal: 1m 39s\tremaining: 33.1s\n",
      "1125:\tlearn: 0.0993455\ttotal: 1m 39s\tremaining: 33s\n",
      "1126:\tlearn: 0.0993402\ttotal: 1m 39s\tremaining: 32.9s\n",
      "1127:\tlearn: 0.0993272\ttotal: 1m 39s\tremaining: 32.9s\n",
      "1128:\tlearn: 0.0993173\ttotal: 1m 39s\tremaining: 32.8s\n",
      "1129:\tlearn: 0.0993043\ttotal: 1m 39s\tremaining: 32.7s\n",
      "1130:\tlearn: 0.0993004\ttotal: 1m 40s\tremaining: 32.6s\n",
      "1131:\tlearn: 0.0992897\ttotal: 1m 40s\tremaining: 32.6s\n",
      "1132:\tlearn: 0.0992813\ttotal: 1m 40s\tremaining: 32.5s\n",
      "1133:\tlearn: 0.0992733\ttotal: 1m 40s\tremaining: 32.4s\n",
      "1134:\tlearn: 0.0992614\ttotal: 1m 40s\tremaining: 32.3s\n",
      "1135:\tlearn: 0.0992526\ttotal: 1m 40s\tremaining: 32.3s\n",
      "1136:\tlearn: 0.0992496\ttotal: 1m 40s\tremaining: 32.2s\n",
      "1137:\tlearn: 0.0992396\ttotal: 1m 40s\tremaining: 32.1s\n",
      "1138:\tlearn: 0.0992274\ttotal: 1m 40s\tremaining: 32s\n",
      "1139:\tlearn: 0.0992064\ttotal: 1m 41s\tremaining: 31.9s\n",
      "1140:\tlearn: 0.0992032\ttotal: 1m 41s\tremaining: 31.8s\n",
      "1141:\tlearn: 0.0991937\ttotal: 1m 41s\tremaining: 31.7s\n",
      "1142:\tlearn: 0.0991818\ttotal: 1m 41s\tremaining: 31.7s\n",
      "1143:\tlearn: 0.0991719\ttotal: 1m 41s\tremaining: 31.6s\n",
      "1144:\tlearn: 0.0991637\ttotal: 1m 41s\tremaining: 31.5s\n",
      "1145:\tlearn: 0.0991569\ttotal: 1m 41s\tremaining: 31.4s\n",
      "1146:\tlearn: 0.0991511\ttotal: 1m 41s\tremaining: 31.3s\n",
      "1147:\tlearn: 0.0991436\ttotal: 1m 41s\tremaining: 31.2s\n",
      "1148:\tlearn: 0.0991359\ttotal: 1m 41s\tremaining: 31.1s\n",
      "1149:\tlearn: 0.0991215\ttotal: 1m 41s\tremaining: 31s\n",
      "1150:\tlearn: 0.0991189\ttotal: 1m 41s\tremaining: 30.9s\n",
      "1151:\tlearn: 0.0991163\ttotal: 1m 42s\tremaining: 30.8s\n",
      "1152:\tlearn: 0.0991032\ttotal: 1m 42s\tremaining: 30.8s\n",
      "1153:\tlearn: 0.0990959\ttotal: 1m 42s\tremaining: 30.7s\n",
      "1154:\tlearn: 0.0990851\ttotal: 1m 42s\tremaining: 30.6s\n",
      "1155:\tlearn: 0.0990787\ttotal: 1m 42s\tremaining: 30.5s\n",
      "1156:\tlearn: 0.0990717\ttotal: 1m 42s\tremaining: 30.4s\n",
      "1157:\tlearn: 0.0990657\ttotal: 1m 42s\tremaining: 30.4s\n",
      "1158:\tlearn: 0.0990523\ttotal: 1m 42s\tremaining: 30.3s\n",
      "1159:\tlearn: 0.0990403\ttotal: 1m 43s\tremaining: 30.2s\n",
      "1160:\tlearn: 0.0990376\ttotal: 1m 43s\tremaining: 30.1s\n",
      "1161:\tlearn: 0.0990294\ttotal: 1m 43s\tremaining: 30s\n",
      "1162:\tlearn: 0.0990268\ttotal: 1m 43s\tremaining: 30s\n",
      "1163:\tlearn: 0.0990200\ttotal: 1m 43s\tremaining: 29.9s\n",
      "1164:\tlearn: 0.0990181\ttotal: 1m 43s\tremaining: 29.8s\n",
      "1165:\tlearn: 0.0990041\ttotal: 1m 43s\tremaining: 29.7s\n",
      "1166:\tlearn: 0.0989995\ttotal: 1m 43s\tremaining: 29.6s\n",
      "1167:\tlearn: 0.0989855\ttotal: 1m 43s\tremaining: 29.5s\n",
      "1168:\tlearn: 0.0989784\ttotal: 1m 43s\tremaining: 29.4s\n",
      "1169:\tlearn: 0.0989735\ttotal: 1m 43s\tremaining: 29.3s\n",
      "1170:\tlearn: 0.0989715\ttotal: 1m 44s\tremaining: 29.2s\n",
      "1171:\tlearn: 0.0989577\ttotal: 1m 44s\tremaining: 29.2s\n",
      "1172:\tlearn: 0.0989544\ttotal: 1m 44s\tremaining: 29.1s\n",
      "1173:\tlearn: 0.0989431\ttotal: 1m 44s\tremaining: 29s\n",
      "1174:\tlearn: 0.0989351\ttotal: 1m 44s\tremaining: 28.9s\n",
      "1175:\tlearn: 0.0989179\ttotal: 1m 44s\tremaining: 28.8s\n",
      "1176:\tlearn: 0.0989098\ttotal: 1m 44s\tremaining: 28.7s\n",
      "1177:\tlearn: 0.0989058\ttotal: 1m 44s\tremaining: 28.6s\n",
      "1178:\tlearn: 0.0988918\ttotal: 1m 44s\tremaining: 28.5s\n",
      "1179:\tlearn: 0.0988890\ttotal: 1m 44s\tremaining: 28.4s\n",
      "1180:\tlearn: 0.0988866\ttotal: 1m 45s\tremaining: 28.4s\n",
      "1181:\tlearn: 0.0988795\ttotal: 1m 45s\tremaining: 28.3s\n",
      "1182:\tlearn: 0.0988743\ttotal: 1m 45s\tremaining: 28.2s\n",
      "1183:\tlearn: 0.0988677\ttotal: 1m 45s\tremaining: 28.1s\n",
      "1184:\tlearn: 0.0988561\ttotal: 1m 45s\tremaining: 28s\n",
      "1185:\tlearn: 0.0988449\ttotal: 1m 45s\tremaining: 27.9s\n",
      "1186:\tlearn: 0.0988369\ttotal: 1m 45s\tremaining: 27.9s\n",
      "1187:\tlearn: 0.0988248\ttotal: 1m 45s\tremaining: 27.8s\n",
      "1188:\tlearn: 0.0988126\ttotal: 1m 45s\tremaining: 27.7s\n",
      "1189:\tlearn: 0.0988095\ttotal: 1m 45s\tremaining: 27.6s\n",
      "1190:\tlearn: 0.0988071\ttotal: 1m 45s\tremaining: 27.5s\n",
      "1191:\tlearn: 0.0988041\ttotal: 1m 46s\tremaining: 27.4s\n",
      "1192:\tlearn: 0.0987991\ttotal: 1m 46s\tremaining: 27.3s\n",
      "1193:\tlearn: 0.0987913\ttotal: 1m 46s\tremaining: 27.2s\n",
      "1194:\tlearn: 0.0987789\ttotal: 1m 46s\tremaining: 27.1s\n",
      "1195:\tlearn: 0.0987704\ttotal: 1m 46s\tremaining: 27.1s\n",
      "1196:\tlearn: 0.0987589\ttotal: 1m 46s\tremaining: 27s\n",
      "1197:\tlearn: 0.0987548\ttotal: 1m 46s\tremaining: 26.9s\n",
      "1198:\tlearn: 0.0987458\ttotal: 1m 46s\tremaining: 26.8s\n",
      "1199:\tlearn: 0.0987417\ttotal: 1m 46s\tremaining: 26.7s\n",
      "1200:\tlearn: 0.0987294\ttotal: 1m 46s\tremaining: 26.6s\n",
      "1201:\tlearn: 0.0987255\ttotal: 1m 46s\tremaining: 26.5s\n",
      "1202:\tlearn: 0.0987183\ttotal: 1m 47s\tremaining: 26.4s\n",
      "1203:\tlearn: 0.0987081\ttotal: 1m 47s\tremaining: 26.3s\n",
      "1204:\tlearn: 0.0986915\ttotal: 1m 47s\tremaining: 26.2s\n",
      "1205:\tlearn: 0.0986782\ttotal: 1m 47s\tremaining: 26.2s\n",
      "1206:\tlearn: 0.0986724\ttotal: 1m 47s\tremaining: 26.1s\n",
      "1207:\tlearn: 0.0986620\ttotal: 1m 47s\tremaining: 26s\n",
      "1208:\tlearn: 0.0986558\ttotal: 1m 47s\tremaining: 25.9s\n",
      "1209:\tlearn: 0.0986530\ttotal: 1m 47s\tremaining: 25.8s\n",
      "1210:\tlearn: 0.0986471\ttotal: 1m 47s\tremaining: 25.7s\n",
      "1211:\tlearn: 0.0986383\ttotal: 1m 47s\tremaining: 25.6s\n",
      "1212:\tlearn: 0.0986286\ttotal: 1m 47s\tremaining: 25.5s\n",
      "1213:\tlearn: 0.0986265\ttotal: 1m 48s\tremaining: 25.4s\n",
      "1214:\tlearn: 0.0986191\ttotal: 1m 48s\tremaining: 25.4s\n",
      "1215:\tlearn: 0.0986162\ttotal: 1m 48s\tremaining: 25.3s\n",
      "1216:\tlearn: 0.0985983\ttotal: 1m 48s\tremaining: 25.2s\n",
      "1217:\tlearn: 0.0985870\ttotal: 1m 48s\tremaining: 25.1s\n",
      "1218:\tlearn: 0.0985808\ttotal: 1m 48s\tremaining: 25s\n",
      "1219:\tlearn: 0.0985758\ttotal: 1m 48s\tremaining: 24.9s\n",
      "1220:\tlearn: 0.0985730\ttotal: 1m 48s\tremaining: 24.8s\n",
      "1221:\tlearn: 0.0985569\ttotal: 1m 48s\tremaining: 24.7s\n",
      "1222:\tlearn: 0.0985531\ttotal: 1m 48s\tremaining: 24.6s\n",
      "1223:\tlearn: 0.0985423\ttotal: 1m 48s\tremaining: 24.6s\n",
      "1224:\tlearn: 0.0985329\ttotal: 1m 49s\tremaining: 24.5s\n",
      "1225:\tlearn: 0.0985307\ttotal: 1m 49s\tremaining: 24.4s\n",
      "1226:\tlearn: 0.0985292\ttotal: 1m 49s\tremaining: 24.3s\n",
      "1227:\tlearn: 0.0985206\ttotal: 1m 49s\tremaining: 24.2s\n",
      "1228:\tlearn: 0.0985189\ttotal: 1m 49s\tremaining: 24.1s\n",
      "1229:\tlearn: 0.0985129\ttotal: 1m 49s\tremaining: 24s\n",
      "1230:\tlearn: 0.0985087\ttotal: 1m 49s\tremaining: 23.9s\n",
      "1231:\tlearn: 0.0985005\ttotal: 1m 49s\tremaining: 23.8s\n",
      "1232:\tlearn: 0.0984958\ttotal: 1m 49s\tremaining: 23.8s\n",
      "1233:\tlearn: 0.0984861\ttotal: 1m 49s\tremaining: 23.7s\n",
      "1234:\tlearn: 0.0984776\ttotal: 1m 49s\tremaining: 23.6s\n",
      "1235:\tlearn: 0.0984741\ttotal: 1m 49s\tremaining: 23.5s\n",
      "1236:\tlearn: 0.0984654\ttotal: 1m 50s\tremaining: 23.4s\n",
      "1237:\tlearn: 0.0984633\ttotal: 1m 50s\tremaining: 23.3s\n",
      "1238:\tlearn: 0.0984564\ttotal: 1m 50s\tremaining: 23.2s\n",
      "1239:\tlearn: 0.0984467\ttotal: 1m 50s\tremaining: 23.1s\n",
      "1240:\tlearn: 0.0984442\ttotal: 1m 50s\tremaining: 23s\n",
      "1241:\tlearn: 0.0984359\ttotal: 1m 50s\tremaining: 23s\n",
      "1242:\tlearn: 0.0984275\ttotal: 1m 50s\tremaining: 22.9s\n",
      "1243:\tlearn: 0.0984204\ttotal: 1m 50s\tremaining: 22.8s\n",
      "1244:\tlearn: 0.0984147\ttotal: 1m 50s\tremaining: 22.7s\n",
      "1245:\tlearn: 0.0984062\ttotal: 1m 50s\tremaining: 22.6s\n",
      "1246:\tlearn: 0.0984035\ttotal: 1m 50s\tremaining: 22.5s\n"
     ]
    },
    {
     "name": "stdout",
     "output_type": "stream",
     "text": [
      "1247:\tlearn: 0.0983955\ttotal: 1m 51s\tremaining: 22.4s\n",
      "1248:\tlearn: 0.0983903\ttotal: 1m 51s\tremaining: 22.3s\n",
      "1249:\tlearn: 0.0983693\ttotal: 1m 51s\tremaining: 22.2s\n",
      "1250:\tlearn: 0.0983678\ttotal: 1m 51s\tremaining: 22.2s\n",
      "1251:\tlearn: 0.0983653\ttotal: 1m 51s\tremaining: 22.1s\n",
      "1252:\tlearn: 0.0983477\ttotal: 1m 51s\tremaining: 22s\n",
      "1253:\tlearn: 0.0983450\ttotal: 1m 51s\tremaining: 21.9s\n",
      "1254:\tlearn: 0.0983369\ttotal: 1m 51s\tremaining: 21.8s\n",
      "1255:\tlearn: 0.0983252\ttotal: 1m 51s\tremaining: 21.7s\n",
      "1256:\tlearn: 0.0983226\ttotal: 1m 51s\tremaining: 21.6s\n",
      "1257:\tlearn: 0.0983144\ttotal: 1m 51s\tremaining: 21.5s\n",
      "1258:\tlearn: 0.0983081\ttotal: 1m 51s\tremaining: 21.4s\n",
      "1259:\tlearn: 0.0983054\ttotal: 1m 52s\tremaining: 21.3s\n",
      "1260:\tlearn: 0.0983039\ttotal: 1m 52s\tremaining: 21.3s\n",
      "1261:\tlearn: 0.0982884\ttotal: 1m 52s\tremaining: 21.2s\n",
      "1262:\tlearn: 0.0982831\ttotal: 1m 52s\tremaining: 21.1s\n",
      "1263:\tlearn: 0.0982808\ttotal: 1m 52s\tremaining: 21s\n",
      "1264:\tlearn: 0.0982780\ttotal: 1m 52s\tremaining: 20.9s\n",
      "1265:\tlearn: 0.0982749\ttotal: 1m 52s\tremaining: 20.8s\n",
      "1266:\tlearn: 0.0982693\ttotal: 1m 52s\tremaining: 20.7s\n",
      "1267:\tlearn: 0.0982597\ttotal: 1m 52s\tremaining: 20.6s\n",
      "1268:\tlearn: 0.0982491\ttotal: 1m 52s\tremaining: 20.5s\n",
      "1269:\tlearn: 0.0982476\ttotal: 1m 52s\tremaining: 20.5s\n",
      "1270:\tlearn: 0.0982452\ttotal: 1m 53s\tremaining: 20.4s\n",
      "1271:\tlearn: 0.0982360\ttotal: 1m 53s\tremaining: 20.3s\n",
      "1272:\tlearn: 0.0982306\ttotal: 1m 53s\tremaining: 20.2s\n",
      "1273:\tlearn: 0.0982184\ttotal: 1m 53s\tremaining: 20.1s\n",
      "1274:\tlearn: 0.0982075\ttotal: 1m 53s\tremaining: 20s\n",
      "1275:\tlearn: 0.0981860\ttotal: 1m 53s\tremaining: 19.9s\n",
      "1276:\tlearn: 0.0981799\ttotal: 1m 53s\tremaining: 19.8s\n",
      "1277:\tlearn: 0.0981681\ttotal: 1m 53s\tremaining: 19.7s\n",
      "1278:\tlearn: 0.0981654\ttotal: 1m 53s\tremaining: 19.7s\n",
      "1279:\tlearn: 0.0981621\ttotal: 1m 53s\tremaining: 19.6s\n",
      "1280:\tlearn: 0.0981516\ttotal: 1m 53s\tremaining: 19.5s\n",
      "1281:\tlearn: 0.0981405\ttotal: 1m 54s\tremaining: 19.4s\n",
      "1282:\tlearn: 0.0981384\ttotal: 1m 54s\tremaining: 19.3s\n",
      "1283:\tlearn: 0.0981316\ttotal: 1m 54s\tremaining: 19.2s\n",
      "1284:\tlearn: 0.0981266\ttotal: 1m 54s\tremaining: 19.1s\n",
      "1285:\tlearn: 0.0981184\ttotal: 1m 54s\tremaining: 19s\n",
      "1286:\tlearn: 0.0981166\ttotal: 1m 54s\tremaining: 18.9s\n",
      "1287:\tlearn: 0.0981071\ttotal: 1m 54s\tremaining: 18.9s\n",
      "1288:\tlearn: 0.0981005\ttotal: 1m 54s\tremaining: 18.8s\n",
      "1289:\tlearn: 0.0980978\ttotal: 1m 54s\tremaining: 18.7s\n",
      "1290:\tlearn: 0.0980939\ttotal: 1m 54s\tremaining: 18.6s\n",
      "1291:\tlearn: 0.0980859\ttotal: 1m 54s\tremaining: 18.5s\n",
      "1292:\tlearn: 0.0980832\ttotal: 1m 55s\tremaining: 18.4s\n",
      "1293:\tlearn: 0.0980749\ttotal: 1m 55s\tremaining: 18.3s\n",
      "1294:\tlearn: 0.0980653\ttotal: 1m 55s\tremaining: 18.2s\n",
      "1295:\tlearn: 0.0980587\ttotal: 1m 55s\tremaining: 18.1s\n",
      "1296:\tlearn: 0.0980561\ttotal: 1m 55s\tremaining: 18.1s\n",
      "1297:\tlearn: 0.0980547\ttotal: 1m 55s\tremaining: 18s\n",
      "1298:\tlearn: 0.0980497\ttotal: 1m 55s\tremaining: 17.9s\n",
      "1299:\tlearn: 0.0980378\ttotal: 1m 55s\tremaining: 17.8s\n",
      "1300:\tlearn: 0.0980343\ttotal: 1m 55s\tremaining: 17.7s\n",
      "1301:\tlearn: 0.0980277\ttotal: 1m 55s\tremaining: 17.6s\n",
      "1302:\tlearn: 0.0980252\ttotal: 1m 55s\tremaining: 17.5s\n",
      "1303:\tlearn: 0.0980178\ttotal: 1m 56s\tremaining: 17.4s\n",
      "1304:\tlearn: 0.0980129\ttotal: 1m 56s\tremaining: 17.3s\n",
      "1305:\tlearn: 0.0980064\ttotal: 1m 56s\tremaining: 17.3s\n",
      "1306:\tlearn: 0.0980048\ttotal: 1m 56s\tremaining: 17.2s\n",
      "1307:\tlearn: 0.0979987\ttotal: 1m 56s\tremaining: 17.1s\n",
      "1308:\tlearn: 0.0979916\ttotal: 1m 56s\tremaining: 17s\n",
      "1309:\tlearn: 0.0979860\ttotal: 1m 56s\tremaining: 16.9s\n",
      "1310:\tlearn: 0.0979840\ttotal: 1m 56s\tremaining: 16.8s\n",
      "1311:\tlearn: 0.0979809\ttotal: 1m 56s\tremaining: 16.7s\n",
      "1312:\tlearn: 0.0979736\ttotal: 1m 56s\tremaining: 16.6s\n",
      "1313:\tlearn: 0.0979681\ttotal: 1m 56s\tremaining: 16.6s\n",
      "1314:\tlearn: 0.0979627\ttotal: 1m 57s\tremaining: 16.5s\n",
      "1315:\tlearn: 0.0979566\ttotal: 1m 57s\tremaining: 16.4s\n",
      "1316:\tlearn: 0.0979541\ttotal: 1m 57s\tremaining: 16.3s\n",
      "1317:\tlearn: 0.0979516\ttotal: 1m 57s\tremaining: 16.2s\n",
      "1318:\tlearn: 0.0979410\ttotal: 1m 57s\tremaining: 16.1s\n",
      "1319:\tlearn: 0.0979286\ttotal: 1m 57s\tremaining: 16s\n",
      "1320:\tlearn: 0.0979144\ttotal: 1m 57s\tremaining: 15.9s\n",
      "1321:\tlearn: 0.0979102\ttotal: 1m 57s\tremaining: 15.8s\n",
      "1322:\tlearn: 0.0979079\ttotal: 1m 57s\tremaining: 15.8s\n",
      "1323:\tlearn: 0.0979059\ttotal: 1m 57s\tremaining: 15.7s\n",
      "1324:\tlearn: 0.0978936\ttotal: 1m 57s\tremaining: 15.6s\n",
      "1325:\tlearn: 0.0978916\ttotal: 1m 58s\tremaining: 15.5s\n",
      "1326:\tlearn: 0.0978900\ttotal: 1m 58s\tremaining: 15.4s\n",
      "1327:\tlearn: 0.0978886\ttotal: 1m 58s\tremaining: 15.3s\n",
      "1328:\tlearn: 0.0978821\ttotal: 1m 58s\tremaining: 15.2s\n",
      "1329:\tlearn: 0.0978784\ttotal: 1m 58s\tremaining: 15.1s\n",
      "1330:\tlearn: 0.0978725\ttotal: 1m 58s\tremaining: 15s\n",
      "1331:\tlearn: 0.0978617\ttotal: 1m 58s\tremaining: 15s\n",
      "1332:\tlearn: 0.0978558\ttotal: 1m 58s\tremaining: 14.9s\n",
      "1333:\tlearn: 0.0978441\ttotal: 1m 58s\tremaining: 14.8s\n",
      "1334:\tlearn: 0.0978293\ttotal: 1m 58s\tremaining: 14.7s\n",
      "1335:\tlearn: 0.0978194\ttotal: 1m 58s\tremaining: 14.6s\n",
      "1336:\tlearn: 0.0978091\ttotal: 1m 59s\tremaining: 14.5s\n",
      "1337:\tlearn: 0.0977927\ttotal: 1m 59s\tremaining: 14.4s\n",
      "1338:\tlearn: 0.0977742\ttotal: 1m 59s\tremaining: 14.3s\n",
      "1339:\tlearn: 0.0977646\ttotal: 1m 59s\tremaining: 14.3s\n",
      "1340:\tlearn: 0.0977564\ttotal: 1m 59s\tremaining: 14.2s\n",
      "1341:\tlearn: 0.0977386\ttotal: 1m 59s\tremaining: 14.1s\n",
      "1342:\tlearn: 0.0977291\ttotal: 1m 59s\tremaining: 14s\n",
      "1343:\tlearn: 0.0977048\ttotal: 1m 59s\tremaining: 13.9s\n",
      "1344:\tlearn: 0.0976991\ttotal: 1m 59s\tremaining: 13.8s\n",
      "1345:\tlearn: 0.0976942\ttotal: 1m 59s\tremaining: 13.7s\n",
      "1346:\tlearn: 0.0976928\ttotal: 1m 59s\tremaining: 13.6s\n",
      "1347:\tlearn: 0.0976890\ttotal: 2m\tremaining: 13.5s\n",
      "1348:\tlearn: 0.0976840\ttotal: 2m\tremaining: 13.4s\n",
      "1349:\tlearn: 0.0976803\ttotal: 2m\tremaining: 13.4s\n",
      "1350:\tlearn: 0.0976718\ttotal: 2m\tremaining: 13.3s\n",
      "1351:\tlearn: 0.0976689\ttotal: 2m\tremaining: 13.2s\n",
      "1352:\tlearn: 0.0976638\ttotal: 2m\tremaining: 13.1s\n",
      "1353:\tlearn: 0.0976620\ttotal: 2m\tremaining: 13s\n",
      "1354:\tlearn: 0.0976586\ttotal: 2m\tremaining: 12.9s\n",
      "1355:\tlearn: 0.0976574\ttotal: 2m\tremaining: 12.8s\n",
      "1356:\tlearn: 0.0976383\ttotal: 2m\tremaining: 12.7s\n",
      "1357:\tlearn: 0.0976353\ttotal: 2m\tremaining: 12.6s\n",
      "1358:\tlearn: 0.0976328\ttotal: 2m 1s\tremaining: 12.6s\n",
      "1359:\tlearn: 0.0976313\ttotal: 2m 1s\tremaining: 12.5s\n",
      "1360:\tlearn: 0.0976282\ttotal: 2m 1s\tremaining: 12.4s\n",
      "1361:\tlearn: 0.0976212\ttotal: 2m 1s\tremaining: 12.3s\n",
      "1362:\tlearn: 0.0976115\ttotal: 2m 1s\tremaining: 12.2s\n",
      "1363:\tlearn: 0.0976103\ttotal: 2m 1s\tremaining: 12.1s\n",
      "1364:\tlearn: 0.0975971\ttotal: 2m 1s\tremaining: 12s\n",
      "1365:\tlearn: 0.0975923\ttotal: 2m 1s\tremaining: 11.9s\n",
      "1366:\tlearn: 0.0975801\ttotal: 2m 1s\tremaining: 11.8s\n",
      "1367:\tlearn: 0.0975730\ttotal: 2m 1s\tremaining: 11.8s\n",
      "1368:\tlearn: 0.0975692\ttotal: 2m 1s\tremaining: 11.7s\n",
      "1369:\tlearn: 0.0975644\ttotal: 2m 1s\tremaining: 11.6s\n",
      "1370:\tlearn: 0.0975594\ttotal: 2m 2s\tremaining: 11.5s\n",
      "1371:\tlearn: 0.0975531\ttotal: 2m 2s\tremaining: 11.4s\n",
      "1372:\tlearn: 0.0975419\ttotal: 2m 2s\tremaining: 11.3s\n",
      "1373:\tlearn: 0.0975402\ttotal: 2m 2s\tremaining: 11.2s\n",
      "1374:\tlearn: 0.0975347\ttotal: 2m 2s\tremaining: 11.1s\n",
      "1375:\tlearn: 0.0975275\ttotal: 2m 2s\tremaining: 11s\n",
      "1376:\tlearn: 0.0975192\ttotal: 2m 2s\tremaining: 11s\n",
      "1377:\tlearn: 0.0975179\ttotal: 2m 2s\tremaining: 10.9s\n",
      "1378:\tlearn: 0.0975094\ttotal: 2m 2s\tremaining: 10.8s\n",
      "1379:\tlearn: 0.0975039\ttotal: 2m 2s\tremaining: 10.7s\n",
      "1380:\tlearn: 0.0974960\ttotal: 2m 2s\tremaining: 10.6s\n",
      "1381:\tlearn: 0.0974902\ttotal: 2m 3s\tremaining: 10.5s\n",
      "1382:\tlearn: 0.0974874\ttotal: 2m 3s\tremaining: 10.4s\n",
      "1383:\tlearn: 0.0974831\ttotal: 2m 3s\tremaining: 10.3s\n",
      "1384:\tlearn: 0.0974778\ttotal: 2m 3s\tremaining: 10.2s\n",
      "1385:\tlearn: 0.0974682\ttotal: 2m 3s\tremaining: 10.2s\n",
      "1386:\tlearn: 0.0974652\ttotal: 2m 3s\tremaining: 10.1s\n",
      "1387:\tlearn: 0.0974604\ttotal: 2m 3s\tremaining: 9.97s\n",
      "1388:\tlearn: 0.0974526\ttotal: 2m 3s\tremaining: 9.88s\n",
      "1389:\tlearn: 0.0974438\ttotal: 2m 3s\tremaining: 9.79s\n",
      "1390:\tlearn: 0.0974345\ttotal: 2m 3s\tremaining: 9.7s\n",
      "1391:\tlearn: 0.0974208\ttotal: 2m 3s\tremaining: 9.62s\n",
      "1392:\tlearn: 0.0974152\ttotal: 2m 4s\tremaining: 9.53s\n",
      "1393:\tlearn: 0.0974133\ttotal: 2m 4s\tremaining: 9.44s\n",
      "1394:\tlearn: 0.0974121\ttotal: 2m 4s\tremaining: 9.35s\n",
      "1395:\tlearn: 0.0974095\ttotal: 2m 4s\tremaining: 9.26s\n",
      "1396:\tlearn: 0.0974083\ttotal: 2m 4s\tremaining: 9.17s\n",
      "1397:\tlearn: 0.0973992\ttotal: 2m 4s\tremaining: 9.08s\n",
      "1398:\tlearn: 0.0973827\ttotal: 2m 4s\tremaining: 8.99s\n",
      "1399:\tlearn: 0.0973787\ttotal: 2m 4s\tremaining: 8.9s\n",
      "1400:\tlearn: 0.0973767\ttotal: 2m 4s\tremaining: 8.82s\n"
     ]
    },
    {
     "name": "stdout",
     "output_type": "stream",
     "text": [
      "1401:\tlearn: 0.0973650\ttotal: 2m 4s\tremaining: 8.73s\n",
      "1402:\tlearn: 0.0973528\ttotal: 2m 4s\tremaining: 8.64s\n",
      "1403:\tlearn: 0.0973447\ttotal: 2m 5s\tremaining: 8.55s\n",
      "1404:\tlearn: 0.0973436\ttotal: 2m 5s\tremaining: 8.46s\n",
      "1405:\tlearn: 0.0973366\ttotal: 2m 5s\tremaining: 8.37s\n",
      "1406:\tlearn: 0.0973275\ttotal: 2m 5s\tremaining: 8.28s\n",
      "1407:\tlearn: 0.0973183\ttotal: 2m 5s\tremaining: 8.19s\n",
      "1408:\tlearn: 0.0973132\ttotal: 2m 5s\tremaining: 8.1s\n",
      "1409:\tlearn: 0.0973104\ttotal: 2m 5s\tremaining: 8.02s\n",
      "1410:\tlearn: 0.0973068\ttotal: 2m 5s\tremaining: 7.93s\n",
      "1411:\tlearn: 0.0973041\ttotal: 2m 5s\tremaining: 7.84s\n",
      "1412:\tlearn: 0.0972944\ttotal: 2m 5s\tremaining: 7.75s\n",
      "1413:\tlearn: 0.0972938\ttotal: 2m 5s\tremaining: 7.66s\n",
      "1414:\tlearn: 0.0972831\ttotal: 2m 6s\tremaining: 7.57s\n",
      "1415:\tlearn: 0.0972804\ttotal: 2m 6s\tremaining: 7.48s\n",
      "1416:\tlearn: 0.0972746\ttotal: 2m 6s\tremaining: 7.39s\n",
      "1417:\tlearn: 0.0972658\ttotal: 2m 6s\tremaining: 7.3s\n",
      "1418:\tlearn: 0.0972539\ttotal: 2m 6s\tremaining: 7.21s\n",
      "1419:\tlearn: 0.0972477\ttotal: 2m 6s\tremaining: 7.12s\n",
      "1420:\tlearn: 0.0972407\ttotal: 2m 6s\tremaining: 7.03s\n",
      "1421:\tlearn: 0.0972373\ttotal: 2m 6s\tremaining: 6.95s\n",
      "1422:\tlearn: 0.0972351\ttotal: 2m 6s\tremaining: 6.86s\n",
      "1423:\tlearn: 0.0972290\ttotal: 2m 6s\tremaining: 6.77s\n",
      "1424:\tlearn: 0.0972155\ttotal: 2m 6s\tremaining: 6.68s\n",
      "1425:\tlearn: 0.0972032\ttotal: 2m 7s\tremaining: 6.59s\n",
      "1426:\tlearn: 0.0971980\ttotal: 2m 7s\tremaining: 6.5s\n",
      "1427:\tlearn: 0.0971773\ttotal: 2m 7s\tremaining: 6.41s\n",
      "1428:\tlearn: 0.0971665\ttotal: 2m 7s\tremaining: 6.32s\n",
      "1429:\tlearn: 0.0971588\ttotal: 2m 7s\tremaining: 6.23s\n",
      "1430:\tlearn: 0.0971503\ttotal: 2m 7s\tremaining: 6.14s\n",
      "1431:\tlearn: 0.0971441\ttotal: 2m 7s\tremaining: 6.06s\n",
      "1432:\tlearn: 0.0971300\ttotal: 2m 7s\tremaining: 5.97s\n",
      "1433:\tlearn: 0.0971294\ttotal: 2m 7s\tremaining: 5.88s\n",
      "1434:\tlearn: 0.0971254\ttotal: 2m 7s\tremaining: 5.79s\n",
      "1435:\tlearn: 0.0971146\ttotal: 2m 7s\tremaining: 5.7s\n",
      "1436:\tlearn: 0.0971037\ttotal: 2m 7s\tremaining: 5.61s\n",
      "1437:\tlearn: 0.0970916\ttotal: 2m 8s\tremaining: 5.52s\n",
      "1438:\tlearn: 0.0970872\ttotal: 2m 8s\tremaining: 5.43s\n",
      "1439:\tlearn: 0.0970738\ttotal: 2m 8s\tremaining: 5.34s\n",
      "1440:\tlearn: 0.0970556\ttotal: 2m 8s\tremaining: 5.25s\n",
      "1441:\tlearn: 0.0970510\ttotal: 2m 8s\tremaining: 5.17s\n",
      "1442:\tlearn: 0.0970366\ttotal: 2m 8s\tremaining: 5.08s\n",
      "1443:\tlearn: 0.0970289\ttotal: 2m 8s\tremaining: 4.99s\n",
      "1444:\tlearn: 0.0970196\ttotal: 2m 8s\tremaining: 4.9s\n",
      "1445:\tlearn: 0.0970177\ttotal: 2m 8s\tremaining: 4.81s\n",
      "1446:\tlearn: 0.0970147\ttotal: 2m 8s\tremaining: 4.72s\n",
      "1447:\tlearn: 0.0970099\ttotal: 2m 8s\tremaining: 4.63s\n",
      "1448:\tlearn: 0.0970027\ttotal: 2m 9s\tremaining: 4.54s\n",
      "1449:\tlearn: 0.0969884\ttotal: 2m 9s\tremaining: 4.46s\n",
      "1450:\tlearn: 0.0969833\ttotal: 2m 9s\tremaining: 4.37s\n",
      "1451:\tlearn: 0.0969693\ttotal: 2m 9s\tremaining: 4.28s\n",
      "1452:\tlearn: 0.0969673\ttotal: 2m 9s\tremaining: 4.19s\n",
      "1453:\tlearn: 0.0969566\ttotal: 2m 9s\tremaining: 4.1s\n",
      "1454:\tlearn: 0.0969543\ttotal: 2m 9s\tremaining: 4.01s\n",
      "1455:\tlearn: 0.0969483\ttotal: 2m 9s\tremaining: 3.92s\n",
      "1456:\tlearn: 0.0969393\ttotal: 2m 9s\tremaining: 3.83s\n",
      "1457:\tlearn: 0.0969319\ttotal: 2m 9s\tremaining: 3.74s\n",
      "1458:\tlearn: 0.0969296\ttotal: 2m 10s\tremaining: 3.65s\n",
      "1459:\tlearn: 0.0969208\ttotal: 2m 10s\tremaining: 3.56s\n",
      "1460:\tlearn: 0.0969125\ttotal: 2m 10s\tremaining: 3.48s\n",
      "1461:\tlearn: 0.0969029\ttotal: 2m 10s\tremaining: 3.39s\n",
      "1462:\tlearn: 0.0968988\ttotal: 2m 10s\tremaining: 3.3s\n",
      "1463:\tlearn: 0.0968883\ttotal: 2m 10s\tremaining: 3.21s\n",
      "1464:\tlearn: 0.0968856\ttotal: 2m 10s\tremaining: 3.12s\n",
      "1465:\tlearn: 0.0968718\ttotal: 2m 10s\tremaining: 3.03s\n",
      "1466:\tlearn: 0.0968647\ttotal: 2m 10s\tremaining: 2.94s\n",
      "1467:\tlearn: 0.0968579\ttotal: 2m 10s\tremaining: 2.85s\n",
      "1468:\tlearn: 0.0968564\ttotal: 2m 10s\tremaining: 2.76s\n",
      "1469:\tlearn: 0.0968465\ttotal: 2m 11s\tremaining: 2.67s\n",
      "1470:\tlearn: 0.0968451\ttotal: 2m 11s\tremaining: 2.58s\n",
      "1471:\tlearn: 0.0968416\ttotal: 2m 11s\tremaining: 2.5s\n",
      "1472:\tlearn: 0.0968394\ttotal: 2m 11s\tremaining: 2.41s\n",
      "1473:\tlearn: 0.0968364\ttotal: 2m 11s\tremaining: 2.32s\n",
      "1474:\tlearn: 0.0968324\ttotal: 2m 11s\tremaining: 2.23s\n",
      "1475:\tlearn: 0.0968236\ttotal: 2m 11s\tremaining: 2.14s\n",
      "1476:\tlearn: 0.0968112\ttotal: 2m 11s\tremaining: 2.05s\n",
      "1477:\tlearn: 0.0968083\ttotal: 2m 11s\tremaining: 1.96s\n",
      "1478:\tlearn: 0.0968050\ttotal: 2m 11s\tremaining: 1.87s\n",
      "1479:\tlearn: 0.0967996\ttotal: 2m 11s\tremaining: 1.78s\n",
      "1480:\tlearn: 0.0967868\ttotal: 2m 12s\tremaining: 1.69s\n",
      "1481:\tlearn: 0.0967780\ttotal: 2m 12s\tremaining: 1.6s\n",
      "1482:\tlearn: 0.0967678\ttotal: 2m 12s\tremaining: 1.51s\n",
      "1483:\tlearn: 0.0967599\ttotal: 2m 12s\tremaining: 1.43s\n",
      "1484:\tlearn: 0.0967490\ttotal: 2m 12s\tremaining: 1.34s\n",
      "1485:\tlearn: 0.0967461\ttotal: 2m 12s\tremaining: 1.25s\n",
      "1486:\tlearn: 0.0967415\ttotal: 2m 12s\tremaining: 1.16s\n",
      "1487:\tlearn: 0.0967409\ttotal: 2m 12s\tremaining: 1.07s\n",
      "1488:\tlearn: 0.0967354\ttotal: 2m 12s\tremaining: 980ms\n",
      "1489:\tlearn: 0.0967281\ttotal: 2m 12s\tremaining: 891ms\n",
      "1490:\tlearn: 0.0967254\ttotal: 2m 12s\tremaining: 802ms\n",
      "1491:\tlearn: 0.0967114\ttotal: 2m 12s\tremaining: 713ms\n",
      "1492:\tlearn: 0.0966977\ttotal: 2m 13s\tremaining: 624ms\n",
      "1493:\tlearn: 0.0966899\ttotal: 2m 13s\tremaining: 535ms\n",
      "1494:\tlearn: 0.0966773\ttotal: 2m 13s\tremaining: 446ms\n",
      "1495:\tlearn: 0.0966689\ttotal: 2m 13s\tremaining: 356ms\n",
      "1496:\tlearn: 0.0966591\ttotal: 2m 13s\tremaining: 267ms\n",
      "1497:\tlearn: 0.0966571\ttotal: 2m 13s\tremaining: 178ms\n",
      "1498:\tlearn: 0.0966411\ttotal: 2m 13s\tremaining: 89.2ms\n",
      "1499:\tlearn: 0.0966379\ttotal: 2m 13s\tremaining: 0us\n"
     ]
    }
   ],
   "source": [
    "model2 = CatBoostClassifier(random_state=7, learning_rate=0.06, iterations= 1500, l2_leaf_reg = 10).fit(x_train,y_train)"
   ]
  },
  {
   "cell_type": "code",
   "execution_count": 202,
   "metadata": {},
   "outputs": [
    {
     "name": "stdout",
     "output_type": "stream",
     "text": [
      "0.9652637201979307\n",
      "0.9563732208750659\n",
      "0.9563732208750659\n"
     ]
    }
   ],
   "source": [
    "print(model2.score(x_train,y_train))\n",
    "print(model2.score(x_test,y_test))\n",
    "y_pred2 = model2.predict(x_test)\n",
    "print(accuracy_score(y_test,y_pred2))"
   ]
  },
  {
   "cell_type": "code",
   "execution_count": 203,
   "metadata": {},
   "outputs": [
    {
     "data": {
      "text/plain": [
       "1823.0"
      ]
     },
     "execution_count": 203,
     "metadata": {},
     "output_type": "execute_result"
    }
   ],
   "source": [
    "sum(y_pred2)"
   ]
  },
  {
   "cell_type": "code",
   "execution_count": 204,
   "metadata": {},
   "outputs": [],
   "source": [
    "model = GradientBoostingClassifier(random_state=7, n_estimators= 200,  max_depth= 20).fit(x_train,y_train)"
   ]
  },
  {
   "cell_type": "code",
   "execution_count": 205,
   "metadata": {},
   "outputs": [
    {
     "name": "stdout",
     "output_type": "stream",
     "text": [
      "0.9971744264507423\n",
      "0.9516710595677386\n",
      "0.9516710595677386\n"
     ]
    }
   ],
   "source": [
    "print(model.score(x_train,y_train))\n",
    "print(model.score(x_test,y_test))\n",
    "y_pred = model.predict(x_test)\n",
    "print(accuracy_score(y_test,y_pred))"
   ]
  },
  {
   "cell_type": "code",
   "execution_count": 208,
   "metadata": {},
   "outputs": [],
   "source": [
    "model6 = XGBClassifier(random_state=7, n_estimators= 200, max_depth= 15).fit(x_train,y_train)"
   ]
  },
  {
   "cell_type": "code",
   "execution_count": 209,
   "metadata": {},
   "outputs": [
    {
     "name": "stdout",
     "output_type": "stream",
     "text": [
      "0.980825461088619\n",
      "0.9552978386926726\n",
      "0.9552978386926726\n"
     ]
    }
   ],
   "source": [
    "print(model6.score(x_train,y_train))\n",
    "print(model6.score(x_test,y_test))\n",
    "y_pred6 = model6.predict(x_test)\n",
    "print(accuracy_score(y_test,y_pred6))"
   ]
  },
  {
   "cell_type": "code",
   "execution_count": 227,
   "metadata": {},
   "outputs": [],
   "source": [
    "model7 = KNeighborsClassifier(n_neighbors=11).fit(x_train,y_train)"
   ]
  },
  {
   "cell_type": "code",
   "execution_count": 228,
   "metadata": {},
   "outputs": [
    {
     "name": "stdout",
     "output_type": "stream",
     "text": [
      "0.9546010458839406\n",
      "0.9480231945176595\n",
      "0.9480231945176595\n"
     ]
    }
   ],
   "source": [
    "print(model7.score(x_train,y_train))\n",
    "print(model7.score(x_test,y_test))\n",
    "y_pred7 = model7.predict(x_test)\n",
    "print(accuracy_score(y_test,y_pred7))"
   ]
  },
  {
   "cell_type": "code",
   "execution_count": 229,
   "metadata": {},
   "outputs": [],
   "source": [
    "model8 = SVC(C=10,random_state=7).fit(x_train,y_train)"
   ]
  },
  {
   "cell_type": "code",
   "execution_count": 230,
   "metadata": {},
   "outputs": [
    {
     "ename": "KeyboardInterrupt",
     "evalue": "",
     "output_type": "error",
     "traceback": [
      "\u001b[1;31m---------------------------------------------------------------------------\u001b[0m",
      "\u001b[1;31mKeyboardInterrupt\u001b[0m                         Traceback (most recent call last)",
      "\u001b[1;32m<ipython-input-230-512b127dc1ac>\u001b[0m in \u001b[0;36m<module>\u001b[1;34m\u001b[0m\n\u001b[1;32m----> 1\u001b[1;33m \u001b[0mprint\u001b[0m\u001b[1;33m(\u001b[0m\u001b[0mmodel8\u001b[0m\u001b[1;33m.\u001b[0m\u001b[0mscore\u001b[0m\u001b[1;33m(\u001b[0m\u001b[0mx_train\u001b[0m\u001b[1;33m,\u001b[0m\u001b[0my_train\u001b[0m\u001b[1;33m)\u001b[0m\u001b[1;33m)\u001b[0m\u001b[1;33m\u001b[0m\u001b[1;33m\u001b[0m\u001b[0m\n\u001b[0m\u001b[0;32m      2\u001b[0m \u001b[0mprint\u001b[0m\u001b[1;33m(\u001b[0m\u001b[0mmodel8\u001b[0m\u001b[1;33m.\u001b[0m\u001b[0mscore\u001b[0m\u001b[1;33m(\u001b[0m\u001b[0mx_test\u001b[0m\u001b[1;33m,\u001b[0m\u001b[0my_test\u001b[0m\u001b[1;33m)\u001b[0m\u001b[1;33m)\u001b[0m\u001b[1;33m\u001b[0m\u001b[1;33m\u001b[0m\u001b[0m\n\u001b[0;32m      3\u001b[0m \u001b[0my_pred8\u001b[0m \u001b[1;33m=\u001b[0m \u001b[0mmodel8\u001b[0m\u001b[1;33m.\u001b[0m\u001b[0mpredict\u001b[0m\u001b[1;33m(\u001b[0m\u001b[0mx_test\u001b[0m\u001b[1;33m)\u001b[0m\u001b[1;33m\u001b[0m\u001b[1;33m\u001b[0m\u001b[0m\n\u001b[0;32m      4\u001b[0m \u001b[0mprint\u001b[0m\u001b[1;33m(\u001b[0m\u001b[0maccuracy_score\u001b[0m\u001b[1;33m(\u001b[0m\u001b[0my_test\u001b[0m\u001b[1;33m,\u001b[0m\u001b[0my_pred8\u001b[0m\u001b[1;33m)\u001b[0m\u001b[1;33m)\u001b[0m\u001b[1;33m\u001b[0m\u001b[1;33m\u001b[0m\u001b[0m\n",
      "\u001b[1;32m~\\Anaconda3\\lib\\site-packages\\sklearn\\base.py\u001b[0m in \u001b[0;36mscore\u001b[1;34m(self, X, y, sample_weight)\u001b[0m\n\u001b[0;32m    355\u001b[0m         \"\"\"\n\u001b[0;32m    356\u001b[0m         \u001b[1;32mfrom\u001b[0m \u001b[1;33m.\u001b[0m\u001b[0mmetrics\u001b[0m \u001b[1;32mimport\u001b[0m \u001b[0maccuracy_score\u001b[0m\u001b[1;33m\u001b[0m\u001b[1;33m\u001b[0m\u001b[0m\n\u001b[1;32m--> 357\u001b[1;33m         \u001b[1;32mreturn\u001b[0m \u001b[0maccuracy_score\u001b[0m\u001b[1;33m(\u001b[0m\u001b[0my\u001b[0m\u001b[1;33m,\u001b[0m \u001b[0mself\u001b[0m\u001b[1;33m.\u001b[0m\u001b[0mpredict\u001b[0m\u001b[1;33m(\u001b[0m\u001b[0mX\u001b[0m\u001b[1;33m)\u001b[0m\u001b[1;33m,\u001b[0m \u001b[0msample_weight\u001b[0m\u001b[1;33m=\u001b[0m\u001b[0msample_weight\u001b[0m\u001b[1;33m)\u001b[0m\u001b[1;33m\u001b[0m\u001b[1;33m\u001b[0m\u001b[0m\n\u001b[0m\u001b[0;32m    358\u001b[0m \u001b[1;33m\u001b[0m\u001b[0m\n\u001b[0;32m    359\u001b[0m \u001b[1;33m\u001b[0m\u001b[0m\n",
      "\u001b[1;32m~\\Anaconda3\\lib\\site-packages\\sklearn\\svm\\base.py\u001b[0m in \u001b[0;36mpredict\u001b[1;34m(self, X)\u001b[0m\n\u001b[0;32m    572\u001b[0m             \u001b[0mClass\u001b[0m \u001b[0mlabels\u001b[0m \u001b[1;32mfor\u001b[0m \u001b[0msamples\u001b[0m \u001b[1;32min\u001b[0m \u001b[0mX\u001b[0m\u001b[1;33m.\u001b[0m\u001b[1;33m\u001b[0m\u001b[1;33m\u001b[0m\u001b[0m\n\u001b[0;32m    573\u001b[0m         \"\"\"\n\u001b[1;32m--> 574\u001b[1;33m         \u001b[0my\u001b[0m \u001b[1;33m=\u001b[0m \u001b[0msuper\u001b[0m\u001b[1;33m(\u001b[0m\u001b[1;33m)\u001b[0m\u001b[1;33m.\u001b[0m\u001b[0mpredict\u001b[0m\u001b[1;33m(\u001b[0m\u001b[0mX\u001b[0m\u001b[1;33m)\u001b[0m\u001b[1;33m\u001b[0m\u001b[1;33m\u001b[0m\u001b[0m\n\u001b[0m\u001b[0;32m    575\u001b[0m         \u001b[1;32mreturn\u001b[0m \u001b[0mself\u001b[0m\u001b[1;33m.\u001b[0m\u001b[0mclasses_\u001b[0m\u001b[1;33m.\u001b[0m\u001b[0mtake\u001b[0m\u001b[1;33m(\u001b[0m\u001b[0mnp\u001b[0m\u001b[1;33m.\u001b[0m\u001b[0masarray\u001b[0m\u001b[1;33m(\u001b[0m\u001b[0my\u001b[0m\u001b[1;33m,\u001b[0m \u001b[0mdtype\u001b[0m\u001b[1;33m=\u001b[0m\u001b[0mnp\u001b[0m\u001b[1;33m.\u001b[0m\u001b[0mintp\u001b[0m\u001b[1;33m)\u001b[0m\u001b[1;33m)\u001b[0m\u001b[1;33m\u001b[0m\u001b[1;33m\u001b[0m\u001b[0m\n\u001b[0;32m    576\u001b[0m \u001b[1;33m\u001b[0m\u001b[0m\n",
      "\u001b[1;32m~\\Anaconda3\\lib\\site-packages\\sklearn\\svm\\base.py\u001b[0m in \u001b[0;36mpredict\u001b[1;34m(self, X)\u001b[0m\n\u001b[0;32m    322\u001b[0m         \u001b[0mX\u001b[0m \u001b[1;33m=\u001b[0m \u001b[0mself\u001b[0m\u001b[1;33m.\u001b[0m\u001b[0m_validate_for_predict\u001b[0m\u001b[1;33m(\u001b[0m\u001b[0mX\u001b[0m\u001b[1;33m)\u001b[0m\u001b[1;33m\u001b[0m\u001b[1;33m\u001b[0m\u001b[0m\n\u001b[0;32m    323\u001b[0m         \u001b[0mpredict\u001b[0m \u001b[1;33m=\u001b[0m \u001b[0mself\u001b[0m\u001b[1;33m.\u001b[0m\u001b[0m_sparse_predict\u001b[0m \u001b[1;32mif\u001b[0m \u001b[0mself\u001b[0m\u001b[1;33m.\u001b[0m\u001b[0m_sparse\u001b[0m \u001b[1;32melse\u001b[0m \u001b[0mself\u001b[0m\u001b[1;33m.\u001b[0m\u001b[0m_dense_predict\u001b[0m\u001b[1;33m\u001b[0m\u001b[1;33m\u001b[0m\u001b[0m\n\u001b[1;32m--> 324\u001b[1;33m         \u001b[1;32mreturn\u001b[0m \u001b[0mpredict\u001b[0m\u001b[1;33m(\u001b[0m\u001b[0mX\u001b[0m\u001b[1;33m)\u001b[0m\u001b[1;33m\u001b[0m\u001b[1;33m\u001b[0m\u001b[0m\n\u001b[0m\u001b[0;32m    325\u001b[0m \u001b[1;33m\u001b[0m\u001b[0m\n\u001b[0;32m    326\u001b[0m     \u001b[1;32mdef\u001b[0m \u001b[0m_dense_predict\u001b[0m\u001b[1;33m(\u001b[0m\u001b[0mself\u001b[0m\u001b[1;33m,\u001b[0m \u001b[0mX\u001b[0m\u001b[1;33m)\u001b[0m\u001b[1;33m:\u001b[0m\u001b[1;33m\u001b[0m\u001b[1;33m\u001b[0m\u001b[0m\n",
      "\u001b[1;32m~\\Anaconda3\\lib\\site-packages\\sklearn\\svm\\base.py\u001b[0m in \u001b[0;36m_dense_predict\u001b[1;34m(self, X)\u001b[0m\n\u001b[0;32m    344\u001b[0m             \u001b[0mself\u001b[0m\u001b[1;33m.\u001b[0m\u001b[0mprobA_\u001b[0m\u001b[1;33m,\u001b[0m \u001b[0mself\u001b[0m\u001b[1;33m.\u001b[0m\u001b[0mprobB_\u001b[0m\u001b[1;33m,\u001b[0m \u001b[0msvm_type\u001b[0m\u001b[1;33m=\u001b[0m\u001b[0msvm_type\u001b[0m\u001b[1;33m,\u001b[0m \u001b[0mkernel\u001b[0m\u001b[1;33m=\u001b[0m\u001b[0mkernel\u001b[0m\u001b[1;33m,\u001b[0m\u001b[1;33m\u001b[0m\u001b[1;33m\u001b[0m\u001b[0m\n\u001b[0;32m    345\u001b[0m             \u001b[0mdegree\u001b[0m\u001b[1;33m=\u001b[0m\u001b[0mself\u001b[0m\u001b[1;33m.\u001b[0m\u001b[0mdegree\u001b[0m\u001b[1;33m,\u001b[0m \u001b[0mcoef0\u001b[0m\u001b[1;33m=\u001b[0m\u001b[0mself\u001b[0m\u001b[1;33m.\u001b[0m\u001b[0mcoef0\u001b[0m\u001b[1;33m,\u001b[0m \u001b[0mgamma\u001b[0m\u001b[1;33m=\u001b[0m\u001b[0mself\u001b[0m\u001b[1;33m.\u001b[0m\u001b[0m_gamma\u001b[0m\u001b[1;33m,\u001b[0m\u001b[1;33m\u001b[0m\u001b[1;33m\u001b[0m\u001b[0m\n\u001b[1;32m--> 346\u001b[1;33m             cache_size=self.cache_size)\n\u001b[0m\u001b[0;32m    347\u001b[0m \u001b[1;33m\u001b[0m\u001b[0m\n\u001b[0;32m    348\u001b[0m     \u001b[1;32mdef\u001b[0m \u001b[0m_sparse_predict\u001b[0m\u001b[1;33m(\u001b[0m\u001b[0mself\u001b[0m\u001b[1;33m,\u001b[0m \u001b[0mX\u001b[0m\u001b[1;33m)\u001b[0m\u001b[1;33m:\u001b[0m\u001b[1;33m\u001b[0m\u001b[1;33m\u001b[0m\u001b[0m\n",
      "\u001b[1;31mKeyboardInterrupt\u001b[0m: "
     ]
    }
   ],
   "source": [
    "print(model8.score(x_train,y_train))\n",
    "print(model8.score(x_test,y_test))\n",
    "y_pred8 = model8.predict(x_test)\n",
    "print(accuracy_score(y_test,y_pred8))"
   ]
  },
  {
   "cell_type": "code",
   "execution_count": 212,
   "metadata": {},
   "outputs": [
    {
     "data": {
      "image/png": "[encoded data removed]",
      "text/plain": [
       "<Figure size 576x432 with 1 Axes>"
      ]
     },
     "metadata": {},
     "output_type": "display_data"
    }
   ],
   "source": [
    "impotances = model.feature_importances_\n",
    "feature_list = list(zip(model.feature_importances_,train.columns))\n",
    "feature_list.sort(reverse=True)\n",
    "feature_list=feature_list[:20]\n",
    "feature_list.sort(reverse=False)\n",
    "feature_df = pd.DataFrame(feature_list,columns=[\"score\",\"feature\"])\n",
    "plt.figure(figsize=(8,6),facecolor=\"#F0FDFF\")\n",
    "plt.title(\"Feature_Importances : {}\".format(str(model).split(\"(\")[0]), fontsize=\"xx-large\")\n",
    "plt.barh(feature_df[\"feature\"],feature_df[\"score\"],color=\"#4CCDFF\")\n",
    "plt.grid(color=\"#CFE8E1\")"
   ]
  },
  {
   "cell_type": "code",
   "execution_count": 453,
   "metadata": {},
   "outputs": [],
   "source": [
    "pred = model.predict(test)"
   ]
  },
  {
   "cell_type": "code",
   "execution_count": 231,
   "metadata": {},
   "outputs": [
    {
     "name": "stdout",
     "output_type": "stream",
     "text": [
      "3529\n",
      "3405.0\n",
      "3256\n",
      "3598\n",
      "3088\n",
      "3536\n"
     ]
    }
   ],
   "source": [
    "sub_predict = model.predict(test)\n",
    "proba = model.predict_proba(test)\n",
    "df = pd.DataFrame(proba)\n",
    "print(sub_predict.sum())\n",
    "\n",
    "sub_predict2 = model2.predict(test)\n",
    "proba2 = model2.predict_proba(test)\n",
    "df2 = pd.DataFrame(proba2)\n",
    "print(sub_predict2.sum())\n",
    "\n",
    "sub_predict3 = model3.predict(test)\n",
    "proba3 = model3.predict_proba(test)\n",
    "df3 = pd.DataFrame(proba3)\n",
    "print(sub_predict3.sum())\n",
    "\n",
    "sub_predict4 = model4.predict(test)\n",
    "proba4 = model4.predict_proba(test)\n",
    "df4 = pd.DataFrame(proba4)\n",
    "print(sub_predict4.sum())\n",
    "\n",
    "sub_predict5 = model5.predict(test)\n",
    "proba5 = model5.predict_proba(test)\n",
    "df5 = pd.DataFrame(proba5)\n",
    "print(sub_predict5.sum())\n",
    "\n",
    "sub_predict6 = model6.predict(test)\n",
    "proba6 = model6.predict_proba(test)\n",
    "df6 = pd.DataFrame(proba6)\n",
    "print(sub_predict6.sum())"
   ]
  },
  {
   "cell_type": "code",
   "execution_count": 237,
   "metadata": {},
   "outputs": [
    {
     "name": "stdout",
     "output_type": "stream",
     "text": [
      "1 :  2993\n",
      "2 :  1604\n",
      "3 :  1335\n",
      "4 :  1616\n",
      "5 :  1242\n",
      "6 :  1865\n"
     ]
    }
   ],
   "source": [
    "p_list = []\n",
    "for p in df[1]:\n",
    "    if p>0.8:\n",
    "        p_list.append(1)\n",
    "    else:\n",
    "        p_list.append(0)\n",
    "print(\"1 : \", sum(p_list))\n",
    "\n",
    "p2_list = []\n",
    "for p in df2[1]:\n",
    "    if p>0.8:\n",
    "        p2_list.append(1)\n",
    "    else:\n",
    "        p2_list.append(0)\n",
    "print(\"2 : \", sum(p2_list))\n",
    "p3_list = []\n",
    "for p in df3[1]:\n",
    "    if p>0.8:\n",
    "        p3_list.append(1)\n",
    "    else:\n",
    "        p3_list.append(0)\n",
    "print(\"3 : \", sum(p3_list))        \n",
    "p4_list = []\n",
    "for p in df4[1]:\n",
    "    if p>0.8:\n",
    "        p4_list.append(1)\n",
    "    else:\n",
    "        p4_list.append(0)        \n",
    "print(\"4 : \", sum(p4_list))                \n",
    "p5_list = []\n",
    "for p in df5[1]:\n",
    "    if p>0.8:\n",
    "        p5_list.append(1)\n",
    "    else:\n",
    "        p5_list.append(0)         \n",
    "print(\"5 : \", sum(p5_list))               \n",
    "p6_list = []\n",
    "for p in df6[1]:\n",
    "    if p>0.8:\n",
    "        p6_list.append(1)\n",
    "    else:\n",
    "        p6_list.append(0)         \n",
    "print(\"6 : \", sum(p6_list))          "
   ]
  },
  {
   "cell_type": "code",
   "execution_count": 238,
   "metadata": {},
   "outputs": [
    {
     "data": {
      "text/plain": [
       "3320"
      ]
     },
     "execution_count": 238,
     "metadata": {},
     "output_type": "execute_result"
    }
   ],
   "source": [
    "mer_list = []\n",
    "for i in range(len(p_list)) :\n",
    "    if p_list[i] == 1 or p2_list[i] == 1 or p3_list[i] == 1 or p4_list[i] == 1 or p5_list[i] == 1 or p6_list[i] == 1:\n",
    "        mer_list.append(1)\n",
    "    else :\n",
    "        mer_list.append(0)\n",
    "sum(mer_list)"
   ]
  },
  {
   "cell_type": "code",
   "execution_count": 239,
   "metadata": {},
   "outputs": [],
   "source": [
    "sub = pd.read_csv(\"./data/jc1c2/sampleSubmission.csv\",index_col=\"ID\")"
   ]
  },
  {
   "cell_type": "code",
   "execution_count": 240,
   "metadata": {},
   "outputs": [],
   "source": [
    "sub[\"income\"] = mer_list"
   ]
  },
  {
   "cell_type": "code",
   "execution_count": 241,
   "metadata": {},
   "outputs": [],
   "source": [
    "sub.to_csv(\"shiba2.csv\")"
   ]
  },
  {
   "cell_type": "code",
   "execution_count": null,
   "metadata": {},
   "outputs": [],
   "source": []
  }
 ],
 "metadata": {
  "kernelspec": {
   "display_name": "Python 3",
   "language": "python",
   "name": "python3"
  },
  "language_info": {
   "codemirror_mode": {
    "name": "ipython",
    "version": 3
   },
   "file_extension": ".py",
   "mimetype": "text/x-python",
   "name": "python",
   "nbconvert_exporter": "python",
   "pygments_lexer": "ipython3",
   "version": "3.7.4"
  }
 },
 "nbformat": 4,
 "nbformat_minor": 2
}
